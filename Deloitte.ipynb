{
  "cells": [
    {
      "cell_type": "markdown",
      "metadata": {
        "id": "view-in-github",
        "colab_type": "text"
      },
      "source": [
        "<a href=\"https://colab.research.google.com/github/giakomorssi/Deloitte_Project/blob/main/Deloitte.ipynb\" target=\"_parent\"><img src=\"https://colab.research.google.com/assets/colab-badge.svg\" alt=\"Open In Colab\"/></a>"
      ]
    },
    {
      "cell_type": "markdown",
      "source": [
        "# Prima parte"
      ],
      "metadata": {
        "id": "Xy9nzFhvlRoH"
      }
    },
    {
      "cell_type": "markdown",
      "metadata": {
        "id": "E5N-Wqk8cplP"
      },
      "source": [
        "## Import Data"
      ]
    },
    {
      "cell_type": "code",
      "execution_count": null,
      "metadata": {
        "colab": {
          "base_uri": "https://localhost:8080/"
        },
        "id": "aqdEiQ2VAHxr",
        "outputId": "c18dc542-a8bd-4dd7-bcae-5925faeb12bb"
      },
      "outputs": [
        {
          "output_type": "stream",
          "name": "stdout",
          "text": [
            "Drive already mounted at /content/drive; to attempt to forcibly remount, call drive.mount(\"/content/drive\", force_remount=True).\n",
            "Runtime switched to GPU\n",
            "GPU device found: /device:GPU:0\n",
            "Default GPU Device: /device:GPU:0\n"
          ]
        }
      ],
      "source": [
        "from google.colab import drive\n",
        "drive.mount('/content/drive')\n",
        "\n",
        "import pandas as pd\n",
        "\n",
        "# Change Colab runtime to GPU\n",
        "import os\n",
        "os.environ['COLAB_TPU_ADDR'] = ''\n",
        "os.environ['COLAB_GPU_ALLOC'] = '1'\n",
        "os.environ['COLAB_GPU'] = '1'\n",
        "print(\"Runtime switched to GPU\")\n",
        "\n",
        "import tensorflow as tf\n",
        "\n",
        "if not tf.test.gpu_device_name():\n",
        "    print('GPU device not found')\n",
        "else:\n",
        "    print('GPU device found:', tf.test.gpu_device_name())\n",
        "\n",
        "# This code sets the runtime to use the GPU if available\n",
        "if tf.test.gpu_device_name():\n",
        "    print('Default GPU Device: {}'.format(tf.test.gpu_device_name()))\n",
        "else:\n",
        "    print(\"Please install GPU version of TF\")\n",
        "\n",
        "\n",
        "pd.set_option('display.max_columns', None)"
      ]
    },
    {
      "cell_type": "code",
      "execution_count": null,
      "metadata": {
        "id": "1-OfMB8TADIS"
      },
      "outputs": [],
      "source": [
        "df = pd.read_csv('/content/drive/MyDrive/Deloitte/SupplyChainDataset.csv', encoding = 'latin-1')"
      ]
    },
    {
      "cell_type": "markdown",
      "metadata": {
        "id": "rbl5IHavAmrf"
      },
      "source": [
        "## Cleaning"
      ]
    },
    {
      "cell_type": "markdown",
      "metadata": {
        "id": "cQjBufqBJhMb"
      },
      "source": [
        "### Remove Na and Empty Columns"
      ]
    },
    {
      "cell_type": "code",
      "execution_count": null,
      "metadata": {
        "id": "473D-9JaPNX3"
      },
      "outputs": [],
      "source": [
        "df.drop(['Product Description', 'Order Zipcode', 'Customer Email', 'Customer Password'], axis = 1, inplace = True) #empty columns \n",
        "df.dropna(inplace = True) #remove 1 missing value"
      ]
    },
    {
      "cell_type": "code",
      "execution_count": null,
      "metadata": {
        "colab": {
          "base_uri": "https://localhost:8080/"
        },
        "id": "Bi4HwcRhPIti",
        "outputId": "259cd06a-cf2b-4c6e-a85b-e99f34780866"
      },
      "outputs": [
        {
          "output_type": "execute_result",
          "data": {
            "text/plain": [
              "Type                             0\n",
              "Days for shipping (real)         0\n",
              "Days for shipment (scheduled)    0\n",
              "Benefit per order                0\n",
              "Sales per customer               0\n",
              "Delivery Status                  0\n",
              "Late_delivery_risk               0\n",
              "Category Id                      0\n",
              "Category Name                    0\n",
              "Customer City                    0\n",
              "Customer Country                 0\n",
              "Customer Fname                   0\n",
              "Customer Id                      0\n",
              "Customer Lname                   0\n",
              "Customer Segment                 0\n",
              "Customer State                   0\n",
              "Customer Street                  0\n",
              "Customer Zipcode                 0\n",
              "Department Id                    0\n",
              "Department Name                  0\n",
              "Latitude                         0\n",
              "Longitude                        0\n",
              "Market                           0\n",
              "Order City                       0\n",
              "Order Country                    0\n",
              "Order Customer Id                0\n",
              "order date (DateOrders)          0\n",
              "Order Id                         0\n",
              "Order Item Cardprod Id           0\n",
              "Order Item Discount              0\n",
              "Order Item Discount Rate         0\n",
              "Order Item Id                    0\n",
              "Order Item Product Price         0\n",
              "Order Item Profit Ratio          0\n",
              "Order Item Quantity              0\n",
              "Sales                            0\n",
              "Order Item Total                 0\n",
              "Order Profit Per Order           0\n",
              "Order Region                     0\n",
              "Order State                      0\n",
              "Order Status                     0\n",
              "Product Card Id                  0\n",
              "Product Category Id              0\n",
              "Product Image                    0\n",
              "Product Name                     0\n",
              "Product Price                    0\n",
              "Product Status                   0\n",
              "shipping date (DateOrders)       0\n",
              "Shipping Mode                    0\n",
              "dtype: int64"
            ]
          },
          "metadata": {},
          "execution_count": 17
        }
      ],
      "source": [
        "df.isna().sum()"
      ]
    },
    {
      "cell_type": "markdown",
      "metadata": {
        "id": "L-vAsacIQcxA"
      },
      "source": [
        "## Encoding"
      ]
    },
    {
      "cell_type": "markdown",
      "metadata": {
        "id": "51sfyL1ITG8j"
      },
      "source": [
        "### Type"
      ]
    },
    {
      "cell_type": "code",
      "execution_count": null,
      "metadata": {
        "colab": {
          "base_uri": "https://localhost:8080/"
        },
        "id": "TzRArQ7FNspJ",
        "outputId": "d24599dd-84f8-4b0a-ef92-a2380b5d4746"
      },
      "outputs": [
        {
          "output_type": "stream",
          "name": "stdout",
          "text": [
            "0 \n",
            "\n",
            "Original labels: ['CASH' 'DEBIT' 'PAYMENT' 'TRANSFER'] \n",
            "\n"
          ]
        }
      ],
      "source": [
        "# One-hot encode the TYPE variable\n",
        "from sklearn.preprocessing import LabelEncoder\n",
        "\n",
        "le = LabelEncoder()\n",
        "df['Type_Encoded'] = le.fit_transform(df['Type'])\n",
        "\n",
        "col_c = df.pop('Type_Encoded')\n",
        "posizione = df.columns.get_loc(\"Type\")\n",
        "df.insert(posizione+1, 'Type_Encoded', col_c)\n",
        "\n",
        "print(posizione, '\\n')\n",
        "\n",
        "print(\"Original labels:\", le.classes_, '\\n')"
      ]
    },
    {
      "cell_type": "markdown",
      "metadata": {
        "id": "RAEsy1OPTKIw"
      },
      "source": [
        "### Delivery Status"
      ]
    },
    {
      "cell_type": "code",
      "execution_count": null,
      "metadata": {
        "colab": {
          "base_uri": "https://localhost:8080/"
        },
        "id": "d16tlaL0Ta5C",
        "outputId": "5995f2f3-7728-4de7-a8d4-d5d3385eaae9"
      },
      "outputs": [
        {
          "output_type": "stream",
          "name": "stdout",
          "text": [
            "6 \n",
            "\n",
            "Original labels: ['Advance shipping' 'Late delivery' 'Shipping canceled' 'Shipping on time'] \n",
            "\n"
          ]
        }
      ],
      "source": [
        "le = LabelEncoder()\n",
        "df['Delivery Status_Encoded'] = le.fit_transform(df['Delivery Status'])\n",
        "\n",
        "col_c = df.pop('Delivery Status_Encoded')\n",
        "posizione = df.columns.get_loc(\"Delivery Status\")\n",
        "df.insert(posizione+1, 'Delivery Status_Encoded', col_c)\n",
        "\n",
        "print(posizione, '\\n')\n",
        "\n",
        "print(\"Original labels:\", le.classes_, '\\n')"
      ]
    },
    {
      "cell_type": "markdown",
      "metadata": {
        "id": "Ee6qbmhUUAJ4"
      },
      "source": [
        "### Customer Segment"
      ]
    },
    {
      "cell_type": "code",
      "execution_count": null,
      "metadata": {
        "colab": {
          "base_uri": "https://localhost:8080/"
        },
        "id": "TvQOEDLsUEPL",
        "outputId": "b5e44b37-97f4-463a-9b90-cfe95fbd28fd"
      },
      "outputs": [
        {
          "output_type": "stream",
          "name": "stdout",
          "text": [
            "16 \n",
            "\n",
            "Original labels: ['Consumer' 'Corporate' 'Home Office'] \n",
            "\n"
          ]
        }
      ],
      "source": [
        "le = LabelEncoder()\n",
        "df['Customer Segment_Encoded'] = le.fit_transform(df['Customer Segment'])\n",
        "\n",
        "col_c = df.pop('Customer Segment_Encoded')\n",
        "posizione = df.columns.get_loc(\"Customer Segment\")\n",
        "df.insert(posizione+1, 'Customer Segment_Encoded', col_c)\n",
        "\n",
        "print(posizione, '\\n')\n",
        "\n",
        "print(\"Original labels:\", le.classes_, '\\n')"
      ]
    },
    {
      "cell_type": "markdown",
      "metadata": {
        "id": "vdUMBuHUTSTf"
      },
      "source": [
        "### Order Status"
      ]
    },
    {
      "cell_type": "code",
      "execution_count": null,
      "metadata": {
        "colab": {
          "base_uri": "https://localhost:8080/"
        },
        "id": "DHZ26SlPT2Mz",
        "outputId": "e8397427-30a4-4cc9-a949-4ee2317b7602"
      },
      "outputs": [
        {
          "output_type": "stream",
          "name": "stdout",
          "text": [
            "43 \n",
            "\n",
            "Original labels: ['CANCELED' 'CLOSED' 'COMPLETE' 'ON_HOLD' 'PAYMENT_REVIEW' 'PENDING'\n",
            " 'PENDING_PAYMENT' 'PROCESSING' 'SUSPECTED_FRAUD'] \n",
            "\n"
          ]
        }
      ],
      "source": [
        "le = LabelEncoder()\n",
        "df['Order Status_Encoded'] = le.fit_transform(df['Order Status'])\n",
        "\n",
        "col_c = df.pop('Order Status_Encoded')\n",
        "posizione = df.columns.get_loc(\"Order Status\")\n",
        "df.insert(posizione+1, 'Order Status_Encoded', col_c)\n",
        "\n",
        "print(posizione, '\\n')\n",
        "\n",
        "print(\"Original labels:\", le.classes_, '\\n')"
      ]
    },
    {
      "cell_type": "markdown",
      "metadata": {
        "id": "7I0SONd1TVKu"
      },
      "source": [
        "### Shipping Mode"
      ]
    },
    {
      "cell_type": "code",
      "execution_count": null,
      "metadata": {
        "colab": {
          "base_uri": "https://localhost:8080/"
        },
        "id": "8Esxz_p0T24Y",
        "outputId": "da58c2a8-62bf-430b-bbe2-7b6bac9255ea"
      },
      "outputs": [
        {
          "output_type": "stream",
          "name": "stdout",
          "text": [
            "52 \n",
            "\n",
            "Original labels: ['First Class' 'Same Day' 'Second Class' 'Standard Class'] \n",
            "\n"
          ]
        }
      ],
      "source": [
        "le = LabelEncoder()\n",
        "df['Shipping Mode_Encoded'] = le.fit_transform(df['Shipping Mode'])\n",
        "\n",
        "col_c = df.pop('Shipping Mode_Encoded')\n",
        "posizione = df.columns.get_loc(\"Shipping Mode\")\n",
        "df.insert(posizione+1, 'Shipping Mode_Encoded', col_c)\n",
        "\n",
        "print(posizione, '\\n')\n",
        "\n",
        "print(\"Original labels:\", le.classes_, '\\n')"
      ]
    },
    {
      "cell_type": "code",
      "execution_count": null,
      "metadata": {
        "colab": {
          "base_uri": "https://localhost:8080/"
        },
        "id": "RYf2qtVAApjN",
        "outputId": "abb4e507-c54b-44e7-8d7b-919c9a70a192"
      },
      "outputs": [
        {
          "output_type": "execute_result",
          "data": {
            "text/plain": [
              "Index(['Type', 'Type_Encoded', 'Days for shipping (real)',\n",
              "       'Days for shipment (scheduled)', 'Benefit per order',\n",
              "       'Sales per customer', 'Delivery Status', 'Delivery Status_Encoded',\n",
              "       'Late_delivery_risk', 'Category Id', 'Category Name', 'Customer City',\n",
              "       'Customer Country', 'Customer Fname', 'Customer Id', 'Customer Lname',\n",
              "       'Customer Segment', 'Customer Segment_Encoded', 'Customer State',\n",
              "       'Customer Street', 'Customer Zipcode', 'Department Id',\n",
              "       'Department Name', 'Latitude', 'Longitude', 'Market', 'Order City',\n",
              "       'Order Country', 'Order Customer Id', 'order date (DateOrders)',\n",
              "       'Order Id', 'Order Item Cardprod Id', 'Order Item Discount',\n",
              "       'Order Item Discount Rate', 'Order Item Id', 'Order Item Product Price',\n",
              "       'Order Item Profit Ratio', 'Order Item Quantity', 'Sales',\n",
              "       'Order Item Total', 'Order Profit Per Order', 'Order Region',\n",
              "       'Order State', 'Order Status', 'Order Status_Encoded',\n",
              "       'Product Card Id', 'Product Category Id', 'Product Image',\n",
              "       'Product Name', 'Product Price', 'Product Status',\n",
              "       'shipping date (DateOrders)', 'Shipping Mode', 'Shipping Mode_Encoded'],\n",
              "      dtype='object')"
            ]
          },
          "metadata": {},
          "execution_count": 23
        }
      ],
      "source": [
        "df.columns"
      ]
    },
    {
      "cell_type": "code",
      "execution_count": null,
      "metadata": {
        "colab": {
          "base_uri": "https://localhost:8080/"
        },
        "id": "YqzbF0ArXciz",
        "outputId": "f910ecb2-6791-4987-997e-5814de4eab58"
      },
      "outputs": [
        {
          "output_type": "execute_result",
          "data": {
            "text/plain": [
              "       Type  Type_Encoded  Days for shipping (real)  \\\n",
              "0     DEBIT             1                         3   \n",
              "1  TRANSFER             3                         5   \n",
              "2      CASH             0                         4   \n",
              "3     DEBIT             1                         3   \n",
              "4   PAYMENT             2                         2   \n",
              "\n",
              "   Days for shipment (scheduled)  Benefit per order  Sales per customer  \\\n",
              "0                              4          91.250000          314.640015   \n",
              "1                              4        -249.089996          311.359985   \n",
              "2                              4        -247.779999          309.720001   \n",
              "3                              4          22.860001          304.809998   \n",
              "4                              4         134.210007          298.250000   \n",
              "\n",
              "    Delivery Status  Delivery Status_Encoded  Late_delivery_risk  Category Id  \\\n",
              "0  Advance shipping                        0                   0           73   \n",
              "1     Late delivery                        1                   1           73   \n",
              "2  Shipping on time                        3                   0           73   \n",
              "3  Advance shipping                        0                   0           73   \n",
              "4  Advance shipping                        0                   0           73   \n",
              "\n",
              "    Category Name Customer City Customer Country Customer Fname  Customer Id  \\\n",
              "0  Sporting Goods        Caguas      Puerto Rico          Cally        20755   \n",
              "1  Sporting Goods        Caguas      Puerto Rico          Irene        19492   \n",
              "2  Sporting Goods      San Jose          EE. UU.        Gillian        19491   \n",
              "3  Sporting Goods   Los Angeles          EE. UU.           Tana        19490   \n",
              "4  Sporting Goods        Caguas      Puerto Rico           Orli        19489   \n",
              "\n",
              "  Customer Lname Customer Segment  Customer Segment_Encoded Customer State  \\\n",
              "0       Holloway         Consumer                         0             PR   \n",
              "1           Luna         Consumer                         0             PR   \n",
              "2      Maldonado         Consumer                         0             CA   \n",
              "3           Tate      Home Office                         2             CA   \n",
              "4      Hendricks        Corporate                         1             PR   \n",
              "\n",
              "            Customer Street  Customer Zipcode  Department Id Department Name  \\\n",
              "0  5365 Noble Nectar Island             725.0              2         Fitness   \n",
              "1          2679 Rustic Loop             725.0              2         Fitness   \n",
              "2      8510 Round Bear Gate           95125.0              2         Fitness   \n",
              "3           3200 Amber Bend           90027.0              2         Fitness   \n",
              "4  8671 Iron Anchor Corners             725.0              2         Fitness   \n",
              "\n",
              "    Latitude   Longitude        Market  Order City Order Country  \\\n",
              "0  18.251453  -66.037056  Pacific Asia      Bekasi     Indonesia   \n",
              "1  18.279451  -66.037064  Pacific Asia     Bikaner         India   \n",
              "2  37.292233 -121.881279  Pacific Asia     Bikaner         India   \n",
              "3  34.125946 -118.291016  Pacific Asia  Townsville     Australia   \n",
              "4  18.253769  -66.037048  Pacific Asia  Townsville     Australia   \n",
              "\n",
              "   Order Customer Id order date (DateOrders)  Order Id  \\\n",
              "0              20755         1/31/2018 22:56     77202   \n",
              "1              19492         1/13/2018 12:27     75939   \n",
              "2              19491         1/13/2018 12:06     75938   \n",
              "3              19490         1/13/2018 11:45     75937   \n",
              "4              19489         1/13/2018 11:24     75936   \n",
              "\n",
              "   Order Item Cardprod Id  Order Item Discount  Order Item Discount Rate  \\\n",
              "0                    1360            13.110000                      0.04   \n",
              "1                    1360            16.389999                      0.05   \n",
              "2                    1360            18.030001                      0.06   \n",
              "3                    1360            22.940001                      0.07   \n",
              "4                    1360            29.500000                      0.09   \n",
              "\n",
              "   Order Item Id  Order Item Product Price  Order Item Profit Ratio  \\\n",
              "0         180517                    327.75                     0.29   \n",
              "1         179254                    327.75                    -0.80   \n",
              "2         179253                    327.75                    -0.80   \n",
              "3         179252                    327.75                     0.08   \n",
              "4         179251                    327.75                     0.45   \n",
              "\n",
              "   Order Item Quantity   Sales  Order Item Total  Order Profit Per Order  \\\n",
              "0                    1  327.75        314.640015               91.250000   \n",
              "1                    1  327.75        311.359985             -249.089996   \n",
              "2                    1  327.75        309.720001             -247.779999   \n",
              "3                    1  327.75        304.809998               22.860001   \n",
              "4                    1  327.75        298.250000              134.210007   \n",
              "\n",
              "     Order Region      Order State     Order Status  Order Status_Encoded  \\\n",
              "0  Southeast Asia  Java Occidental         COMPLETE                     2   \n",
              "1      South Asia         Rajastán          PENDING                     5   \n",
              "2      South Asia         Rajastán           CLOSED                     1   \n",
              "3         Oceania       Queensland         COMPLETE                     2   \n",
              "4         Oceania       Queensland  PENDING_PAYMENT                     6   \n",
              "\n",
              "   Product Card Id  Product Category Id  \\\n",
              "0             1360                   73   \n",
              "1             1360                   73   \n",
              "2             1360                   73   \n",
              "3             1360                   73   \n",
              "4             1360                   73   \n",
              "\n",
              "                                  Product Image  Product Name  Product Price  \\\n",
              "0  http://images.acmesports.sports/Smart+watch   Smart watch          327.75   \n",
              "1  http://images.acmesports.sports/Smart+watch   Smart watch          327.75   \n",
              "2  http://images.acmesports.sports/Smart+watch   Smart watch          327.75   \n",
              "3  http://images.acmesports.sports/Smart+watch   Smart watch          327.75   \n",
              "4  http://images.acmesports.sports/Smart+watch   Smart watch          327.75   \n",
              "\n",
              "   Product Status shipping date (DateOrders)   Shipping Mode  \\\n",
              "0               0             2/3/2018 22:56  Standard Class   \n",
              "1               0            1/18/2018 12:27  Standard Class   \n",
              "2               0            1/17/2018 12:06  Standard Class   \n",
              "3               0            1/16/2018 11:45  Standard Class   \n",
              "4               0            1/15/2018 11:24  Standard Class   \n",
              "\n",
              "   Shipping Mode_Encoded  \n",
              "0                      3  \n",
              "1                      3  \n",
              "2                      3  \n",
              "3                      3  \n",
              "4                      3  "
            ],
            "text/html": [
              "\n",
              "  <div id=\"df-b8adaabc-0879-48f7-8b21-8c973a9787f6\">\n",
              "    <div class=\"colab-df-container\">\n",
              "      <div>\n",
              "<style scoped>\n",
              "    .dataframe tbody tr th:only-of-type {\n",
              "        vertical-align: middle;\n",
              "    }\n",
              "\n",
              "    .dataframe tbody tr th {\n",
              "        vertical-align: top;\n",
              "    }\n",
              "\n",
              "    .dataframe thead th {\n",
              "        text-align: right;\n",
              "    }\n",
              "</style>\n",
              "<table border=\"1\" class=\"dataframe\">\n",
              "  <thead>\n",
              "    <tr style=\"text-align: right;\">\n",
              "      <th></th>\n",
              "      <th>Type</th>\n",
              "      <th>Type_Encoded</th>\n",
              "      <th>Days for shipping (real)</th>\n",
              "      <th>Days for shipment (scheduled)</th>\n",
              "      <th>Benefit per order</th>\n",
              "      <th>Sales per customer</th>\n",
              "      <th>Delivery Status</th>\n",
              "      <th>Delivery Status_Encoded</th>\n",
              "      <th>Late_delivery_risk</th>\n",
              "      <th>Category Id</th>\n",
              "      <th>Category Name</th>\n",
              "      <th>Customer City</th>\n",
              "      <th>Customer Country</th>\n",
              "      <th>Customer Fname</th>\n",
              "      <th>Customer Id</th>\n",
              "      <th>Customer Lname</th>\n",
              "      <th>Customer Segment</th>\n",
              "      <th>Customer Segment_Encoded</th>\n",
              "      <th>Customer State</th>\n",
              "      <th>Customer Street</th>\n",
              "      <th>Customer Zipcode</th>\n",
              "      <th>Department Id</th>\n",
              "      <th>Department Name</th>\n",
              "      <th>Latitude</th>\n",
              "      <th>Longitude</th>\n",
              "      <th>Market</th>\n",
              "      <th>Order City</th>\n",
              "      <th>Order Country</th>\n",
              "      <th>Order Customer Id</th>\n",
              "      <th>order date (DateOrders)</th>\n",
              "      <th>Order Id</th>\n",
              "      <th>Order Item Cardprod Id</th>\n",
              "      <th>Order Item Discount</th>\n",
              "      <th>Order Item Discount Rate</th>\n",
              "      <th>Order Item Id</th>\n",
              "      <th>Order Item Product Price</th>\n",
              "      <th>Order Item Profit Ratio</th>\n",
              "      <th>Order Item Quantity</th>\n",
              "      <th>Sales</th>\n",
              "      <th>Order Item Total</th>\n",
              "      <th>Order Profit Per Order</th>\n",
              "      <th>Order Region</th>\n",
              "      <th>Order State</th>\n",
              "      <th>Order Status</th>\n",
              "      <th>Order Status_Encoded</th>\n",
              "      <th>Product Card Id</th>\n",
              "      <th>Product Category Id</th>\n",
              "      <th>Product Image</th>\n",
              "      <th>Product Name</th>\n",
              "      <th>Product Price</th>\n",
              "      <th>Product Status</th>\n",
              "      <th>shipping date (DateOrders)</th>\n",
              "      <th>Shipping Mode</th>\n",
              "      <th>Shipping Mode_Encoded</th>\n",
              "    </tr>\n",
              "  </thead>\n",
              "  <tbody>\n",
              "    <tr>\n",
              "      <th>0</th>\n",
              "      <td>DEBIT</td>\n",
              "      <td>1</td>\n",
              "      <td>3</td>\n",
              "      <td>4</td>\n",
              "      <td>91.250000</td>\n",
              "      <td>314.640015</td>\n",
              "      <td>Advance shipping</td>\n",
              "      <td>0</td>\n",
              "      <td>0</td>\n",
              "      <td>73</td>\n",
              "      <td>Sporting Goods</td>\n",
              "      <td>Caguas</td>\n",
              "      <td>Puerto Rico</td>\n",
              "      <td>Cally</td>\n",
              "      <td>20755</td>\n",
              "      <td>Holloway</td>\n",
              "      <td>Consumer</td>\n",
              "      <td>0</td>\n",
              "      <td>PR</td>\n",
              "      <td>5365 Noble Nectar Island</td>\n",
              "      <td>725.0</td>\n",
              "      <td>2</td>\n",
              "      <td>Fitness</td>\n",
              "      <td>18.251453</td>\n",
              "      <td>-66.037056</td>\n",
              "      <td>Pacific Asia</td>\n",
              "      <td>Bekasi</td>\n",
              "      <td>Indonesia</td>\n",
              "      <td>20755</td>\n",
              "      <td>1/31/2018 22:56</td>\n",
              "      <td>77202</td>\n",
              "      <td>1360</td>\n",
              "      <td>13.110000</td>\n",
              "      <td>0.04</td>\n",
              "      <td>180517</td>\n",
              "      <td>327.75</td>\n",
              "      <td>0.29</td>\n",
              "      <td>1</td>\n",
              "      <td>327.75</td>\n",
              "      <td>314.640015</td>\n",
              "      <td>91.250000</td>\n",
              "      <td>Southeast Asia</td>\n",
              "      <td>Java Occidental</td>\n",
              "      <td>COMPLETE</td>\n",
              "      <td>2</td>\n",
              "      <td>1360</td>\n",
              "      <td>73</td>\n",
              "      <td>http://images.acmesports.sports/Smart+watch</td>\n",
              "      <td>Smart watch</td>\n",
              "      <td>327.75</td>\n",
              "      <td>0</td>\n",
              "      <td>2/3/2018 22:56</td>\n",
              "      <td>Standard Class</td>\n",
              "      <td>3</td>\n",
              "    </tr>\n",
              "    <tr>\n",
              "      <th>1</th>\n",
              "      <td>TRANSFER</td>\n",
              "      <td>3</td>\n",
              "      <td>5</td>\n",
              "      <td>4</td>\n",
              "      <td>-249.089996</td>\n",
              "      <td>311.359985</td>\n",
              "      <td>Late delivery</td>\n",
              "      <td>1</td>\n",
              "      <td>1</td>\n",
              "      <td>73</td>\n",
              "      <td>Sporting Goods</td>\n",
              "      <td>Caguas</td>\n",
              "      <td>Puerto Rico</td>\n",
              "      <td>Irene</td>\n",
              "      <td>19492</td>\n",
              "      <td>Luna</td>\n",
              "      <td>Consumer</td>\n",
              "      <td>0</td>\n",
              "      <td>PR</td>\n",
              "      <td>2679 Rustic Loop</td>\n",
              "      <td>725.0</td>\n",
              "      <td>2</td>\n",
              "      <td>Fitness</td>\n",
              "      <td>18.279451</td>\n",
              "      <td>-66.037064</td>\n",
              "      <td>Pacific Asia</td>\n",
              "      <td>Bikaner</td>\n",
              "      <td>India</td>\n",
              "      <td>19492</td>\n",
              "      <td>1/13/2018 12:27</td>\n",
              "      <td>75939</td>\n",
              "      <td>1360</td>\n",
              "      <td>16.389999</td>\n",
              "      <td>0.05</td>\n",
              "      <td>179254</td>\n",
              "      <td>327.75</td>\n",
              "      <td>-0.80</td>\n",
              "      <td>1</td>\n",
              "      <td>327.75</td>\n",
              "      <td>311.359985</td>\n",
              "      <td>-249.089996</td>\n",
              "      <td>South Asia</td>\n",
              "      <td>Rajastán</td>\n",
              "      <td>PENDING</td>\n",
              "      <td>5</td>\n",
              "      <td>1360</td>\n",
              "      <td>73</td>\n",
              "      <td>http://images.acmesports.sports/Smart+watch</td>\n",
              "      <td>Smart watch</td>\n",
              "      <td>327.75</td>\n",
              "      <td>0</td>\n",
              "      <td>1/18/2018 12:27</td>\n",
              "      <td>Standard Class</td>\n",
              "      <td>3</td>\n",
              "    </tr>\n",
              "    <tr>\n",
              "      <th>2</th>\n",
              "      <td>CASH</td>\n",
              "      <td>0</td>\n",
              "      <td>4</td>\n",
              "      <td>4</td>\n",
              "      <td>-247.779999</td>\n",
              "      <td>309.720001</td>\n",
              "      <td>Shipping on time</td>\n",
              "      <td>3</td>\n",
              "      <td>0</td>\n",
              "      <td>73</td>\n",
              "      <td>Sporting Goods</td>\n",
              "      <td>San Jose</td>\n",
              "      <td>EE. UU.</td>\n",
              "      <td>Gillian</td>\n",
              "      <td>19491</td>\n",
              "      <td>Maldonado</td>\n",
              "      <td>Consumer</td>\n",
              "      <td>0</td>\n",
              "      <td>CA</td>\n",
              "      <td>8510 Round Bear Gate</td>\n",
              "      <td>95125.0</td>\n",
              "      <td>2</td>\n",
              "      <td>Fitness</td>\n",
              "      <td>37.292233</td>\n",
              "      <td>-121.881279</td>\n",
              "      <td>Pacific Asia</td>\n",
              "      <td>Bikaner</td>\n",
              "      <td>India</td>\n",
              "      <td>19491</td>\n",
              "      <td>1/13/2018 12:06</td>\n",
              "      <td>75938</td>\n",
              "      <td>1360</td>\n",
              "      <td>18.030001</td>\n",
              "      <td>0.06</td>\n",
              "      <td>179253</td>\n",
              "      <td>327.75</td>\n",
              "      <td>-0.80</td>\n",
              "      <td>1</td>\n",
              "      <td>327.75</td>\n",
              "      <td>309.720001</td>\n",
              "      <td>-247.779999</td>\n",
              "      <td>South Asia</td>\n",
              "      <td>Rajastán</td>\n",
              "      <td>CLOSED</td>\n",
              "      <td>1</td>\n",
              "      <td>1360</td>\n",
              "      <td>73</td>\n",
              "      <td>http://images.acmesports.sports/Smart+watch</td>\n",
              "      <td>Smart watch</td>\n",
              "      <td>327.75</td>\n",
              "      <td>0</td>\n",
              "      <td>1/17/2018 12:06</td>\n",
              "      <td>Standard Class</td>\n",
              "      <td>3</td>\n",
              "    </tr>\n",
              "    <tr>\n",
              "      <th>3</th>\n",
              "      <td>DEBIT</td>\n",
              "      <td>1</td>\n",
              "      <td>3</td>\n",
              "      <td>4</td>\n",
              "      <td>22.860001</td>\n",
              "      <td>304.809998</td>\n",
              "      <td>Advance shipping</td>\n",
              "      <td>0</td>\n",
              "      <td>0</td>\n",
              "      <td>73</td>\n",
              "      <td>Sporting Goods</td>\n",
              "      <td>Los Angeles</td>\n",
              "      <td>EE. UU.</td>\n",
              "      <td>Tana</td>\n",
              "      <td>19490</td>\n",
              "      <td>Tate</td>\n",
              "      <td>Home Office</td>\n",
              "      <td>2</td>\n",
              "      <td>CA</td>\n",
              "      <td>3200 Amber Bend</td>\n",
              "      <td>90027.0</td>\n",
              "      <td>2</td>\n",
              "      <td>Fitness</td>\n",
              "      <td>34.125946</td>\n",
              "      <td>-118.291016</td>\n",
              "      <td>Pacific Asia</td>\n",
              "      <td>Townsville</td>\n",
              "      <td>Australia</td>\n",
              "      <td>19490</td>\n",
              "      <td>1/13/2018 11:45</td>\n",
              "      <td>75937</td>\n",
              "      <td>1360</td>\n",
              "      <td>22.940001</td>\n",
              "      <td>0.07</td>\n",
              "      <td>179252</td>\n",
              "      <td>327.75</td>\n",
              "      <td>0.08</td>\n",
              "      <td>1</td>\n",
              "      <td>327.75</td>\n",
              "      <td>304.809998</td>\n",
              "      <td>22.860001</td>\n",
              "      <td>Oceania</td>\n",
              "      <td>Queensland</td>\n",
              "      <td>COMPLETE</td>\n",
              "      <td>2</td>\n",
              "      <td>1360</td>\n",
              "      <td>73</td>\n",
              "      <td>http://images.acmesports.sports/Smart+watch</td>\n",
              "      <td>Smart watch</td>\n",
              "      <td>327.75</td>\n",
              "      <td>0</td>\n",
              "      <td>1/16/2018 11:45</td>\n",
              "      <td>Standard Class</td>\n",
              "      <td>3</td>\n",
              "    </tr>\n",
              "    <tr>\n",
              "      <th>4</th>\n",
              "      <td>PAYMENT</td>\n",
              "      <td>2</td>\n",
              "      <td>2</td>\n",
              "      <td>4</td>\n",
              "      <td>134.210007</td>\n",
              "      <td>298.250000</td>\n",
              "      <td>Advance shipping</td>\n",
              "      <td>0</td>\n",
              "      <td>0</td>\n",
              "      <td>73</td>\n",
              "      <td>Sporting Goods</td>\n",
              "      <td>Caguas</td>\n",
              "      <td>Puerto Rico</td>\n",
              "      <td>Orli</td>\n",
              "      <td>19489</td>\n",
              "      <td>Hendricks</td>\n",
              "      <td>Corporate</td>\n",
              "      <td>1</td>\n",
              "      <td>PR</td>\n",
              "      <td>8671 Iron Anchor Corners</td>\n",
              "      <td>725.0</td>\n",
              "      <td>2</td>\n",
              "      <td>Fitness</td>\n",
              "      <td>18.253769</td>\n",
              "      <td>-66.037048</td>\n",
              "      <td>Pacific Asia</td>\n",
              "      <td>Townsville</td>\n",
              "      <td>Australia</td>\n",
              "      <td>19489</td>\n",
              "      <td>1/13/2018 11:24</td>\n",
              "      <td>75936</td>\n",
              "      <td>1360</td>\n",
              "      <td>29.500000</td>\n",
              "      <td>0.09</td>\n",
              "      <td>179251</td>\n",
              "      <td>327.75</td>\n",
              "      <td>0.45</td>\n",
              "      <td>1</td>\n",
              "      <td>327.75</td>\n",
              "      <td>298.250000</td>\n",
              "      <td>134.210007</td>\n",
              "      <td>Oceania</td>\n",
              "      <td>Queensland</td>\n",
              "      <td>PENDING_PAYMENT</td>\n",
              "      <td>6</td>\n",
              "      <td>1360</td>\n",
              "      <td>73</td>\n",
              "      <td>http://images.acmesports.sports/Smart+watch</td>\n",
              "      <td>Smart watch</td>\n",
              "      <td>327.75</td>\n",
              "      <td>0</td>\n",
              "      <td>1/15/2018 11:24</td>\n",
              "      <td>Standard Class</td>\n",
              "      <td>3</td>\n",
              "    </tr>\n",
              "  </tbody>\n",
              "</table>\n",
              "</div>\n",
              "      <button class=\"colab-df-convert\" onclick=\"convertToInteractive('df-b8adaabc-0879-48f7-8b21-8c973a9787f6')\"\n",
              "              title=\"Convert this dataframe to an interactive table.\"\n",
              "              style=\"display:none;\">\n",
              "        \n",
              "  <svg xmlns=\"http://www.w3.org/2000/svg\" height=\"24px\"viewBox=\"0 0 24 24\"\n",
              "       width=\"24px\">\n",
              "    <path d=\"M0 0h24v24H0V0z\" fill=\"none\"/>\n",
              "    <path d=\"M18.56 5.44l.94 2.06.94-2.06 2.06-.94-2.06-.94-.94-2.06-.94 2.06-2.06.94zm-11 1L8.5 8.5l.94-2.06 2.06-.94-2.06-.94L8.5 2.5l-.94 2.06-2.06.94zm10 10l.94 2.06.94-2.06 2.06-.94-2.06-.94-.94-2.06-.94 2.06-2.06.94z\"/><path d=\"M17.41 7.96l-1.37-1.37c-.4-.4-.92-.59-1.43-.59-.52 0-1.04.2-1.43.59L10.3 9.45l-7.72 7.72c-.78.78-.78 2.05 0 2.83L4 21.41c.39.39.9.59 1.41.59.51 0 1.02-.2 1.41-.59l7.78-7.78 2.81-2.81c.8-.78.8-2.07 0-2.86zM5.41 20L4 18.59l7.72-7.72 1.47 1.35L5.41 20z\"/>\n",
              "  </svg>\n",
              "      </button>\n",
              "      \n",
              "  <style>\n",
              "    .colab-df-container {\n",
              "      display:flex;\n",
              "      flex-wrap:wrap;\n",
              "      gap: 12px;\n",
              "    }\n",
              "\n",
              "    .colab-df-convert {\n",
              "      background-color: #E8F0FE;\n",
              "      border: none;\n",
              "      border-radius: 50%;\n",
              "      cursor: pointer;\n",
              "      display: none;\n",
              "      fill: #1967D2;\n",
              "      height: 32px;\n",
              "      padding: 0 0 0 0;\n",
              "      width: 32px;\n",
              "    }\n",
              "\n",
              "    .colab-df-convert:hover {\n",
              "      background-color: #E2EBFA;\n",
              "      box-shadow: 0px 1px 2px rgba(60, 64, 67, 0.3), 0px 1px 3px 1px rgba(60, 64, 67, 0.15);\n",
              "      fill: #174EA6;\n",
              "    }\n",
              "\n",
              "    [theme=dark] .colab-df-convert {\n",
              "      background-color: #3B4455;\n",
              "      fill: #D2E3FC;\n",
              "    }\n",
              "\n",
              "    [theme=dark] .colab-df-convert:hover {\n",
              "      background-color: #434B5C;\n",
              "      box-shadow: 0px 1px 3px 1px rgba(0, 0, 0, 0.15);\n",
              "      filter: drop-shadow(0px 1px 2px rgba(0, 0, 0, 0.3));\n",
              "      fill: #FFFFFF;\n",
              "    }\n",
              "  </style>\n",
              "\n",
              "      <script>\n",
              "        const buttonEl =\n",
              "          document.querySelector('#df-b8adaabc-0879-48f7-8b21-8c973a9787f6 button.colab-df-convert');\n",
              "        buttonEl.style.display =\n",
              "          google.colab.kernel.accessAllowed ? 'block' : 'none';\n",
              "\n",
              "        async function convertToInteractive(key) {\n",
              "          const element = document.querySelector('#df-b8adaabc-0879-48f7-8b21-8c973a9787f6');\n",
              "          const dataTable =\n",
              "            await google.colab.kernel.invokeFunction('convertToInteractive',\n",
              "                                                     [key], {});\n",
              "          if (!dataTable) return;\n",
              "\n",
              "          const docLinkHtml = 'Like what you see? Visit the ' +\n",
              "            '<a target=\"_blank\" href=https://colab.research.google.com/notebooks/data_table.ipynb>data table notebook</a>'\n",
              "            + ' to learn more about interactive tables.';\n",
              "          element.innerHTML = '';\n",
              "          dataTable['output_type'] = 'display_data';\n",
              "          await google.colab.output.renderOutput(dataTable, element);\n",
              "          const docLink = document.createElement('div');\n",
              "          docLink.innerHTML = docLinkHtml;\n",
              "          element.appendChild(docLink);\n",
              "        }\n",
              "      </script>\n",
              "    </div>\n",
              "  </div>\n",
              "  "
            ]
          },
          "metadata": {},
          "execution_count": 24
        }
      ],
      "source": [
        "df.head()"
      ]
    },
    {
      "cell_type": "markdown",
      "metadata": {
        "id": "zhnOheFoYLgf"
      },
      "source": [
        "## Check Columns"
      ]
    },
    {
      "cell_type": "markdown",
      "metadata": {
        "id": "pV0U1pphYN0I"
      },
      "source": [
        "### Benefit Per Order and Order Profit Per Order"
      ]
    },
    {
      "cell_type": "code",
      "execution_count": null,
      "metadata": {
        "id": "OkeAoY0uaxX1"
      },
      "outputs": [],
      "source": [
        "# these two columns are the same\n",
        "(df['Order Profit Per Order'] == df['Benefit per order']).sum()\n",
        "\n",
        "#remove one\n",
        "df.drop(['Order Profit Per Order'], inplace = True, axis = 1)"
      ]
    },
    {
      "cell_type": "code",
      "execution_count": null,
      "metadata": {
        "colab": {
          "base_uri": "https://localhost:8080/"
        },
        "id": "2VIMJAMaApgo",
        "outputId": "a08195a6-2916-4d30-9567-74904937b619"
      },
      "outputs": [
        {
          "output_type": "execute_result",
          "data": {
            "text/plain": [
              "33782"
            ]
          },
          "metadata": {},
          "execution_count": 26
        }
      ],
      "source": [
        "len([x for x in df['Benefit per order'] if x < 0])\n",
        "# decide what to do with negatives"
      ]
    },
    {
      "cell_type": "markdown",
      "metadata": {
        "id": "j3WxReGo7xAS"
      },
      "source": [
        "# Fraud Detection"
      ]
    },
    {
      "cell_type": "markdown",
      "metadata": {
        "id": "WvTPRGvXcNIh"
      },
      "source": [
        "## Fraud Column 3 Classes"
      ]
    },
    {
      "cell_type": "markdown",
      "metadata": {
        "id": "AlI1icKTdbwx"
      },
      "source": [
        "### Order Status\n"
      ]
    },
    {
      "cell_type": "markdown",
      "source": [
        "\n",
        "1. **COMPLETE:** The order or transaction has been successfully fulfilled and completed.\n",
        "2. **PENDING**: The order or transaction is still in progress and has not yet been completed.\n",
        "3. **CLOSED**: The order or transaction has been closed or terminated for some reason, such as a return or cancellation.\n",
        "4. **PENDING_PAYMENT**: The order or transaction is awaiting payment before it can be processed.\n",
        "5. **CANCELED**: The order or transaction has been canceled by the customer or the seller for some reason.\n",
        "6. **PROCESSING**: The order or transaction is being processed by the seller or merchant.\n",
        "7. **SUSPECTED_FRAUD**: The order or transaction is under review due to suspected fraudulent activity.\n",
        "8. **ON_HOLD**: The order or transaction has been placed on hold for some reason, such as a delay in shipping or a credit hold.\n",
        "9. **PAYMENT_REVIEW**: The payment for the order or transaction is under review by the payment processor or financial institution."
      ],
      "metadata": {
        "id": "36TTH77i6wYn"
      }
    },
    {
      "cell_type": "code",
      "execution_count": null,
      "metadata": {
        "id": "GbpeZWoTdJOs"
      },
      "outputs": [],
      "source": [
        "# Regular -> Complete, Pending, Pending_Payment, Processing\n",
        "# Suspected -> Closed, Canceled, On_Hold, Payment_Review\n",
        "# Fraud -> Suspected_Fraud\n",
        "\n",
        "# define dictionaries to map status values to categories\n",
        "regular_dict = {'COMPLETE': 'Regular', 'PENDING': 'Regular', 'PENDING_PAYMENT': 'Regular', 'PROCESSING': 'Regular'}\n",
        "suspected_dict = {'CLOSED': 'Suspected', 'CANCELED': 'Suspected', 'ON_HOLD': 'Suspected', 'PAYMENT_REVIEW': 'Suspected'}\n",
        "fraud_dict = {'SUSPECTED_FRAUD': 'Fraud'}\n",
        "\n",
        "# create a function to map status values to categories\n",
        "def map_category(status):\n",
        "    if status in regular_dict:\n",
        "        return regular_dict[status]\n",
        "    elif status in suspected_dict:\n",
        "        return suspected_dict[status]\n",
        "    elif status in fraud_dict:\n",
        "        return fraud_dict[status]\n",
        "    else:\n",
        "        return 'Unknown'\n",
        "\n",
        "# apply the function to the 'status' column to create a new 'category' column\n",
        "df['Category'] = df['Order Status'].apply(map_category)"
      ]
    },
    {
      "cell_type": "code",
      "execution_count": null,
      "metadata": {
        "colab": {
          "base_uri": "https://localhost:8080/"
        },
        "id": "BUcETFhmg_NZ",
        "outputId": "fa4bbdaa-8714-4e35-caf8-97bfdb652894"
      },
      "outputs": [
        {
          "output_type": "stream",
          "name": "stdout",
          "text": [
            "53 \n",
            "\n",
            "Original labels: ['Fraud' 'Regular' 'Suspected'] \n",
            "\n",
            "labels: \n",
            " 0         1\n",
            "1         1\n",
            "2         2\n",
            "3         1\n",
            "4         1\n",
            "         ..\n",
            "180514    2\n",
            "180515    1\n",
            "180516    1\n",
            "180517    1\n",
            "180518    1\n",
            "Name: Category_Encoded, Length: 180508, dtype: int64 \n",
            "\n"
          ]
        }
      ],
      "source": [
        "le = LabelEncoder()\n",
        "df['Category_Encoded'] = le.fit_transform(df['Category'])\n",
        "\n",
        "col_c = df.pop('Category_Encoded')\n",
        "posizione = df.columns.get_loc(\"Category\")\n",
        "df.insert(posizione+1, 'Category_Encoded', col_c)\n",
        "\n",
        "print(posizione, '\\n')\n",
        "\n",
        "print(\"Original labels:\", le.classes_, '\\n')\n",
        "print(\"labels:\", '\\n',df['Category_Encoded'], '\\n')"
      ]
    },
    {
      "cell_type": "code",
      "execution_count": null,
      "metadata": {
        "colab": {
          "base_uri": "https://localhost:8080/"
        },
        "id": "06YRcT-NeZZv",
        "outputId": "47737743-ae76-4b17-8950-12763f4def47"
      },
      "outputs": [
        {
          "output_type": "stream",
          "name": "stdout",
          "text": [
            "Regular:  141442 \n",
            "\n",
            "Suspected:  35004 \n",
            "\n",
            "Fraud:  4062\n"
          ]
        }
      ],
      "source": [
        "print('Regular: ', len([x for x in df['Category'] if x == 'Regular']), '\\n')\n",
        "print('Suspected: ', len([x for x in df['Category'] if x == 'Suspected']), '\\n')\n",
        "print('Fraud: ', len([x for x in df['Category'] if x == 'Fraud']))"
      ]
    },
    {
      "cell_type": "code",
      "execution_count": null,
      "metadata": {
        "id": "t3bLVlSsqMRH"
      },
      "outputs": [],
      "source": [
        "# df.to_csv('Deloitte.csv')"
      ]
    },
    {
      "cell_type": "markdown",
      "metadata": {
        "id": "pI1vItFL6Z3G"
      },
      "source": [
        "### Data preprocessing\n"
      ]
    },
    {
      "cell_type": "code",
      "execution_count": null,
      "metadata": {
        "id": "8StQ6CiQ6cgR"
      },
      "outputs": [],
      "source": [
        "from sklearn.model_selection import train_test_split\n",
        "from sklearn.preprocessing import StandardScaler\n",
        "\n",
        "s = StandardScaler()\n",
        "\n",
        "df_nn = df.drop(['Type', 'Delivery Status', 'Category Name', 'Customer City',\n",
        "       'Customer Country', 'Customer Fname', 'Customer Id', 'Customer Lname',\n",
        "       'Customer Segment', 'Customer State',\t'Customer Street', 'Department Name', \n",
        "       'Market', 'Order City', 'Order Country', 'Order Customer Id', 'Order Region',\t\n",
        "       'Order State', 'Order Status', 'Product Image',\t'Product Name', 'Shipping Mode', 'Category',\n",
        "       'shipping date (DateOrders)', 'order date (DateOrders)', 'Category Id', 'Customer Zipcode', \n",
        "       'Department Id', 'Latitude',\t'Longitude', 'Order Id',\t'Order Item Cardprod Id',\n",
        "       'Order Item Id', 'Product Card Id', 'Product Category Id'], axis = 1)\n",
        "\n",
        "X = df_nn.drop('Category_Encoded', axis = 1)\n",
        "y = df_nn['Category_Encoded']\n",
        "\n",
        "X = s.fit_transform(X)"
      ]
    },
    {
      "cell_type": "code",
      "execution_count": null,
      "metadata": {
        "id": "gDie0Dl_-BpZ"
      },
      "outputs": [],
      "source": []
    },
    {
      "cell_type": "code",
      "source": [
        "y.value_counts()"
      ],
      "metadata": {
        "colab": {
          "base_uri": "https://localhost:8080/"
        },
        "id": "zQKhv5KRrgqb",
        "outputId": "d5268823-954b-45e3-be53-f39d49b7f6fb"
      },
      "execution_count": null,
      "outputs": [
        {
          "output_type": "execute_result",
          "data": {
            "text/plain": [
              "1    141442\n",
              "2     35004\n",
              "0      4062\n",
              "Name: Category_Encoded, dtype: int64"
            ]
          },
          "metadata": {},
          "execution_count": 32
        }
      ]
    },
    {
      "cell_type": "markdown",
      "source": [
        "### PCA"
      ],
      "metadata": {
        "id": "gP-BKkkEk-q2"
      }
    },
    {
      "cell_type": "code",
      "source": [
        "import numpy as np\n",
        "import pandas as pd\n",
        "import matplotlib.pyplot as plt\n",
        "from sklearn.decomposition import PCA\n",
        "\n",
        "# Initialize a PCA object\n",
        "pca = PCA()\n",
        "\n",
        "# Fit the PCA object to the data\n",
        "pca.fit(X)\n",
        "\n",
        "# Create a scree plot\n",
        "num_components = len(pca.explained_variance_ratio_)\n",
        "plt.plot(np.arange(1, num_components+1), pca.explained_variance_ratio_, 'ro-', linewidth=2)\n",
        "plt.title('Scree Plot')\n",
        "plt.xlabel('Principal Component')\n",
        "plt.ylabel('Proportion of Variance Explained')\n",
        "plt.show()\n",
        "\n",
        "# Determine the number of components to keep\n",
        "variance_threshold = 0.95\n",
        "cumulative_variance_ratio = np.cumsum(pca.explained_variance_ratio_)\n",
        "num_components_to_keep = np.argmax(cumulative_variance_ratio >= variance_threshold) + 1\n",
        "\n",
        "print(f'Number of components to keep: {num_components_to_keep}')\n",
        "\n",
        "# Transform the data using the chosen number of components\n",
        "pca = PCA(n_components=num_components_to_keep)\n",
        "X_pca = pca.fit_transform(X)"
      ],
      "metadata": {
        "colab": {
          "base_uri": "https://localhost:8080/"
        },
        "id": "1SvNIBXmlAWL",
        "outputId": "b016a5f4-fac4-4b95-8ded-6238f31c664e"
      },
      "execution_count": null,
      "outputs": [
        {
          "output_type": "display_data",
          "data": {
            "text/plain": [
              "<Figure size 432x288 with 1 Axes>"
            ],
            "image/png": "[encoded data removed]"
          },
          "metadata": {
            "needs_background": "light"
          }
        },
        {
          "output_type": "stream",
          "name": "stdout",
          "text": [
            "Number of components to keep: 9\n"
          ]
        }
      ]
    },
    {
      "cell_type": "markdown",
      "source": [
        "### Split the data into training and test sets"
      ],
      "metadata": {
        "id": "74MAJ4jGrAR0"
      }
    },
    {
      "cell_type": "code",
      "source": [
        "X_train, X_test, y_train, y_test = train_test_split(X_pca, y, test_size=0.2, random_state=4, stratify=y)"
      ],
      "metadata": {
        "id": "-oa9fb9YrC5g"
      },
      "execution_count": null,
      "outputs": []
    },
    {
      "cell_type": "code",
      "source": [
        "w_f = y_train.value_counts()[0] / len(y_train)\n",
        "w_r = y_train.value_counts()[1] / len(y_train)\n",
        "w_s = y_train.value_counts()[2] / len(y_train)\n",
        "\n",
        "\n",
        "print(f\"Fraudulant transaction weight: {w_f}\")\n",
        "print(f\"Non-Fraudulant transaction weight: {w_r}\")\n",
        "print(f\"Suspected transaction weight: {w_s}\")"
      ],
      "metadata": {
        "colab": {
          "base_uri": "https://localhost:8080/"
        },
        "id": "JmI_gNVIURbO",
        "outputId": "8109c1e7-6771-48d0-d938-fee7821dcc5c"
      },
      "execution_count": null,
      "outputs": [
        {
          "output_type": "stream",
          "name": "stdout",
          "text": [
            "Fraudulant transaction weight: 0.022505990055814856\n",
            "Non-Fraudulant transaction weight: 0.7835754747032672\n",
            "Suspected transaction weight: 0.19391853524091796\n"
          ]
        }
      ]
    },
    {
      "cell_type": "code",
      "source": [
        "print(f\"TRAINING: X_train: {X_train.shape}, y_train: {y_train.shape}\\n\")\n",
        "print(f\"TESTING: X_test: {X_test.shape}, y_test: {y_test.shape}\")"
      ],
      "metadata": {
        "colab": {
          "base_uri": "https://localhost:8080/"
        },
        "id": "PuCDn8wXUVEs",
        "outputId": "5294494c-bd4f-4538-a241-7fdc0c83fdff"
      },
      "execution_count": null,
      "outputs": [
        {
          "output_type": "stream",
          "name": "stdout",
          "text": [
            "TRAINING: X_train: (144406, 9), y_train: (144406,)\n",
            "\n",
            "TESTING: X_test: (36102, 9), y_test: (36102,)\n"
          ]
        }
      ]
    },
    {
      "cell_type": "markdown",
      "source": [
        "### Grid Search XGBoost Model"
      ],
      "metadata": {
        "id": "l_WEM21a5ziY"
      }
    },
    {
      "cell_type": "code",
      "source": [
        "'''import pandas as pd\n",
        "from xgboost import XGBClassifier\n",
        "from sklearn.model_selection import train_test_split, GridSearchCV\n",
        "from sklearn.metrics import accuracy_score, confusion_matrix\n",
        "import pickle\n",
        "\n",
        "# Define the parameter grid to search over\n",
        "param_grid = {\n",
        "    'max_depth': [5, 7],\n",
        "    'learning_rate': [0.01, 0.1],\n",
        "    'n_estimators': [50, 100]\n",
        "}\n",
        "\n",
        "# Create an XGBoost classifier object\n",
        "xgb = XGBClassifier(objective='multi:softmax', num_class=3)\n",
        "\n",
        "# Perform a grid search over the parameter grid using cross-validation\n",
        "grid_search = GridSearchCV(xgb, param_grid=param_grid, cv=3, verbose=3)\n",
        "grid_search.fit(X_train, y_train)\n",
        "\n",
        "# Print the best hyperparameters found\n",
        "print(\"Best hyperparameters: \", grid_search.best_params_)\n",
        "\n",
        "# Use the best hyperparameters to train the model and make predictions on the testing set\n",
        "\n",
        "best_xgb = XGBClassifier(objective='multi:softmax', num_class=3, **grid_search.best_params_)\n",
        "best_xgb.fit(X_train, y_train)\n",
        "\n",
        "# save the model\n",
        "\n",
        "with open('best_xgb.pkl', 'wb') as f:\n",
        "    pickle.dump(best_xgb, f)'''"
      ],
      "metadata": {
        "id": "4m3spHmlxpdv"
      },
      "execution_count": null,
      "outputs": []
    },
    {
      "cell_type": "markdown",
      "source": [
        "### Load the model and make predictions on the test set"
      ],
      "metadata": {
        "id": "yhlO1FG976lb"
      }
    },
    {
      "cell_type": "code",
      "source": [
        "import pickle\n",
        "\n",
        "# Load the saved XGBoost model from file\n",
        "with open('/content/drive/MyDrive/Deloitte/best_xgb.pkl', 'rb') as f:\n",
        "    best_xgb = pickle.load(f)\n",
        "\n",
        "# Use the loaded model to make predictions on the test data\n",
        "y_pred = best_xgb.predict(X_test)"
      ],
      "metadata": {
        "id": "o41EKA0o6Lrz"
      },
      "execution_count": null,
      "outputs": []
    },
    {
      "cell_type": "code",
      "source": [
        "from sklearn.metrics import confusion_matrix, accuracy_score, recall_score, precision_score, f1_score\n",
        "\n",
        "print(\"Accuracy score: \", accuracy_score(y_test, y_pred))\n",
        "print('recall score:', recall_score(y_test, y_pred, average=\"macro\"))\n",
        "print('precision score:', precision_score(y_test, y_pred, average=\"macro\"))\n",
        "print('f1 score:', f1_score(y_test, y_pred, average=\"macro\"))\n",
        "print(\"Confusion matrix: \")\n",
        "print(confusion_matrix(y_test, y_pred))\n"
      ],
      "metadata": {
        "id": "ahdR8hWJ3FR2"
      },
      "execution_count": null,
      "outputs": []
    }
  ],
  "metadata": {
    "colab": {
      "collapsed_sections": [
        "Xy9nzFhvlRoH",
        "rbl5IHavAmrf",
        "cQjBufqBJhMb",
        "L-vAsacIQcxA",
        "zhnOheFoYLgf",
        "AlI1icKTdbwx",
        "pI1vItFL6Z3G",
        "gP-BKkkEk-q2",
        "l_WEM21a5ziY",
        "yhlO1FG976lb",
        "W2gz_GrfXXZp",
        "-X4kNv6IYvup"
      ],
      "provenance": [],
      "authorship_tag": "ABX9TyOdwLTEkFBOUxLEXZ2lH+zq",
      "include_colab_link": true
    },
    "kernelspec": {
      "display_name": "Python 3",
      "name": "python3"
    },
    "language_info": {
      "name": "python"
    },
    "accelerator": "GPU",
    "gpuClass": "standard"
  },
  "nbformat": 4,
  "nbformat_minor": 0
}