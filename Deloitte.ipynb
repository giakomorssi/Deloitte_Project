{
  "cells": [
    {
      "cell_type": "markdown",
      "metadata": {
        "id": "view-in-github",
        "colab_type": "text"
      },
      "source": [
        "<a href=\"https://colab.research.google.com/github/giakomorssi/Deloitte_Project/blob/main/Deloitte.ipynb\" target=\"_parent\"><img src=\"https://colab.research.google.com/assets/colab-badge.svg\" alt=\"Open In Colab\"/></a>"
      ]
    },
    {
      "cell_type": "markdown",
      "metadata": {
        "id": "E5N-Wqk8cplP"
      },
      "source": [
        "## Import Data"
      ]
    },
    {
      "cell_type": "code",
      "execution_count": 1,
      "metadata": {
        "colab": {
          "base_uri": "https://localhost:8080/"
        },
        "id": "aqdEiQ2VAHxr",
        "outputId": "2466a3a3-3bce-4073-c473-e840886a16bb"
      },
      "outputs": [
        {
          "output_type": "stream",
          "name": "stdout",
          "text": [
            "Mounted at /content/drive\n",
            "Runtime switched to GPU\n",
            "GPU device found: /device:GPU:0\n",
            "Default GPU Device: /device:GPU:0\n"
          ]
        }
      ],
      "source": [
        "from google.colab import drive\n",
        "drive.mount('/content/drive')\n",
        "\n",
        "import pandas as pd\n",
        "\n",
        "# Change Colab runtime to GPU\n",
        "import os\n",
        "os.environ['COLAB_TPU_ADDR'] = ''\n",
        "os.environ['COLAB_GPU_ALLOC'] = '1'\n",
        "os.environ['COLAB_GPU'] = '1'\n",
        "print(\"Runtime switched to GPU\")\n",
        "\n",
        "import tensorflow as tf\n",
        "\n",
        "if not tf.test.gpu_device_name():\n",
        "    print('GPU device not found')\n",
        "else:\n",
        "    print('GPU device found:', tf.test.gpu_device_name())\n",
        "\n",
        "# This code sets the runtime to use the GPU if available\n",
        "if tf.test.gpu_device_name():\n",
        "    print('Default GPU Device: {}'.format(tf.test.gpu_device_name()))\n",
        "else:\n",
        "    print(\"Please install GPU version of TF\")\n",
        "\n",
        "pd.set_option('display.max_columns', None)"
      ]
    },
    {
      "cell_type": "code",
      "execution_count": 2,
      "metadata": {
        "id": "1-OfMB8TADIS"
      },
      "outputs": [],
      "source": [
        "df = pd.read_csv('/content/drive/MyDrive/University/Deloitte/SupplyChainDataset.csv', encoding = 'latin-1')"
      ]
    },
    {
      "cell_type": "markdown",
      "source": [
        "# EDA"
      ],
      "metadata": {
        "id": "3qa6881vt1BX"
      }
    },
    {
      "cell_type": "markdown",
      "metadata": {
        "id": "Xy9nzFhvlRoH"
      },
      "source": [
        "# Prediction"
      ]
    },
    {
      "cell_type": "markdown",
      "metadata": {
        "id": "rbl5IHavAmrf"
      },
      "source": [
        "## Cleaning"
      ]
    },
    {
      "cell_type": "code",
      "execution_count": 3,
      "metadata": {
        "id": "473D-9JaPNX3"
      },
      "outputs": [],
      "source": [
        "# Remove Na and Empty Columns\n",
        "\n",
        "df.drop(['Product Description', 'Order Zipcode', 'Order Profit Per Order', 'Customer Email', 'Customer Password', 'Customer Country', 'Customer Id', 'Customer Fname', 'Customer Lname', 'Customer Street', 'Order Country', 'Product Card Id', 'Product Category Id', 'Product Image', 'Customer State'], axis = 1, inplace = True) \n",
        "df.dropna(inplace = True) #remove 1 missing value"
      ]
    },
    {
      "cell_type": "markdown",
      "metadata": {
        "id": "L-vAsacIQcxA"
      },
      "source": [
        "## Encoding"
      ]
    },
    {
      "cell_type": "markdown",
      "metadata": {
        "id": "AlI1icKTdbwx"
      },
      "source": [
        "### Order Status\n"
      ]
    },
    {
      "cell_type": "code",
      "execution_count": 4,
      "metadata": {
        "id": "GbpeZWoTdJOs"
      },
      "outputs": [],
      "source": [
        "# define dictionaries to map status values to categories\n",
        "regular_dict = {'COMPLETE': 'Regular', 'PENDING': 'Regular', 'PENDING_PAYMENT': 'Regular', 'PROCESSING': 'Regular'}\n",
        "suspected_dict = {'CLOSED': 'Suspected', 'CANCELED': 'Suspected', 'ON_HOLD': 'Suspected', 'PAYMENT_REVIEW': 'Suspected'}\n",
        "fraud_dict = {'SUSPECTED_FRAUD': 'Fraud'}\n",
        "\n",
        "# create a function to map status values to categories\n",
        "def map_category(status):\n",
        "    if status in regular_dict:\n",
        "        return regular_dict[status]\n",
        "    elif status in suspected_dict:\n",
        "        return suspected_dict[status]\n",
        "    elif status in fraud_dict:\n",
        "        return fraud_dict[status]\n",
        "    else:\n",
        "        return 'Unknown'\n",
        "\n",
        "# apply the function to the 'status' column to create a new 'category' column\n",
        "df['Category'] = df['Order Status'].apply(map_category)"
      ]
    },
    {
      "cell_type": "markdown",
      "source": [
        "### Label Encoding"
      ],
      "metadata": {
        "id": "Cn2vNu4Niq8G"
      }
    },
    {
      "cell_type": "code",
      "execution_count": 5,
      "metadata": {
        "id": "TzRArQ7FNspJ"
      },
      "outputs": [],
      "source": [
        "from sklearn.preprocessing import LabelEncoder\n",
        "\n",
        "le = LabelEncoder()\n",
        "\n",
        "# Type\n",
        "df['Type'] = le.fit_transform(df['Type'])\n",
        "\n",
        "# Delivery Status\n",
        "df['Delivery Status'] = le.fit_transform(df['Delivery Status'])\n",
        "\n",
        "# Category Name\n",
        "df['Category Name'] = le.fit_transform(df['Category Name'])\n",
        "\n",
        "# Department Name\n",
        "df['Department Name'] = le.fit_transform(df['Department Name'])\n",
        "\n",
        "# Market\n",
        "df['Market'] = le.fit_transform(df['Market'])\n",
        "\n",
        "# Order Status\n",
        "df['Order Status'] = le.fit_transform(df['Order Status'])\n",
        "\n",
        "# Shipping Mode\n",
        "df['Shipping Mode'] = le.fit_transform(df['Shipping Mode'])\n",
        "\n",
        "# Customer Segment\n",
        "df['Customer Segment'] = le.fit_transform(df['Customer Segment'])\n",
        "\n",
        "# Category\n",
        "df['Category'] = le.fit_transform(df['Category'])\n",
        "\n",
        "# Customer City\n",
        "df['Customer City'] = le.fit_transform(df['Customer City'])\n",
        "\n",
        "# Order City\n",
        "df['Order City'] = le.fit_transform(df['Order City'])\n",
        "\n",
        "# Product Name\n",
        "df['Product Name'] = le.fit_transform(df['Product Name'])\n",
        "\n",
        "# Order Region\n",
        "df['Order Region'] = le.fit_transform(df['Order Region'])"
      ]
    },
    {
      "cell_type": "markdown",
      "metadata": {
        "id": "zhnOheFoYLgf"
      },
      "source": [
        "## Check Columns"
      ]
    },
    {
      "cell_type": "code",
      "execution_count": 6,
      "metadata": {
        "colab": {
          "base_uri": "https://localhost:8080/"
        },
        "id": "2VIMJAMaApgo",
        "outputId": "e64d229f-4243-4e73-8534-d4e73276c483"
      },
      "outputs": [
        {
          "output_type": "execute_result",
          "data": {
            "text/plain": [
              "33784"
            ]
          },
          "metadata": {},
          "execution_count": 6
        }
      ],
      "source": [
        "len([x for x in df['Benefit per order'] if x < 0])\n",
        "# decide what to do with negatives"
      ]
    },
    {
      "cell_type": "markdown",
      "source": [
        "## Prediction"
      ],
      "metadata": {
        "id": "XIsBXCAFjaH3"
      }
    },
    {
      "cell_type": "code",
      "source": [
        "df.to_csv('/content/drive/MyDrive/University/Deloitte/df_lr.csv', index = False)"
      ],
      "metadata": {
        "id": "Aj-xo5aelqZM"
      },
      "execution_count": 7,
      "outputs": []
    },
    {
      "cell_type": "code",
      "source": [
        "from sklearn.model_selection import train_test_split\n",
        "import pickle\n",
        "\n",
        "df = pd.read_csv('/content/drive/MyDrive/University/Deloitte/df_lr.csv')\n",
        "\n",
        "df.drop(['shipping date (DateOrders)', 'order date (DateOrders)'], axis = 1, inplace = True)\n",
        "\n",
        "X = df.drop(['Days for shipping (real)'], axis = 1)\n",
        "y = df['Days for shipping (real)']\n",
        "\n",
        "X_train, X_test, y_train, y_test = train_test_split(X, y, test_size = 0.2)"
      ],
      "metadata": {
        "id": "nnUlngHm54Hh"
      },
      "execution_count": 8,
      "outputs": []
    },
    {
      "cell_type": "code",
      "source": [
        "!pip install category_encoders\n",
        "import category_encoders as ce\n",
        "\n",
        "encoder = ce.TargetEncoder(cols=['Order State'])\n",
        "\n",
        "X_train = encoder.fit_transform(X_train, y_train)\n",
        "X_test = encoder.transform(X_test)"
      ],
      "metadata": {
        "colab": {
          "base_uri": "https://localhost:8080/"
        },
        "id": "dqb6I1ey58vI",
        "outputId": "6968916b-f966-4559-d851-47c7033fe034"
      },
      "execution_count": 10,
      "outputs": [
        {
          "output_type": "stream",
          "name": "stdout",
          "text": [
            "Looking in indexes: https://pypi.org/simple, https://us-python.pkg.dev/colab-wheels/public/simple/\n",
            "Collecting category_encoders\n",
            "  Downloading category_encoders-2.6.0-py2.py3-none-any.whl (81 kB)\n",
            "\u001b[2K     \u001b[90m━━━━━━━━━━━━━━━━━━━━━━━━━━━━━━━━━━━━━━━━\u001b[0m \u001b[32m81.2/81.2 KB\u001b[0m \u001b[31m3.1 MB/s\u001b[0m eta \u001b[36m0:00:00\u001b[0m\n",
            "\u001b[?25hRequirement already satisfied: scikit-learn>=0.20.0 in /usr/local/lib/python3.9/dist-packages (from category_encoders) (1.2.2)\n",
            "Requirement already satisfied: numpy>=1.14.0 in /usr/local/lib/python3.9/dist-packages (from category_encoders) (1.22.4)\n",
            "Requirement already satisfied: pandas>=1.0.5 in /usr/local/lib/python3.9/dist-packages (from category_encoders) (1.4.4)\n",
            "Requirement already satisfied: statsmodels>=0.9.0 in /usr/local/lib/python3.9/dist-packages (from category_encoders) (0.13.5)\n",
            "Requirement already satisfied: scipy>=1.0.0 in /usr/local/lib/python3.9/dist-packages (from category_encoders) (1.10.1)\n",
            "Requirement already satisfied: patsy>=0.5.1 in /usr/local/lib/python3.9/dist-packages (from category_encoders) (0.5.3)\n",
            "Requirement already satisfied: python-dateutil>=2.8.1 in /usr/local/lib/python3.9/dist-packages (from pandas>=1.0.5->category_encoders) (2.8.2)\n",
            "Requirement already satisfied: pytz>=2020.1 in /usr/local/lib/python3.9/dist-packages (from pandas>=1.0.5->category_encoders) (2022.7.1)\n",
            "Requirement already satisfied: six in /usr/local/lib/python3.9/dist-packages (from patsy>=0.5.1->category_encoders) (1.16.0)\n",
            "Requirement already satisfied: joblib>=1.1.1 in /usr/local/lib/python3.9/dist-packages (from scikit-learn>=0.20.0->category_encoders) (1.1.1)\n",
            "Requirement already satisfied: threadpoolctl>=2.0.0 in /usr/local/lib/python3.9/dist-packages (from scikit-learn>=0.20.0->category_encoders) (3.1.0)\n",
            "Requirement already satisfied: packaging>=21.3 in /usr/local/lib/python3.9/dist-packages (from statsmodels>=0.9.0->category_encoders) (23.0)\n",
            "Installing collected packages: category_encoders\n",
            "Successfully installed category_encoders-2.6.0\n"
          ]
        }
      ]
    },
    {
      "cell_type": "markdown",
      "source": [
        "### Models"
      ],
      "metadata": {
        "id": "u9vscagS5_bu"
      }
    },
    {
      "cell_type": "code",
      "source": [
        "from sklearn.ensemble import GradientBoostingRegressor\n",
        "\n",
        "# Initialize the model\n",
        "model = GradientBoostingRegressor(n_estimators=200)\n",
        "\n",
        "# Mean squared error: 0.36"
      ],
      "metadata": {
        "id": "zUP9X1Ta6BCs"
      },
      "execution_count": 11,
      "outputs": []
    },
    {
      "cell_type": "code",
      "source": [
        "from sklearn.ensemble import RandomForestRegressor\n",
        "\n",
        "# Initialize the model with 100 trees\n",
        "model = RandomForestRegressor(n_estimators=100)\n",
        "\n",
        "# Mean squared error: 0.10"
      ],
      "metadata": {
        "id": "hzeSSzI26CAi"
      },
      "execution_count": null,
      "outputs": []
    },
    {
      "cell_type": "code",
      "source": [
        "from sklearn.linear_model import LinearRegression\n",
        "\n",
        "# Initialize linear regression model\n",
        "model = LinearRegression()\n",
        "\n",
        "# Mean squared error: 0.53"
      ],
      "metadata": {
        "id": "PHziuRFm6B1n"
      },
      "execution_count": null,
      "outputs": []
    },
    {
      "cell_type": "markdown",
      "source": [
        "### Performance"
      ],
      "metadata": {
        "id": "wSe9dA7f6Gf7"
      }
    },
    {
      "cell_type": "code",
      "source": [
        "from sklearn.metrics import mean_squared_error\n",
        "import pickle\n",
        "\n",
        "model.fit(X_train, y_train)\n",
        "\n",
        "# Use the trained model to make predictions on the testing data\n",
        "y_pred = model.predict(X_test)\n",
        "\n",
        "# Calculate mean squared error on the testing data to evaluate model performance\n",
        "mse = mean_squared_error(y_test, y_pred)\n",
        "\n",
        "# Print the mean squared error\n",
        "print(\"Mean squared error: %.5f\" % mse, \"\\n\")\n",
        "\n",
        "# See if the model is good\n",
        "residuals = y_test - y_pred\n",
        "\n",
        "with open('/content/drive/MyDrive/University/Deloitte/models_lr/lr.pkl', 'wb') as file:\n",
        "    pickle.dump(model, file)"
      ],
      "metadata": {
        "id": "OEJTpj3P6H5s"
      },
      "execution_count": null,
      "outputs": []
    },
    {
      "cell_type": "markdown",
      "source": [
        "### Visualization"
      ],
      "metadata": {
        "id": "0ZtbK9VB6JZ_"
      }
    },
    {
      "cell_type": "code",
      "source": [
        "from sklearn.metrics import mean_squared_error\n",
        "\n",
        "with open('/content/drive/MyDrive/University/Deloitte/models_lr/rf.pkl', 'rb') as f:\n",
        "      model = pickle.load(f)\n",
        "\n",
        "y_pred = model.predict(X_test)\n",
        "residuals = y_test - y_pred\n",
        "\n",
        "mse = mean_squared_error(y_test, y_pred)\n",
        "print(\"Mean squared error: \" , mse, \"\\n\")"
      ],
      "metadata": {
        "colab": {
          "base_uri": "https://localhost:8080/"
        },
        "id": "RlL-FFw66LHV",
        "outputId": "9e439894-3dd1-45ec-dd55-7e36a99b8095"
      },
      "execution_count": 13,
      "outputs": [
        {
          "output_type": "stream",
          "name": "stdout",
          "text": [
            "Mean squared error:  0.09587683359184579 \n",
            "\n"
          ]
        }
      ]
    },
    {
      "cell_type": "code",
      "source": [
        "import seaborn as sns\n",
        "import matplotlib.pyplot as plt\n",
        "\n",
        "sns.set_palette('colorblind')\n",
        "\n",
        "# Set style for the plot\n",
        "sns.set_style('darkgrid')\n",
        "\n",
        "# Create a distribution plot\n",
        "sns.kdeplot(y_test, label='Actual', fill=True)\n",
        "sns.kdeplot(y_pred, label='Predicted', fill=True)\n",
        "plt.xlabel('Delivery time')\n",
        "plt.ylabel('Density')\n",
        "plt.title('Distribution Plot')\n",
        "plt.legend()\n",
        "plt.show()"
      ],
      "metadata": {
        "id": "W6RfykN86LTk"
      },
      "execution_count": null,
      "outputs": []
    },
    {
      "cell_type": "code",
      "source": [
        "import seaborn as sns\n",
        "import matplotlib.pyplot as plt\n",
        "\n",
        "# Set style for the plot\n",
        "sns.set_style('darkgrid')\n",
        "\n",
        "# Create figure and axis objects\n",
        "fig, ax = plt.subplots(figsize=(10, 6))\n",
        "\n",
        "# Plot histogram with specified number of bins and color\n",
        "sns.histplot(residuals, bins=100, color='green', kde=True, ax=ax)\n",
        "\n",
        "# Set labels and title\n",
        "ax.set_xlabel('Residuals')\n",
        "ax.set_ylabel('Frequency')\n",
        "ax.set_title('Histogram of Residuals')\n",
        "ax.set_xlim((-2, 2))\n",
        "\n",
        "# Remove top and right spines\n",
        "sns.despine()\n",
        "\n",
        "# Show the plot\n",
        "plt.show()"
      ],
      "metadata": {
        "id": "lahPk5zs6Lcb"
      },
      "execution_count": null,
      "outputs": []
    },
    {
      "cell_type": "code",
      "source": [
        "import matplotlib.pyplot as plt\n",
        "import seaborn as sns\n",
        "import pickle\n",
        "\n",
        "# get the feature importances\n",
        "importances = model.feature_importances_\n",
        "\n",
        "# sort the features by importance\n",
        "sorted_idx = importances.argsort()[::-1]\n",
        "\n",
        "# set style for the plot\n",
        "sns.set_style('darkgrid')\n",
        "\n",
        "# select the top 10 features\n",
        "top_features = X.columns[sorted_idx][:10]\n",
        "top_importances = importances[sorted_idx][:10]\n",
        "\n",
        "# create a figure and axis objects\n",
        "fig, ax = plt.subplots(figsize=(8, 4))\n",
        "\n",
        "# create a bar chart of the top 10 features\n",
        "sns.barplot(x=top_features, y=top_importances, ax=ax, color='steelblue')\n",
        "\n",
        "# set x-axis label and rotate labels for readability\n",
        "ax.set_xlabel('Feature', fontsize=14)\n",
        "ax.set_xticklabels(top_features, rotation=90, ha='right', fontsize=10)\n",
        "\n",
        "# set y-axis label and tick labels\n",
        "ax.set_ylabel('Importance Score', fontsize=14)\n",
        "ax.tick_params(axis='y', labelsize=12)\n",
        "\n",
        "# set title\n",
        "ax.set_title('Top 10 Feature Importances', fontsize=16)\n",
        "\n",
        "# remove top and right spines\n",
        "sns.despine()\n",
        "\n",
        "# show the plot\n",
        "plt.show()"
      ],
      "metadata": {
        "id": "0r0RNcYw6Liw"
      },
      "execution_count": null,
      "outputs": []
    },
    {
      "cell_type": "code",
      "source": [
        "import matplotlib.pyplot as plt\n",
        "\n",
        "# Set the threshold value\n",
        "threshold = 0.5\n",
        "\n",
        "# Get the predicted values\n",
        "y_pred = model.predict(X_test)\n",
        "\n",
        "# Calculate the percentage of predictions within the threshold value\n",
        "within_threshold = (np.abs(y_pred - y_test) < threshold).mean()\n",
        "\n",
        "# Calculate the percentage of predictions outside the threshold value\n",
        "outside_threshold = 1 - within_threshold\n",
        "\n",
        "# Create a pie chart\n",
        "fig, ax = plt.subplots()\n",
        "labels = ['Within threshold', 'Outside threshold']\n",
        "sizes = [within_threshold, outside_threshold]\n",
        "colors = ['#1f77b4', '#ff7f0e']\n",
        "plt.pie(sizes, labels=labels, colors=colors, autopct='%1.1f%%', startangle=90)\n",
        "\n",
        "# Add a title\n",
        "plt.title('Percentage of Predictions Within 0.5 Days of Delivery', fontsize=13)\n",
        "\n",
        "# Show the plot\n",
        "plt.show()\n"
      ],
      "metadata": {
        "id": "8jbffyI96VA3"
      },
      "execution_count": null,
      "outputs": []
    },
    {
      "cell_type": "code",
      "source": [
        "import statsmodels.api as sm\n",
        "from statsmodels.graphics.gofplots import qqplot\n",
        "\n",
        "# Get the residuals\n",
        "residuals = y_test - y_pred\n",
        "\n",
        "# Create a QQ plot\n",
        "qqplot(residuals, line='s')\n",
        "\n",
        "# Add title and axis labels\n",
        "plt.title('QQ Plot of Residuals')\n",
        "plt.xlabel('Theoretical Quantiles')\n",
        "plt.ylabel('Sample Quantiles')\n",
        "\n",
        "# Show the plot\n",
        "plt.show()"
      ],
      "metadata": {
        "id": "ttDjufhl6U9M"
      },
      "execution_count": null,
      "outputs": []
    },
    {
      "cell_type": "markdown",
      "source": [
        "### Try the model over 100 different splits\n",
        "\n",
        "**Change the file name before running**"
      ],
      "metadata": {
        "id": "E2lCWaEo6Yhe"
      }
    },
    {
      "cell_type": "code",
      "source": [
        "from sklearn.preprocessing import StandardScaler\n",
        "from sklearn.model_selection import train_test_split\n",
        "from sklearn.decomposition import PCA\n",
        "from sklearn.metrics import confusion_matrix, recall_score\n",
        "import os\n",
        "import pickle\n",
        "import pandas as pd\n",
        "import numpy as np\n",
        "#!pip install category_encoders\n",
        "import category_encoders as ce\n",
        "\n",
        "within_threshold_mean = []\n",
        "\n",
        "threshold = 0.5\n",
        "\n",
        "results_lr = pd.DataFrame(columns=['Model', 'MSE Mean', 'MSE Std', 'Within Threshold Mean', 'Within Threshold Std'])\n",
        "\n",
        "mse = []\n",
        "\n",
        "# Test the model\n",
        "\n",
        "with open('/content/drive/MyDrive/University/Deloitte/models_lr/rf.pkl', 'rb') as f:\n",
        "    model = pickle.load(f)\n",
        "\n",
        "for i in range(1, 101):\n",
        "  X_train, X_test, y_train, y_test = train_test_split(X, y, test_size=0.2, shuffle=True)\n",
        "\n",
        "  encoder = ce.TargetEncoder(cols=['Order State'])\n",
        "\n",
        "  X_train = encoder.fit_transform(X_train, y_train)\n",
        "  X_test = encoder.transform(X_test)\n",
        "\n",
        "  y_pred = model.predict(X_test)\n",
        "    \n",
        "  mse.append(mean_squared_error(y_test, y_pred))\n",
        "\n",
        "  # Calculate the percentage of predictions within the threshold value\n",
        "\n",
        "  within_threshold_mean.append(sum(abs(y_pred - y_test) <= threshold) / len(y_pred))\n",
        "\n",
        "  if i % 20 == 0:\n",
        "      print(f' \\nIteration: {i} \\n')\n",
        "      print(f'MSE Mean: {np.mean(mse)}')\n",
        "      print(f'MSE Std: {np.std(mse)}')\n",
        "      print(f'Within Threshold Mean: {np.mean(within_threshold_mean)}')\n",
        "      print(f'Within Threshold Std: {np.std(within_threshold_mean)}')"
      ],
      "metadata": {
        "colab": {
          "base_uri": "https://localhost:8080/"
        },
        "id": "iTfmsMhg6U5A",
        "outputId": "ef0726d3-40b4-4df5-dd1f-b1bf4086fa17"
      },
      "execution_count": 14,
      "outputs": [
        {
          "output_type": "stream",
          "name": "stdout",
          "text": [
            " \n",
            "Iteration: 20 \n",
            "\n",
            "MSE Mean: 0.09803783652780855\n",
            "MSE Std: 0.0016910636116533343\n",
            "Within Threshold Mean: 0.920690228229559\n",
            "Within Threshold Std: 0.0016826111168064554\n",
            " \n",
            "Iteration: 40 \n",
            "\n",
            "MSE Mean: 0.09765429883115444\n",
            "MSE Std: 0.002097256051387055\n",
            "Within Threshold Mean: 0.9211230057611346\n",
            "Within Threshold Std: 0.002006085704583814\n",
            " \n",
            "Iteration: 60 \n",
            "\n",
            "MSE Mean: 0.09776523279968978\n",
            "MSE Std: 0.0024206438078168938\n",
            "Within Threshold Mean: 0.9209875175419159\n",
            "Within Threshold Std: 0.002275432915163328\n",
            " \n",
            "Iteration: 80 \n",
            "\n",
            "MSE Mean: 0.09786531298471084\n",
            "MSE Std: 0.002397614505184067\n",
            "Within Threshold Mean: 0.9209062707733213\n",
            "Within Threshold Std: 0.0022596417538535895\n",
            " \n",
            "Iteration: 100 \n",
            "\n",
            "MSE Mean: 0.09765217203079991\n",
            "MSE Std: 0.0023692703554678766\n",
            "Within Threshold Mean: 0.9211073565255927\n",
            "Within Threshold Std: 0.0021903596852536865\n"
          ]
        }
      ]
    },
    {
      "cell_type": "markdown",
      "metadata": {
        "id": "j3WxReGo7xAS"
      },
      "source": [
        "# Fraud Detection"
      ]
    },
    {
      "cell_type": "markdown",
      "source": [
        "## Cleaning"
      ],
      "metadata": {
        "id": "PmEn3QFQu6yn"
      }
    },
    {
      "cell_type": "code",
      "source": [
        "# Remove Na and Empty Columns\n",
        "\n",
        "df.drop(['Product Description', 'Order Zipcode', 'Order Profit Per Order', 'Customer Email', 'Customer Password'], axis = 1, inplace = True) \n",
        "df.dropna(inplace = True) #remove 1 missing value"
      ],
      "metadata": {
        "id": "9Qkw5TQgu8Ne"
      },
      "execution_count": 36,
      "outputs": []
    },
    {
      "cell_type": "markdown",
      "source": [
        "## Order Status"
      ],
      "metadata": {
        "id": "PHj6rZ2ZubkH"
      }
    },
    {
      "cell_type": "markdown",
      "source": [
        "\n",
        "1. **COMPLETE:** The order or transaction has been successfully fulfilled and completed.\n",
        "2. **PENDING**: The order or transaction is still in progress and has not yet been completed.\n",
        "3. **CLOSED**: The order or transaction has been closed or terminated for some reason, such as a return or cancellation.\n",
        "4. **PENDING_PAYMENT**: The order or transaction is awaiting payment before it can be processed.\n",
        "5. **CANCELED**: The order or transaction has been canceled by the customer or the seller for some reason.\n",
        "6. **PROCESSING**: The order or transaction is being processed by the seller or merchant.\n",
        "7. **SUSPECTED_FRAUD**: The order or transaction is under review due to suspected fraudulent activity.\n",
        "8. **ON_HOLD**: The order or transaction has been placed on hold for some reason, such as a delay in shipping or a credit hold.\n",
        "9. **PAYMENT_REVIEW**: The payment for the order or transaction is under review by the payment processor or financial institution."
      ],
      "metadata": {
        "id": "NX5KSV40uZx3"
      }
    },
    {
      "cell_type": "code",
      "source": [
        "# Regular -> Complete, Pending, Pending_Payment, Processing\n",
        "# Suspected -> Closed, Canceled, On_Hold, Payment_Review\n",
        "# Fraud -> Suspected_Fraud\n",
        "\n",
        "# define dictionaries to map status values to categories\n",
        "regular_dict = {'COMPLETE': 'Regular', 'PENDING': 'Regular', 'PENDING_PAYMENT': 'Regular', 'PROCESSING': 'Regular'}\n",
        "suspected_dict = {'CLOSED': 'Suspected', 'CANCELED': 'Suspected', 'ON_HOLD': 'Suspected', 'PAYMENT_REVIEW': 'Suspected'}\n",
        "fraud_dict = {'SUSPECTED_FRAUD': 'Fraud'}\n",
        "\n",
        "# create a function to map status values to categories\n",
        "def map_category(status):\n",
        "    if status in regular_dict:\n",
        "        return regular_dict[status]\n",
        "    elif status in suspected_dict:\n",
        "        return suspected_dict[status]\n",
        "    elif status in fraud_dict:\n",
        "        return fraud_dict[status]\n",
        "    else:\n",
        "        return 'Unknown'\n",
        "\n",
        "# apply the function to the 'status' column to create a new 'category' column\n",
        "df['Category'] = df['Order Status'].apply(map_category)\n",
        "\n",
        "print('Regular: ', len([x for x in df['Category'] if x == 'Regular']), '\\n')\n",
        "print('Suspected: ', len([x for x in df['Category'] if x == 'Suspected']), '\\n')\n",
        "print('Fraud: ', len([x for x in df['Category'] if x == 'Fraud']))"
      ],
      "metadata": {
        "colab": {
          "base_uri": "https://localhost:8080/"
        },
        "id": "35G5Ux1nuViB",
        "outputId": "458ecf29-b9d2-492b-e888-3e729fa711f9"
      },
      "execution_count": 37,
      "outputs": [
        {
          "output_type": "stream",
          "name": "stdout",
          "text": [
            "Regular:  141442 \n",
            "\n",
            "Suspected:  35004 \n",
            "\n",
            "Fraud:  4062\n"
          ]
        }
      ]
    },
    {
      "cell_type": "markdown",
      "source": [
        "## Encoding"
      ],
      "metadata": {
        "id": "ZFawFxuCu8tb"
      }
    },
    {
      "cell_type": "code",
      "source": [
        "from sklearn.preprocessing import LabelEncoder\n",
        "\n",
        "le = LabelEncoder()\n",
        "\n",
        "# Type\n",
        "df['Type'] = le.fit_transform(df['Type'])\n",
        "\n",
        "# Delivery Status\n",
        "df['Delivery Status'] = le.fit_transform(df['Delivery Status'])\n",
        "\n",
        "# Customer Segment\n",
        "df['Customer Segment'] = le.fit_transform(df['Customer Segment'])\n",
        "\n",
        "# Order Status\n",
        "df['Order Status'] = le.fit_transform(df['Order Status'])\n",
        "\n",
        "# Shipping Mode\n",
        "df['Shipping Mode'] = le.fit_transform(df['Shipping Mode'])\n",
        "\n",
        "# Category\n",
        "df['Category'] = le.fit_transform(df['Category'])"
      ],
      "metadata": {
        "id": "y-6ooF0PvCds"
      },
      "execution_count": 47,
      "outputs": []
    },
    {
      "cell_type": "markdown",
      "metadata": {
        "id": "pI1vItFL6Z3G"
      },
      "source": [
        "## Data preprocessing\n"
      ]
    },
    {
      "cell_type": "code",
      "execution_count": 49,
      "metadata": {
        "id": "8StQ6CiQ6cgR"
      },
      "outputs": [],
      "source": [
        "from sklearn.model_selection import train_test_split\n",
        "\n",
        "df_nn = df.drop(['Category Name', 'Customer City',\n",
        "       'Customer Country', 'Customer Fname', 'Customer Id', 'Customer Lname',\n",
        "       'Customer State',\t'Customer Street', 'Department Name', \n",
        "       'Market', 'Order City', 'Order Country', 'Order Customer Id', 'Order Region',\t\n",
        "       'Order State', 'Product Image',\t'Product Name',\n",
        "       'shipping date (DateOrders)', 'order date (DateOrders)', 'Category Id', 'Customer Zipcode', \n",
        "       'Department Id', 'Latitude',\t'Longitude', 'Order Id',\t'Order Item Cardprod Id',\n",
        "       'Order Item Id', 'Product Card Id', 'Product Category Id'], axis = 1)\n",
        "\n",
        "df_nn.to_csv('/content/drive/MyDrive/University/Deloitte/df_number.csv', index = False)"
      ]
    },
    {
      "cell_type": "code",
      "source": [
        "df_nn.head()"
      ],
      "metadata": {
        "id": "5Ngv8whyFinJ",
        "colab": {
          "base_uri": "https://localhost:8080/",
          "height": 322
        },
        "outputId": "39161905-3f0d-4e91-964e-10bc9030412d"
      },
      "execution_count": 50,
      "outputs": [
        {
          "output_type": "execute_result",
          "data": {
            "text/plain": [
              "   Type  Days for shipping (real)  Days for shipment (scheduled)  \\\n",
              "0     1                         3                              4   \n",
              "1     3                         5                              4   \n",
              "2     0                         4                              4   \n",
              "3     1                         3                              4   \n",
              "4     2                         2                              4   \n",
              "\n",
              "   Benefit per order  Sales per customer  Delivery Status  Late_delivery_risk  \\\n",
              "0          91.250000          314.640015                0                   0   \n",
              "1        -249.089996          311.359985                1                   1   \n",
              "2        -247.779999          309.720001                3                   0   \n",
              "3          22.860001          304.809998                0                   0   \n",
              "4         134.210007          298.250000                0                   0   \n",
              "\n",
              "   Customer Segment  Order Item Discount  Order Item Discount Rate  \\\n",
              "0                 0            13.110000                      0.04   \n",
              "1                 0            16.389999                      0.05   \n",
              "2                 0            18.030001                      0.06   \n",
              "3                 2            22.940001                      0.07   \n",
              "4                 1            29.500000                      0.09   \n",
              "\n",
              "   Order Item Product Price  Order Item Profit Ratio  Order Item Quantity  \\\n",
              "0                    327.75                     0.29                    1   \n",
              "1                    327.75                    -0.80                    1   \n",
              "2                    327.75                    -0.80                    1   \n",
              "3                    327.75                     0.08                    1   \n",
              "4                    327.75                     0.45                    1   \n",
              "\n",
              "    Sales  Order Item Total  Order Status  Product Price  Product Status  \\\n",
              "0  327.75        314.640015             2         327.75               0   \n",
              "1  327.75        311.359985             5         327.75               0   \n",
              "2  327.75        309.720001             1         327.75               0   \n",
              "3  327.75        304.809998             2         327.75               0   \n",
              "4  327.75        298.250000             6         327.75               0   \n",
              "\n",
              "   Shipping Mode  Category  \n",
              "0              3         1  \n",
              "1              3         1  \n",
              "2              3         2  \n",
              "3              3         1  \n",
              "4              3         1  "
            ],
            "text/html": [
              "\n",
              "  <div id=\"df-9cd44b46-8a28-473f-b134-0c38450f35d0\">\n",
              "    <div class=\"colab-df-container\">\n",
              "      <div>\n",
              "<style scoped>\n",
              "    .dataframe tbody tr th:only-of-type {\n",
              "        vertical-align: middle;\n",
              "    }\n",
              "\n",
              "    .dataframe tbody tr th {\n",
              "        vertical-align: top;\n",
              "    }\n",
              "\n",
              "    .dataframe thead th {\n",
              "        text-align: right;\n",
              "    }\n",
              "</style>\n",
              "<table border=\"1\" class=\"dataframe\">\n",
              "  <thead>\n",
              "    <tr style=\"text-align: right;\">\n",
              "      <th></th>\n",
              "      <th>Type</th>\n",
              "      <th>Days for shipping (real)</th>\n",
              "      <th>Days for shipment (scheduled)</th>\n",
              "      <th>Benefit per order</th>\n",
              "      <th>Sales per customer</th>\n",
              "      <th>Delivery Status</th>\n",
              "      <th>Late_delivery_risk</th>\n",
              "      <th>Customer Segment</th>\n",
              "      <th>Order Item Discount</th>\n",
              "      <th>Order Item Discount Rate</th>\n",
              "      <th>Order Item Product Price</th>\n",
              "      <th>Order Item Profit Ratio</th>\n",
              "      <th>Order Item Quantity</th>\n",
              "      <th>Sales</th>\n",
              "      <th>Order Item Total</th>\n",
              "      <th>Order Status</th>\n",
              "      <th>Product Price</th>\n",
              "      <th>Product Status</th>\n",
              "      <th>Shipping Mode</th>\n",
              "      <th>Category</th>\n",
              "    </tr>\n",
              "  </thead>\n",
              "  <tbody>\n",
              "    <tr>\n",
              "      <th>0</th>\n",
              "      <td>1</td>\n",
              "      <td>3</td>\n",
              "      <td>4</td>\n",
              "      <td>91.250000</td>\n",
              "      <td>314.640015</td>\n",
              "      <td>0</td>\n",
              "      <td>0</td>\n",
              "      <td>0</td>\n",
              "      <td>13.110000</td>\n",
              "      <td>0.04</td>\n",
              "      <td>327.75</td>\n",
              "      <td>0.29</td>\n",
              "      <td>1</td>\n",
              "      <td>327.75</td>\n",
              "      <td>314.640015</td>\n",
              "      <td>2</td>\n",
              "      <td>327.75</td>\n",
              "      <td>0</td>\n",
              "      <td>3</td>\n",
              "      <td>1</td>\n",
              "    </tr>\n",
              "    <tr>\n",
              "      <th>1</th>\n",
              "      <td>3</td>\n",
              "      <td>5</td>\n",
              "      <td>4</td>\n",
              "      <td>-249.089996</td>\n",
              "      <td>311.359985</td>\n",
              "      <td>1</td>\n",
              "      <td>1</td>\n",
              "      <td>0</td>\n",
              "      <td>16.389999</td>\n",
              "      <td>0.05</td>\n",
              "      <td>327.75</td>\n",
              "      <td>-0.80</td>\n",
              "      <td>1</td>\n",
              "      <td>327.75</td>\n",
              "      <td>311.359985</td>\n",
              "      <td>5</td>\n",
              "      <td>327.75</td>\n",
              "      <td>0</td>\n",
              "      <td>3</td>\n",
              "      <td>1</td>\n",
              "    </tr>\n",
              "    <tr>\n",
              "      <th>2</th>\n",
              "      <td>0</td>\n",
              "      <td>4</td>\n",
              "      <td>4</td>\n",
              "      <td>-247.779999</td>\n",
              "      <td>309.720001</td>\n",
              "      <td>3</td>\n",
              "      <td>0</td>\n",
              "      <td>0</td>\n",
              "      <td>18.030001</td>\n",
              "      <td>0.06</td>\n",
              "      <td>327.75</td>\n",
              "      <td>-0.80</td>\n",
              "      <td>1</td>\n",
              "      <td>327.75</td>\n",
              "      <td>309.720001</td>\n",
              "      <td>1</td>\n",
              "      <td>327.75</td>\n",
              "      <td>0</td>\n",
              "      <td>3</td>\n",
              "      <td>2</td>\n",
              "    </tr>\n",
              "    <tr>\n",
              "      <th>3</th>\n",
              "      <td>1</td>\n",
              "      <td>3</td>\n",
              "      <td>4</td>\n",
              "      <td>22.860001</td>\n",
              "      <td>304.809998</td>\n",
              "      <td>0</td>\n",
              "      <td>0</td>\n",
              "      <td>2</td>\n",
              "      <td>22.940001</td>\n",
              "      <td>0.07</td>\n",
              "      <td>327.75</td>\n",
              "      <td>0.08</td>\n",
              "      <td>1</td>\n",
              "      <td>327.75</td>\n",
              "      <td>304.809998</td>\n",
              "      <td>2</td>\n",
              "      <td>327.75</td>\n",
              "      <td>0</td>\n",
              "      <td>3</td>\n",
              "      <td>1</td>\n",
              "    </tr>\n",
              "    <tr>\n",
              "      <th>4</th>\n",
              "      <td>2</td>\n",
              "      <td>2</td>\n",
              "      <td>4</td>\n",
              "      <td>134.210007</td>\n",
              "      <td>298.250000</td>\n",
              "      <td>0</td>\n",
              "      <td>0</td>\n",
              "      <td>1</td>\n",
              "      <td>29.500000</td>\n",
              "      <td>0.09</td>\n",
              "      <td>327.75</td>\n",
              "      <td>0.45</td>\n",
              "      <td>1</td>\n",
              "      <td>327.75</td>\n",
              "      <td>298.250000</td>\n",
              "      <td>6</td>\n",
              "      <td>327.75</td>\n",
              "      <td>0</td>\n",
              "      <td>3</td>\n",
              "      <td>1</td>\n",
              "    </tr>\n",
              "  </tbody>\n",
              "</table>\n",
              "</div>\n",
              "      <button class=\"colab-df-convert\" onclick=\"convertToInteractive('df-9cd44b46-8a28-473f-b134-0c38450f35d0')\"\n",
              "              title=\"Convert this dataframe to an interactive table.\"\n",
              "              style=\"display:none;\">\n",
              "        \n",
              "  <svg xmlns=\"http://www.w3.org/2000/svg\" height=\"24px\"viewBox=\"0 0 24 24\"\n",
              "       width=\"24px\">\n",
              "    <path d=\"M0 0h24v24H0V0z\" fill=\"none\"/>\n",
              "    <path d=\"M18.56 5.44l.94 2.06.94-2.06 2.06-.94-2.06-.94-.94-2.06-.94 2.06-2.06.94zm-11 1L8.5 8.5l.94-2.06 2.06-.94-2.06-.94L8.5 2.5l-.94 2.06-2.06.94zm10 10l.94 2.06.94-2.06 2.06-.94-2.06-.94-.94-2.06-.94 2.06-2.06.94z\"/><path d=\"M17.41 7.96l-1.37-1.37c-.4-.4-.92-.59-1.43-.59-.52 0-1.04.2-1.43.59L10.3 9.45l-7.72 7.72c-.78.78-.78 2.05 0 2.83L4 21.41c.39.39.9.59 1.41.59.51 0 1.02-.2 1.41-.59l7.78-7.78 2.81-2.81c.8-.78.8-2.07 0-2.86zM5.41 20L4 18.59l7.72-7.72 1.47 1.35L5.41 20z\"/>\n",
              "  </svg>\n",
              "      </button>\n",
              "      \n",
              "  <style>\n",
              "    .colab-df-container {\n",
              "      display:flex;\n",
              "      flex-wrap:wrap;\n",
              "      gap: 12px;\n",
              "    }\n",
              "\n",
              "    .colab-df-convert {\n",
              "      background-color: #E8F0FE;\n",
              "      border: none;\n",
              "      border-radius: 50%;\n",
              "      cursor: pointer;\n",
              "      display: none;\n",
              "      fill: #1967D2;\n",
              "      height: 32px;\n",
              "      padding: 0 0 0 0;\n",
              "      width: 32px;\n",
              "    }\n",
              "\n",
              "    .colab-df-convert:hover {\n",
              "      background-color: #E2EBFA;\n",
              "      box-shadow: 0px 1px 2px rgba(60, 64, 67, 0.3), 0px 1px 3px 1px rgba(60, 64, 67, 0.15);\n",
              "      fill: #174EA6;\n",
              "    }\n",
              "\n",
              "    [theme=dark] .colab-df-convert {\n",
              "      background-color: #3B4455;\n",
              "      fill: #D2E3FC;\n",
              "    }\n",
              "\n",
              "    [theme=dark] .colab-df-convert:hover {\n",
              "      background-color: #434B5C;\n",
              "      box-shadow: 0px 1px 3px 1px rgba(0, 0, 0, 0.15);\n",
              "      filter: drop-shadow(0px 1px 2px rgba(0, 0, 0, 0.3));\n",
              "      fill: #FFFFFF;\n",
              "    }\n",
              "  </style>\n",
              "\n",
              "      <script>\n",
              "        const buttonEl =\n",
              "          document.querySelector('#df-9cd44b46-8a28-473f-b134-0c38450f35d0 button.colab-df-convert');\n",
              "        buttonEl.style.display =\n",
              "          google.colab.kernel.accessAllowed ? 'block' : 'none';\n",
              "\n",
              "        async function convertToInteractive(key) {\n",
              "          const element = document.querySelector('#df-9cd44b46-8a28-473f-b134-0c38450f35d0');\n",
              "          const dataTable =\n",
              "            await google.colab.kernel.invokeFunction('convertToInteractive',\n",
              "                                                     [key], {});\n",
              "          if (!dataTable) return;\n",
              "\n",
              "          const docLinkHtml = 'Like what you see? Visit the ' +\n",
              "            '<a target=\"_blank\" href=https://colab.research.google.com/notebooks/data_table.ipynb>data table notebook</a>'\n",
              "            + ' to learn more about interactive tables.';\n",
              "          element.innerHTML = '';\n",
              "          dataTable['output_type'] = 'display_data';\n",
              "          await google.colab.output.renderOutput(dataTable, element);\n",
              "          const docLink = document.createElement('div');\n",
              "          docLink.innerHTML = docLinkHtml;\n",
              "          element.appendChild(docLink);\n",
              "        }\n",
              "      </script>\n",
              "    </div>\n",
              "  </div>\n",
              "  "
            ]
          },
          "metadata": {},
          "execution_count": 50
        }
      ]
    },
    {
      "cell_type": "markdown",
      "metadata": {
        "id": "gP-BKkkEk-q2"
      },
      "source": [
        "## PCA"
      ]
    },
    {
      "cell_type": "code",
      "source": [
        "from sklearn.model_selection import train_test_split  \n",
        "\n",
        "X = df_nn.drop(['Category'], axis=1) #Not scaled\n",
        "y = df_nn['Category']\n",
        "\n",
        "X_train, X_test, y_train, y_test = train_test_split(X, y, test_size=0.2, stratify=y, shuffle=True)"
      ],
      "metadata": {
        "id": "meCYWOLiz4uK"
      },
      "execution_count": 54,
      "outputs": []
    },
    {
      "cell_type": "code",
      "source": [
        "from sklearn.preprocessing import StandardScaler\n",
        "\n",
        "s = StandardScaler()\n",
        "\n",
        "X_train = s.fit_transform(X_train)\n",
        "X_test = s.transform(X_test)"
      ],
      "metadata": {
        "id": "LvpHahbCa5tl"
      },
      "execution_count": 55,
      "outputs": []
    },
    {
      "cell_type": "code",
      "execution_count": 56,
      "metadata": {
        "id": "1SvNIBXmlAWL",
        "colab": {
          "base_uri": "https://localhost:8080/",
          "height": 508
        },
        "outputId": "7c3b2395-7b26-4e46-ce00-1f95247b4e31"
      },
      "outputs": [
        {
          "output_type": "display_data",
          "data": {
            "text/plain": [
              "<Figure size 640x480 with 1 Axes>"
            ],
            "image/png": "[encoded data removed]"
          },
          "metadata": {}
        },
        {
          "output_type": "stream",
          "name": "stdout",
          "text": [
            "\n",
            " Number of components to keep: 9\n"
          ]
        }
      ],
      "source": [
        "import numpy as np\n",
        "import pandas as pd\n",
        "import matplotlib.pyplot as plt\n",
        "from sklearn.decomposition import PCA\n",
        "\n",
        "# Initialize a PCA object\n",
        "pca = PCA()\n",
        "\n",
        "# Fit the PCA object to the data\n",
        "pca.fit(X_train)\n",
        "\n",
        "# Create a scree plot\n",
        "num_components = len(pca.explained_variance_ratio_)\n",
        "plt.plot(np.arange(1, num_components+1), pca.explained_variance_ratio_, 'ro-', linewidth=2)\n",
        "plt.title('Scree Plot')\n",
        "plt.xlabel('Principal Component')\n",
        "plt.ylabel('Proportion of Variance Explained')\n",
        "plt.show()\n",
        "\n",
        "# Determine the number of components to keep\n",
        "variance_threshold = 0.95\n",
        "cumulative_variance_ratio = np.cumsum(pca.explained_variance_ratio_)\n",
        "num_components_to_keep = np.argmax(cumulative_variance_ratio >= variance_threshold) + 1\n",
        "\n",
        "print(f'\\n Number of components to keep: {num_components_to_keep}')\n",
        "\n",
        "# Transform the data using the chosen number of components\n",
        "pca = PCA(n_components=num_components_to_keep)\n",
        "X_train_p = pca.fit_transform(X_train)\n",
        "X_test_p = pca.transform(X_test)"
      ]
    },
    {
      "cell_type": "code",
      "source": [
        "# Plot the cumulative variance explained\n",
        "\n",
        "fig = plt.figure(figsize=(10, 5))\n",
        "\n",
        "cum = np.insert(cumulative_variance_ratio, 0, 0)\n",
        "ylab = np.insert(np.cumsum(pca.explained_variance_ratio_), 0, 0)\n",
        "\n",
        "plt.plot(cum, 'ro-', linewidth=2)\n",
        "plt.title('Cumulative Variance Explained')\n",
        "plt.xlabel('Number of Principal Components')\n",
        "plt.ylabel('Cumulative Variance Explained')\n",
        "plt.yticks(ylab)\n",
        "plt.xticks(np.arange(0, 21))\n",
        "plt.show()"
      ],
      "metadata": {
        "id": "0HwEVIhZjvpd",
        "colab": {
          "base_uri": "https://localhost:8080/",
          "height": 487
        },
        "outputId": "83090711-7d5d-4609-83ca-cedeec1e9246"
      },
      "execution_count": 57,
      "outputs": [
        {
          "output_type": "display_data",
          "data": {
            "text/plain": [
              "<Figure size 1000x500 with 1 Axes>"
            ],
            "image/png": "[encoded data removed]"
          },
          "metadata": {}
        }
      ]
    },
    {
      "cell_type": "code",
      "source": [
        "import seaborn as sns\n",
        "\n",
        "# Heatmap loadings\n",
        "fig = plt.figure(figsize=(20, 10))\n",
        "sns.heatmap(pca.components_, cmap='coolwarm', annot=True, cbar=False)\n",
        "plt.xlabel('Features')\n",
        "plt.ylabel('Principal Components')\n",
        "plt.title('PCA Loadings Heatmap')\n",
        "plt.show()"
      ],
      "metadata": {
        "id": "aKaVmCvYeJHs",
        "colab": {
          "base_uri": "https://localhost:8080/",
          "height": 716
        },
        "outputId": "333abe90-cd6c-4a1a-ff40-23c069d7cd81"
      },
      "execution_count": 58,
      "outputs": [
        {
          "output_type": "display_data",
          "data": {
            "text/plain": [
              "<Figure size 2000x1000 with 1 Axes>"
            ],
            "image/png": "[encoded data removed]"
          },
          "metadata": {}
        }
      ]
    },
    {
      "cell_type": "code",
      "source": [
        "# Get the principal components as vectors in the original feature space\n",
        "pc_vectors = pca.components_\n",
        "\n",
        "# Get the names of the original columns\n",
        "column_names = X.columns\n",
        "\n",
        "# Print the names of the columns chosen as principal components\n",
        "num_pcs = pc_vectors.shape[0]\n",
        "for i in range(num_pcs):\n",
        "    pc_name = f'PC{i+1}'\n",
        "    pc_loadings = pc_vectors[i]\n",
        "    relevant_columns = column_names[np.abs(pc_loadings) >= 0.40]\n",
        "    print(f'{pc_name}:\\n {relevant_columns.tolist()}, \\n {pc_loadings[np.abs(pc_loadings) >= 0.40]} \\n ')"
      ],
      "metadata": {
        "id": "d2HMY2WymWNL",
        "colab": {
          "base_uri": "https://localhost:8080/"
        },
        "outputId": "8531f566-e4c3-4889-d5b8-59b75c15e556"
      },
      "execution_count": 59,
      "outputs": [
        {
          "output_type": "stream",
          "name": "stdout",
          "text": [
            "PC1:\n",
            " ['Sales per customer', 'Order Item Product Price', 'Sales', 'Order Item Total', 'Product Price'], \n",
            " [0.4294423  0.41698337 0.43743272 0.4294423  0.41698337] \n",
            " \n",
            "PC2:\n",
            " ['Days for shipment (scheduled)', 'Shipping Mode'], \n",
            " [-0.62694911 -0.62706265] \n",
            " \n",
            "PC3:\n",
            " ['Type', 'Benefit per order', 'Order Item Profit Ratio', 'Order Status'], \n",
            " [ 0.45356897 -0.53610646 -0.54005929  0.45226665] \n",
            " \n",
            "PC4:\n",
            " ['Type', 'Benefit per order', 'Order Item Profit Ratio', 'Order Status'], \n",
            " [-0.53952926 -0.44765827 -0.4526865  -0.53443195] \n",
            " \n",
            "PC5:\n",
            " ['Order Item Discount', 'Order Item Discount Rate'], \n",
            " [0.56200758 0.69144453] \n",
            " \n",
            "PC6:\n",
            " ['Order Item Quantity'], \n",
            " [0.6781656] \n",
            " \n",
            "PC7:\n",
            " ['Days for shipping (real)', 'Late_delivery_risk'], \n",
            " [-0.53112044 -0.72157073] \n",
            " \n",
            "PC8:\n",
            " ['Delivery Status'], \n",
            " [0.92228488] \n",
            " \n",
            "PC9:\n",
            " ['Customer Segment'], \n",
            " [0.99610104] \n",
            " \n"
          ]
        }
      ]
    },
    {
      "cell_type": "markdown",
      "source": [
        "## Models"
      ],
      "metadata": {
        "id": "-NBs50BY2Sdx"
      }
    },
    {
      "cell_type": "code",
      "source": [
        "import pandas as pd\n",
        "import numpy as np\n",
        "import pickle\n",
        "\n",
        "# Split the dataset into features and target\n",
        "X_train = pd.DataFrame(X_train)\n",
        "y_train = pd.DataFrame(y_train)\n",
        "y_train = np.ravel(y_train)\n",
        "\n",
        "print(X_train.shape, y_train.shape)\n",
        "print(type(X), type(y))"
      ],
      "metadata": {
        "id": "rKtLGILp2VmF"
      },
      "execution_count": null,
      "outputs": []
    },
    {
      "cell_type": "code",
      "source": [
        "from sklearn.ensemble import GradientBoostingClassifier\n",
        "from sklearn.ensemble import StackingClassifier\n",
        "from sklearn.linear_model import LogisticRegression\n",
        "from xgboost import XGBClassifier\n",
        "from sklearn.tree import DecisionTreeClassifier\n",
        "from sklearn.linear_model import SGDClassifier\n",
        "\n",
        "fraud = StackingClassifier(estimators=[('lr', LogisticRegression(multi_class='multinomial', solver='lbfgs', max_iter=2000, class_weight='balanced')),\n",
        "                                      ('dt', DecisionTreeClassifier(max_depth=4))],\n",
        "                                              final_estimator=DecisionTreeClassifier(max_depth=5))\n",
        "\n",
        "fraud1 = LogisticRegression(multi_class='multinomial', solver='lbfgs', max_iter=2000, class_weight='balanced')\n",
        "\n",
        "regular = GradientBoostingClassifier(n_estimators=100, learning_rate=0.01, max_depth=4, subsample=0.8)\n",
        "\n",
        "regular2 = SGDClassifier(loss='log_loss', penalty='elasticnet', alpha=0.0001, l1_ratio=1, max_iter=1000)\n",
        "\n",
        "suspected = DecisionTreeClassifier(class_weight='balanced', max_depth= 4)\n",
        "\n",
        "reg_sus = XGBClassifier(objective='multi:softmax', num_class=3, max_depth=4, subsample=0.8,\n",
        "                    colsample_bytree=0.8, learning_rate=0.3)"
      ],
      "metadata": {
        "id": "cuEmzuKC2rH8"
      },
      "execution_count": null,
      "outputs": []
    },
    {
      "cell_type": "markdown",
      "source": [
        "### Voting2class1"
      ],
      "metadata": {
        "id": "8k566Lk53oYQ"
      }
    },
    {
      "cell_type": "code",
      "source": [
        "from sklearn.ensemble import VotingClassifier\n",
        "\n",
        "# Initialize the voting classifier with the base models\n",
        "model = VotingClassifier(estimators=[('fraud', fraud1), ('reg_sus', reg_sus)], voting='soft')\n",
        "\n",
        "model.fit(X_train, y_train)\n",
        "\n",
        "with open('/content/drive/MyDrive/University/Deloitte/models/Voting2class1.pkl', 'wb') as file:\n",
        "    pickle.dump(model, file)"
      ],
      "metadata": {
        "id": "2t_6jH0J3DLu"
      },
      "execution_count": null,
      "outputs": []
    },
    {
      "cell_type": "markdown",
      "source": [
        "### Voting2class"
      ],
      "metadata": {
        "id": "sF_mG1bU3u-Y"
      }
    },
    {
      "cell_type": "code",
      "source": [
        "from sklearn.ensemble import VotingClassifier\n",
        "\n",
        "# Initialize the voting classifier with the base models\n",
        "model = VotingClassifier(estimators=[('fraud', fraud), ('reg_sus', reg_sus)], voting='hard')\n",
        "\n",
        "model.fit(X_train, y_train)\n",
        "\n",
        "with open('/content/drive/MyDrive/University/Deloitte/models/Voting2class.pkl', 'wb') as file:\n",
        "    pickle.dump(model, file)"
      ],
      "metadata": {
        "id": "M-6ulQTO3H5B"
      },
      "execution_count": null,
      "outputs": []
    },
    {
      "cell_type": "markdown",
      "source": [
        "### Bagging Logistic"
      ],
      "metadata": {
        "id": "7D--hB6x3_sc"
      }
    },
    {
      "cell_type": "code",
      "source": [
        "from sklearn.ensemble import BaggingClassifier\n",
        "\n",
        "model = BaggingClassifier(estimator=LogisticRegression(max_iter=1000, multi_class='multinomial'),\n",
        "                  n_estimators=30)\n",
        "\n",
        "model.fit(X_train, y_train)\n",
        "\n",
        "with open('/content/drive/MyDrive/University/Deloitte/models/Voting2class.pkl', 'wb') as file:\n",
        "    pickle.dump(model, file)"
      ],
      "metadata": {
        "id": "-yBT6l0J4DvH"
      },
      "execution_count": null,
      "outputs": []
    },
    {
      "cell_type": "markdown",
      "source": [
        "## Results"
      ],
      "metadata": {
        "id": "US7o2mUr2fjr"
      }
    },
    {
      "cell_type": "markdown",
      "source": [
        "**Best Fraud**\n",
        "\n",
        "*Voting2class*\n",
        "```python\n",
        "VotingClassifier(estimators=[('fraud',\n",
        "                              StackingClassifier(estimators=[('lr', LogisticRegression(class_weight='balanced', max_iter=2000, multi_class='multinomial')),\n",
        "                                                             ('dt', DecisionTreeClassifier(max_depth=4))],\n",
        "                                                              final_estimator=DecisionTreeClassifier(max_depth=5))),\n",
        "                             ('reg_sus',\n",
        "                              XGBClassifier(learning_rate=0.3, max_depth=4, n_estimators=100, num_class=3, objective='multi:softmax'))])\n",
        "```\n",
        "```python\n",
        "Fraud Recall: 0.9228, std: 0.1951\n",
        "Average Confusion Matrix: [749 42 2]\n",
        "```\n",
        "\n",
        "**Best Suspected**\n",
        "\n",
        "*Voting2class1*\n",
        "```python\n",
        "VotingClassifier(estimators=[('fraud',\n",
        "                              LogisticRegression(class_weight='balanced', max_iter=2000, multi_class='multinomial')),\n",
        "                             ('reg_sus',\n",
        "                              XGBClassifier(colsample_bytree=0.8,\n",
        "                                            learning_rate=0.3, max_depth=4, n_estimators=100, num_class=3, objective='multi:softmax'))], \n",
        "                  voting='soft')\n",
        "```\n",
        "```python\n",
        "Suspected Recall: 0.8843, std: 0.1285\n",
        "Average Confusion Matrix: [24 787 6190]\n",
        "```\n",
        "\n",
        "**Best Regular**\n",
        "\n",
        "*Bagging Logistic Model:*\n",
        "```python\n",
        "BaggingClassifier(estimator=LogisticRegression(max_iter=1000, multi_class='multinomial'),\n",
        "                  n_estimators=30)\n",
        "```\n",
        "```python\n",
        "Regular Recall: 0.9585, std: 0.0422\n",
        "Average Confusion Matrix: [466  27115  708]\n",
        "```\n",
        "\n",
        "**Best Overall**\n",
        "1. *Voting2class1* \n",
        "\n",
        "more balanced between the 3 recalls\n",
        "```python\n",
        "VotingClassifier(estimators=[('fraud',\n",
        "                              LogisticRegression(class_weight='balanced', max_iter=2000, multi_class='multinomial')),\n",
        "                             ('reg_sus',\n",
        "                              XGBClassifier(colsample_bytree=0.8,\n",
        "                                            learning_rate=0.3, max_depth=4, n_estimators=100, num_class=3, objective='multi:softmax'))], \n",
        "                  voting='soft')\n",
        "```\n",
        "```python\n",
        "Fraud Recall: 0.8637, std: 0.2231\n",
        "```\n",
        "```python\n",
        "Suspected Recall: 0.8913, std: 0.1258\n",
        "```\n",
        "```python\n",
        "Regular Recall: 0.9366, std: 0.0675\n",
        "```\n",
        "```python\n",
        "Total Recall: 0.8972, std: 0.1322\n",
        "```\n",
        "```python\n",
        " Average Confusion Matrix:\n",
        "[[701  87  24]\n",
        " [235  26500  1560]\n",
        " [25  736  6240]]\n",
        "```\n",
        "\n",
        "2. *Voting2class* \n",
        "\n",
        "Better on Regular and Fraud, less in Suspected\n",
        "```python\n",
        "VotingClassifier(estimators=[('fraud', StackingClassifier(estimators=[('lr', LogisticRegression(class_weight='balanced', max_iter=2000, multi_class='multinomial')), \n",
        "                                                                      ('dt', DecisionTreeClassifier(max_depth=4))], \n",
        "                                                          final_estimator=DecisionTreeClassifier(max_depth=5))),\n",
        "                             ('reg_sus',\n",
        "                              XGBClassifier(learning_rate=0.3, max_depth=4 n_estimators=100, num_class=3, objective='multi:softmax'))])\n",
        "```\n",
        "\n",
        "```python\n",
        "Fraud Recall: 0.9387, std: 0.1318\t\n",
        "```\n",
        "```python\n",
        "Suspected Recall: 0.7848, std: 0.0763 \n",
        "```\n",
        "```python\n",
        "Regular Recall: 0.9541, std: 0.0395\n",
        "```\n",
        "```python\n",
        "Total Recall: 0.8925, std: 0.0708\n",
        "```\n",
        "```python\n",
        " Average Confusion Matrix:\n",
        "[[762  5  0]\n",
        " [625  27000  674]\n",
        " [5  1500  5490]]\n",
        " ```"
      ],
      "metadata": {
        "id": "4SCYYS4a2lOj"
      }
    },
    {
      "cell_type": "markdown",
      "source": [
        "### Try the model over 100 different splits"
      ],
      "metadata": {
        "id": "M6B5o1g_5Ikj"
      }
    },
    {
      "cell_type": "code",
      "source": [
        "from sklearn.preprocessing import StandardScaler\n",
        "from sklearn.model_selection import train_test_split\n",
        "from sklearn.decomposition import PCA\n",
        "from sklearn.metrics import confusion_matrix, recall_score\n",
        "import os\n",
        "import pickle\n",
        "import pandas as pd\n",
        "\n",
        "# Standardize the data and split it into training and test sets\n",
        "s = StandardScaler()\n",
        "\n",
        "recall_scores = []\n",
        "precision_scores = []\n",
        "f1_scores = []\n",
        "accuracy_scores = []\n",
        "fraud_recall = []\n",
        "suspected_recall = []\n",
        "regular_recall = [] \n",
        "low = []\n",
        "avg_conf_matrix = np.zeros((3, 3))\n",
        "\n",
        "np.set_printoptions(precision=2)\n",
        "#StackingXGB\n",
        "\n",
        "with open('/content/drive/MyDrive/University/Deloitte/bests/Voting2class.pkl', 'rb') as f:\n",
        "    model = pickle.load(f)\n",
        "\n",
        "for i in range(1, 101):\n",
        "  X_train, X_test, y_train, y_test = train_test_split(X, y, test_size=0.2, stratify=y, shuffle=True)\n",
        "\n",
        "  X_train = s.fit_transform(X_train)\n",
        "  X_test = s.transform(X_test)\n",
        "\n",
        "    # PCA\n",
        "  pca = PCA()\n",
        "  pca.fit(X_train)\n",
        "\n",
        "  cumulative_variance_ratio = np.cumsum(pca.explained_variance_ratio_)\n",
        "  num_components_to_keep = np.argmax(cumulative_variance_ratio >= 0.95) + 1\n",
        "\n",
        "  pca = PCA(n_components=num_components_to_keep)\n",
        "  X_train = pca.fit_transform(X_train)\n",
        "  X_test = pca.transform(X_test)\n",
        "\n",
        "  y_pred = model.predict(X_test)\n",
        "\n",
        "  conf_matrix = confusion_matrix(y_test, y_pred)\n",
        "\n",
        "  recalls = []\n",
        "  for j in range(conf_matrix.shape[0]):\n",
        "      tp = conf_matrix[j,j]\n",
        "      fn = np.sum(conf_matrix[j,:]) - tp\n",
        "      recall = tp / (tp + fn)\n",
        "      recalls.append(recall)\n",
        "\n",
        "  recall_scores.append(recall_score(y_test, y_pred, average=\"macro\"))\n",
        "  fraud_recall.append(recalls[0])\n",
        "  regular_recall.append(recalls[1])\n",
        "  suspected_recall.append(recalls[2])\n",
        "\n",
        "  conf_matrix = confusion_matrix(y_test, y_pred)\n",
        "  avg_conf_matrix += conf_matrix\n",
        "\n",
        "  if i % 10 == 0:\n",
        "      print(f'Iteration: {i}')\n",
        "      print(f'Fraud Recall {round(np.average(fraud_recall), 4)}, {round(np.std(fraud_recall), 4)}')\n",
        "      print(f'Suspected Recall {round(np.average(suspected_recall), 4)}, {round(np.std(suspected_recall), 4)}')\n",
        "      print(f'Regular Recall {round(np.average(regular_recall), 4)}, {round(np.std(regular_recall), 4)}')\n",
        "      print(f'Total Recall {round(np.average(recall_scores), 4)}, {round(np.std(recall_scores), 4)} \\n')\n",
        "\n",
        "  if recalls[0] < 0.7:\n",
        "    low.append(round(recalls[0], 4))\n",
        "  \n",
        "print(f'\\n Fraud Recall: {round(np.average(fraud_recall), 4)}, std: {round(np.std(fraud_recall), 4)}, Under 0.7: {len(low)}, {low}\\n Suspected Recall: {round(np.average(suspected_recall), 4)}, std: {round(np.std(suspected_recall), 4)}\\n Regular Recall: {round(np.average(regular_recall), 4)}, std: {round(np.std(regular_recall), 4)}\\n Total: {round(np.average(recall_scores), 4)}, std: {round(np.std(recall_scores), 4)}')\n",
        "\n",
        "np.set_printoptions(precision=2)\n",
        "avg_conf_matrix /= 100\n",
        "print(\"\\n Average Confusion Matrix:\")\n",
        "print(avg_conf_matrix)\n",
        "\n",
        "print('\\n', model)\n"
      ],
      "metadata": {
        "id": "iiPiNOIj43tm"
      },
      "execution_count": null,
      "outputs": []
    }
  ],
  "metadata": {
    "colab": {
      "collapsed_sections": [
        "E5N-Wqk8cplP",
        "Xy9nzFhvlRoH",
        "rbl5IHavAmrf",
        "L-vAsacIQcxA",
        "AlI1icKTdbwx",
        "zhnOheFoYLgf",
        "u9vscagS5_bu",
        "wSe9dA7f6Gf7",
        "0ZtbK9VB6JZ_",
        "j3WxReGo7xAS",
        "PmEn3QFQu6yn",
        "PHj6rZ2ZubkH",
        "ZFawFxuCu8tb",
        "pI1vItFL6Z3G",
        "gP-BKkkEk-q2",
        "-NBs50BY2Sdx",
        "8k566Lk53oYQ",
        "sF_mG1bU3u-Y",
        "7D--hB6x3_sc",
        "US7o2mUr2fjr",
        "M6B5o1g_5Ikj"
      ],
      "provenance": [],
      "include_colab_link": true
    },
    "gpuClass": "standard",
    "kernelspec": {
      "display_name": "Python 3",
      "name": "python3"
    },
    "language_info": {
      "name": "python"
    },
    "accelerator": "GPU"
  },
  "nbformat": 4,
  "nbformat_minor": 0
}