{
  "cells": [
    {
      "cell_type": "markdown",
      "metadata": {
        "id": "view-in-github",
        "colab_type": "text"
      },
      "source": [
        "<a href=\"https://colab.research.google.com/github/giakomorssi/Deloitte_Project/blob/main/Deloitte.ipynb\" target=\"_parent\"><img src=\"https://colab.research.google.com/assets/colab-badge.svg\" alt=\"Open In Colab\"/></a>"
      ]
    },
    {
      "cell_type": "markdown",
      "source": [
        "# Prima parte"
      ],
      "metadata": {
        "id": "Xy9nzFhvlRoH"
      }
    },
    {
      "cell_type": "markdown",
      "metadata": {
        "id": "E5N-Wqk8cplP"
      },
      "source": [
        "## Import Data"
      ]
    },
    {
      "cell_type": "code",
      "execution_count": 69,
      "metadata": {
        "colab": {
          "base_uri": "https://localhost:8080/"
        },
        "id": "aqdEiQ2VAHxr",
        "outputId": "17cf74bb-4a12-4f2f-b5a4-77ffda2b44c7"
      },
      "outputs": [
        {
          "output_type": "stream",
          "name": "stdout",
          "text": [
            "Drive already mounted at /content/drive; to attempt to forcibly remount, call drive.mount(\"/content/drive\", force_remount=True).\n",
            "Runtime switched to GPU\n",
            "GPU device found: /device:GPU:0\n",
            "Default GPU Device: /device:GPU:0\n"
          ]
        }
      ],
      "source": [
        "from google.colab import drive\n",
        "drive.mount('/content/drive')\n",
        "\n",
        "import pandas as pd\n",
        "\n",
        "# Change Colab runtime to GPU\n",
        "import os\n",
        "os.environ['COLAB_TPU_ADDR'] = ''\n",
        "os.environ['COLAB_GPU_ALLOC'] = '1'\n",
        "os.environ['COLAB_GPU'] = '1'\n",
        "print(\"Runtime switched to GPU\")\n",
        "\n",
        "import tensorflow as tf\n",
        "\n",
        "if not tf.test.gpu_device_name():\n",
        "    print('GPU device not found')\n",
        "else:\n",
        "    print('GPU device found:', tf.test.gpu_device_name())\n",
        "\n",
        "# This code sets the runtime to use the GPU if available\n",
        "if tf.test.gpu_device_name():\n",
        "    print('Default GPU Device: {}'.format(tf.test.gpu_device_name()))\n",
        "else:\n",
        "    print(\"Please install GPU version of TF\")\n",
        "\n",
        "\n",
        "pd.set_option('display.max_columns', None)"
      ]
    },
    {
      "cell_type": "code",
      "execution_count": 70,
      "metadata": {
        "id": "1-OfMB8TADIS"
      },
      "outputs": [],
      "source": [
        "df = pd.read_csv('/content/drive/MyDrive/University/Deloitte/SupplyChainDataset.csv', encoding = 'latin-1')"
      ]
    },
    {
      "cell_type": "markdown",
      "metadata": {
        "id": "rbl5IHavAmrf"
      },
      "source": [
        "## Cleaning"
      ]
    },
    {
      "cell_type": "markdown",
      "metadata": {
        "id": "cQjBufqBJhMb"
      },
      "source": [
        "### Remove Na and Empty Columns"
      ]
    },
    {
      "cell_type": "code",
      "source": [
        "df.isna().sum()"
      ],
      "metadata": {
        "colab": {
          "base_uri": "https://localhost:8080/"
        },
        "id": "N5yku45-KfJV",
        "outputId": "86cf3f69-3fd9-4a5e-8536-1b2a7fcc14f0"
      },
      "execution_count": 71,
      "outputs": [
        {
          "output_type": "execute_result",
          "data": {
            "text/plain": [
              "Type                                  0\n",
              "Days for shipping (real)              0\n",
              "Days for shipment (scheduled)         0\n",
              "Benefit per order                     0\n",
              "Sales per customer                    0\n",
              "Delivery Status                       0\n",
              "Late_delivery_risk                    0\n",
              "Category Id                           0\n",
              "Category Name                         0\n",
              "Customer City                         0\n",
              "Customer Country                      0\n",
              "Customer Email                        0\n",
              "Customer Fname                        0\n",
              "Customer Id                           0\n",
              "Customer Lname                        8\n",
              "Customer Password                     0\n",
              "Customer Segment                      0\n",
              "Customer State                        0\n",
              "Customer Street                       0\n",
              "Customer Zipcode                      3\n",
              "Department Id                         0\n",
              "Department Name                       0\n",
              "Latitude                              0\n",
              "Longitude                             0\n",
              "Market                                0\n",
              "Order City                            0\n",
              "Order Country                         0\n",
              "Order Customer Id                     0\n",
              "order date (DateOrders)               0\n",
              "Order Id                              0\n",
              "Order Item Cardprod Id                0\n",
              "Order Item Discount                   0\n",
              "Order Item Discount Rate              0\n",
              "Order Item Id                         0\n",
              "Order Item Product Price              0\n",
              "Order Item Profit Ratio               0\n",
              "Order Item Quantity                   0\n",
              "Sales                                 0\n",
              "Order Item Total                      0\n",
              "Order Profit Per Order                0\n",
              "Order Region                          0\n",
              "Order State                           0\n",
              "Order Status                          0\n",
              "Order Zipcode                    155679\n",
              "Product Card Id                       0\n",
              "Product Category Id                   0\n",
              "Product Description              180519\n",
              "Product Image                         0\n",
              "Product Name                          0\n",
              "Product Price                         0\n",
              "Product Status                        0\n",
              "shipping date (DateOrders)            0\n",
              "Shipping Mode                         0\n",
              "dtype: int64"
            ]
          },
          "metadata": {},
          "execution_count": 71
        }
      ]
    },
    {
      "cell_type": "code",
      "execution_count": 72,
      "metadata": {
        "id": "473D-9JaPNX3"
      },
      "outputs": [],
      "source": [
        "df.drop(['Product Description', 'Order Zipcode', 'Customer Email', 'Customer Password'], axis = 1, inplace = True) #empty columns \n",
        "df.dropna(inplace = True) #remove 1 missing value"
      ]
    },
    {
      "cell_type": "code",
      "execution_count": 73,
      "metadata": {
        "colab": {
          "base_uri": "https://localhost:8080/"
        },
        "id": "Bi4HwcRhPIti",
        "outputId": "f3d204bf-67d1-4ea3-d90f-cb066a4cc9c2"
      },
      "outputs": [
        {
          "output_type": "execute_result",
          "data": {
            "text/plain": [
              "Type                             0\n",
              "Days for shipping (real)         0\n",
              "Days for shipment (scheduled)    0\n",
              "Benefit per order                0\n",
              "Sales per customer               0\n",
              "Delivery Status                  0\n",
              "Late_delivery_risk               0\n",
              "Category Id                      0\n",
              "Category Name                    0\n",
              "Customer City                    0\n",
              "Customer Country                 0\n",
              "Customer Fname                   0\n",
              "Customer Id                      0\n",
              "Customer Lname                   0\n",
              "Customer Segment                 0\n",
              "Customer State                   0\n",
              "Customer Street                  0\n",
              "Customer Zipcode                 0\n",
              "Department Id                    0\n",
              "Department Name                  0\n",
              "Latitude                         0\n",
              "Longitude                        0\n",
              "Market                           0\n",
              "Order City                       0\n",
              "Order Country                    0\n",
              "Order Customer Id                0\n",
              "order date (DateOrders)          0\n",
              "Order Id                         0\n",
              "Order Item Cardprod Id           0\n",
              "Order Item Discount              0\n",
              "Order Item Discount Rate         0\n",
              "Order Item Id                    0\n",
              "Order Item Product Price         0\n",
              "Order Item Profit Ratio          0\n",
              "Order Item Quantity              0\n",
              "Sales                            0\n",
              "Order Item Total                 0\n",
              "Order Profit Per Order           0\n",
              "Order Region                     0\n",
              "Order State                      0\n",
              "Order Status                     0\n",
              "Product Card Id                  0\n",
              "Product Category Id              0\n",
              "Product Image                    0\n",
              "Product Name                     0\n",
              "Product Price                    0\n",
              "Product Status                   0\n",
              "shipping date (DateOrders)       0\n",
              "Shipping Mode                    0\n",
              "dtype: int64"
            ]
          },
          "metadata": {},
          "execution_count": 73
        }
      ],
      "source": [
        "df.isna().sum()"
      ]
    },
    {
      "cell_type": "markdown",
      "metadata": {
        "id": "L-vAsacIQcxA"
      },
      "source": [
        "## Encoding"
      ]
    },
    {
      "cell_type": "markdown",
      "metadata": {
        "id": "51sfyL1ITG8j"
      },
      "source": [
        "### Type"
      ]
    },
    {
      "cell_type": "code",
      "execution_count": 74,
      "metadata": {
        "colab": {
          "base_uri": "https://localhost:8080/"
        },
        "id": "TzRArQ7FNspJ",
        "outputId": "35af2ce2-ca2a-432f-bfcc-b2e4e45c84da"
      },
      "outputs": [
        {
          "output_type": "stream",
          "name": "stdout",
          "text": [
            "0 \n",
            "\n",
            "Original labels: ['CASH' 'DEBIT' 'PAYMENT' 'TRANSFER'] \n",
            "\n"
          ]
        }
      ],
      "source": [
        "# One-hot encode the TYPE variable\n",
        "from sklearn.preprocessing import LabelEncoder\n",
        "\n",
        "le = LabelEncoder()\n",
        "df['Type_Encoded'] = le.fit_transform(df['Type'])\n",
        "\n",
        "col_c = df.pop('Type_Encoded')\n",
        "posizione = df.columns.get_loc(\"Type\")\n",
        "df.insert(posizione+1, 'Type_Encoded', col_c)\n",
        "\n",
        "print(posizione, '\\n')\n",
        "\n",
        "print(\"Original labels:\", le.classes_, '\\n')"
      ]
    },
    {
      "cell_type": "markdown",
      "metadata": {
        "id": "RAEsy1OPTKIw"
      },
      "source": [
        "### Delivery Status"
      ]
    },
    {
      "cell_type": "code",
      "execution_count": 75,
      "metadata": {
        "colab": {
          "base_uri": "https://localhost:8080/"
        },
        "id": "d16tlaL0Ta5C",
        "outputId": "fc639c30-fdb4-4e3f-818b-e1bc54623ba9"
      },
      "outputs": [
        {
          "output_type": "stream",
          "name": "stdout",
          "text": [
            "6 \n",
            "\n",
            "Original labels: ['Advance shipping' 'Late delivery' 'Shipping canceled' 'Shipping on time'] \n",
            "\n"
          ]
        }
      ],
      "source": [
        "le = LabelEncoder()\n",
        "df['Delivery Status_Encoded'] = le.fit_transform(df['Delivery Status'])\n",
        "\n",
        "col_c = df.pop('Delivery Status_Encoded')\n",
        "posizione = df.columns.get_loc(\"Delivery Status\")\n",
        "df.insert(posizione+1, 'Delivery Status_Encoded', col_c)\n",
        "\n",
        "print(posizione, '\\n')\n",
        "\n",
        "print(\"Original labels:\", le.classes_, '\\n')"
      ]
    },
    {
      "cell_type": "markdown",
      "metadata": {
        "id": "Ee6qbmhUUAJ4"
      },
      "source": [
        "### Customer Segment"
      ]
    },
    {
      "cell_type": "code",
      "execution_count": 76,
      "metadata": {
        "colab": {
          "base_uri": "https://localhost:8080/"
        },
        "id": "TvQOEDLsUEPL",
        "outputId": "7d0888c0-91f7-4320-a725-3edfd8522896"
      },
      "outputs": [
        {
          "output_type": "stream",
          "name": "stdout",
          "text": [
            "16 \n",
            "\n",
            "Original labels: ['Consumer' 'Corporate' 'Home Office'] \n",
            "\n"
          ]
        }
      ],
      "source": [
        "le = LabelEncoder()\n",
        "df['Customer Segment_Encoded'] = le.fit_transform(df['Customer Segment'])\n",
        "\n",
        "col_c = df.pop('Customer Segment_Encoded')\n",
        "posizione = df.columns.get_loc(\"Customer Segment\")\n",
        "df.insert(posizione+1, 'Customer Segment_Encoded', col_c)\n",
        "\n",
        "print(posizione, '\\n')\n",
        "\n",
        "print(\"Original labels:\", le.classes_, '\\n')"
      ]
    },
    {
      "cell_type": "markdown",
      "metadata": {
        "id": "vdUMBuHUTSTf"
      },
      "source": [
        "### Order Status"
      ]
    },
    {
      "cell_type": "code",
      "execution_count": 77,
      "metadata": {
        "colab": {
          "base_uri": "https://localhost:8080/"
        },
        "id": "DHZ26SlPT2Mz",
        "outputId": "a05406cb-0d16-4aa9-f18f-377046f53ff6"
      },
      "outputs": [
        {
          "output_type": "stream",
          "name": "stdout",
          "text": [
            "43 \n",
            "\n",
            "Original labels: ['CANCELED' 'CLOSED' 'COMPLETE' 'ON_HOLD' 'PAYMENT_REVIEW' 'PENDING'\n",
            " 'PENDING_PAYMENT' 'PROCESSING' 'SUSPECTED_FRAUD'] \n",
            "\n"
          ]
        }
      ],
      "source": [
        "le = LabelEncoder()\n",
        "df['Order Status_Encoded'] = le.fit_transform(df['Order Status'])\n",
        "\n",
        "col_c = df.pop('Order Status_Encoded')\n",
        "posizione = df.columns.get_loc(\"Order Status\")\n",
        "df.insert(posizione+1, 'Order Status_Encoded', col_c)\n",
        "\n",
        "print(posizione, '\\n')\n",
        "\n",
        "print(\"Original labels:\", le.classes_, '\\n')"
      ]
    },
    {
      "cell_type": "markdown",
      "metadata": {
        "id": "7I0SONd1TVKu"
      },
      "source": [
        "### Shipping Mode"
      ]
    },
    {
      "cell_type": "code",
      "execution_count": 78,
      "metadata": {
        "colab": {
          "base_uri": "https://localhost:8080/"
        },
        "id": "8Esxz_p0T24Y",
        "outputId": "dd7c316e-f090-4083-b0a8-7770cbeaed35"
      },
      "outputs": [
        {
          "output_type": "stream",
          "name": "stdout",
          "text": [
            "52 \n",
            "\n",
            "Original labels: ['First Class' 'Same Day' 'Second Class' 'Standard Class'] \n",
            "\n"
          ]
        }
      ],
      "source": [
        "le = LabelEncoder()\n",
        "df['Shipping Mode_Encoded'] = le.fit_transform(df['Shipping Mode'])\n",
        "\n",
        "col_c = df.pop('Shipping Mode_Encoded')\n",
        "posizione = df.columns.get_loc(\"Shipping Mode\")\n",
        "df.insert(posizione+1, 'Shipping Mode_Encoded', col_c)\n",
        "\n",
        "print(posizione, '\\n')\n",
        "\n",
        "print(\"Original labels:\", le.classes_, '\\n')"
      ]
    },
    {
      "cell_type": "markdown",
      "metadata": {
        "id": "zhnOheFoYLgf"
      },
      "source": [
        "## Check Columns"
      ]
    },
    {
      "cell_type": "markdown",
      "metadata": {
        "id": "pV0U1pphYN0I"
      },
      "source": [
        "### Benefit Per Order and Order Profit Per Order"
      ]
    },
    {
      "cell_type": "code",
      "execution_count": 79,
      "metadata": {
        "id": "OkeAoY0uaxX1"
      },
      "outputs": [],
      "source": [
        "# these two columns are the same\n",
        "(df['Order Profit Per Order'] == df['Benefit per order']).sum()\n",
        "\n",
        "#remove one\n",
        "df.drop(['Order Profit Per Order'], inplace = True, axis = 1)"
      ]
    },
    {
      "cell_type": "code",
      "execution_count": 80,
      "metadata": {
        "colab": {
          "base_uri": "https://localhost:8080/"
        },
        "id": "2VIMJAMaApgo",
        "outputId": "cec71cc5-be6b-4699-d72e-6d50d44a6d2f"
      },
      "outputs": [
        {
          "output_type": "execute_result",
          "data": {
            "text/plain": [
              "33782"
            ]
          },
          "metadata": {},
          "execution_count": 80
        }
      ],
      "source": [
        "len([x for x in df['Benefit per order'] if x < 0])\n",
        "# decide what to do with negatives"
      ]
    },
    {
      "cell_type": "markdown",
      "metadata": {
        "id": "j3WxReGo7xAS"
      },
      "source": [
        "# Fraud Detection"
      ]
    },
    {
      "cell_type": "markdown",
      "metadata": {
        "id": "AlI1icKTdbwx"
      },
      "source": [
        "## Order Status\n"
      ]
    },
    {
      "cell_type": "markdown",
      "source": [
        "\n",
        "1. **COMPLETE:** The order or transaction has been successfully fulfilled and completed.\n",
        "2. **PENDING**: The order or transaction is still in progress and has not yet been completed.\n",
        "3. **CLOSED**: The order or transaction has been closed or terminated for some reason, such as a return or cancellation.\n",
        "4. **PENDING_PAYMENT**: The order or transaction is awaiting payment before it can be processed.\n",
        "5. **CANCELED**: The order or transaction has been canceled by the customer or the seller for some reason.\n",
        "6. **PROCESSING**: The order or transaction is being processed by the seller or merchant.\n",
        "7. **SUSPECTED_FRAUD**: The order or transaction is under review due to suspected fraudulent activity.\n",
        "8. **ON_HOLD**: The order or transaction has been placed on hold for some reason, such as a delay in shipping or a credit hold.\n",
        "9. **PAYMENT_REVIEW**: The payment for the order or transaction is under review by the payment processor or financial institution."
      ],
      "metadata": {
        "id": "36TTH77i6wYn"
      }
    },
    {
      "cell_type": "code",
      "execution_count": 81,
      "metadata": {
        "id": "GbpeZWoTdJOs"
      },
      "outputs": [],
      "source": [
        "# Regular -> Complete, Pending, Pending_Payment, Processing\n",
        "# Suspected -> Closed, Canceled, On_Hold, Payment_Review\n",
        "# Fraud -> Suspected_Fraud\n",
        "\n",
        "# define dictionaries to map status values to categories\n",
        "regular_dict = {'COMPLETE': 'Regular', 'PENDING': 'Regular', 'PENDING_PAYMENT': 'Regular', 'PROCESSING': 'Regular'}\n",
        "suspected_dict = {'CLOSED': 'Suspected', 'CANCELED': 'Suspected', 'ON_HOLD': 'Suspected', 'PAYMENT_REVIEW': 'Suspected'}\n",
        "fraud_dict = {'SUSPECTED_FRAUD': 'Fraud'}\n",
        "\n",
        "# create a function to map status values to categories\n",
        "def map_category(status):\n",
        "    if status in regular_dict:\n",
        "        return regular_dict[status]\n",
        "    elif status in suspected_dict:\n",
        "        return suspected_dict[status]\n",
        "    elif status in fraud_dict:\n",
        "        return fraud_dict[status]\n",
        "    else:\n",
        "        return 'Unknown'\n",
        "\n",
        "# apply the function to the 'status' column to create a new 'category' column\n",
        "df['Category'] = df['Order Status'].apply(map_category)"
      ]
    },
    {
      "cell_type": "code",
      "execution_count": 82,
      "metadata": {
        "colab": {
          "base_uri": "https://localhost:8080/"
        },
        "id": "BUcETFhmg_NZ",
        "outputId": "1f228c54-2db3-4167-8b12-8b4c37acfc6d"
      },
      "outputs": [
        {
          "output_type": "stream",
          "name": "stdout",
          "text": [
            "53 \n",
            "\n",
            "Original labels: ['Fraud' 'Regular' 'Suspected'] \n",
            "\n",
            "labels: \n",
            " 0         1\n",
            "1         1\n",
            "2         2\n",
            "3         1\n",
            "4         1\n",
            "         ..\n",
            "180514    2\n",
            "180515    1\n",
            "180516    1\n",
            "180517    1\n",
            "180518    1\n",
            "Name: Category_Encoded, Length: 180508, dtype: int64 \n",
            "\n"
          ]
        }
      ],
      "source": [
        "le = LabelEncoder()\n",
        "df['Category_Encoded'] = le.fit_transform(df['Category'])\n",
        "\n",
        "col_c = df.pop('Category_Encoded')\n",
        "posizione = df.columns.get_loc(\"Category\")\n",
        "df.insert(posizione+1, 'Category_Encoded', col_c)\n",
        "\n",
        "print(posizione, '\\n')\n",
        "\n",
        "print(\"Original labels:\", le.classes_, '\\n')\n",
        "print(\"labels:\", '\\n',df['Category_Encoded'], '\\n')"
      ]
    },
    {
      "cell_type": "code",
      "execution_count": 83,
      "metadata": {
        "colab": {
          "base_uri": "https://localhost:8080/"
        },
        "id": "06YRcT-NeZZv",
        "outputId": "494c57e2-be6a-467b-d167-e3e47e925122"
      },
      "outputs": [
        {
          "output_type": "stream",
          "name": "stdout",
          "text": [
            "Regular:  141442 \n",
            "\n",
            "Suspected:  35004 \n",
            "\n",
            "Fraud:  4062\n"
          ]
        }
      ],
      "source": [
        "print('Regular: ', len([x for x in df['Category'] if x == 'Regular']), '\\n')\n",
        "print('Suspected: ', len([x for x in df['Category'] if x == 'Suspected']), '\\n')\n",
        "print('Fraud: ', len([x for x in df['Category'] if x == 'Fraud']))"
      ]
    },
    {
      "cell_type": "markdown",
      "metadata": {
        "id": "pI1vItFL6Z3G"
      },
      "source": [
        "## Data preprocessing\n"
      ]
    },
    {
      "cell_type": "code",
      "execution_count": 84,
      "metadata": {
        "id": "8StQ6CiQ6cgR"
      },
      "outputs": [],
      "source": [
        "from sklearn.model_selection import train_test_split\n",
        "from sklearn.preprocessing import StandardScaler\n",
        "\n",
        "s = StandardScaler()\n",
        "\n",
        "df_nn = df.drop(['Type', 'Delivery Status', 'Category Name', 'Customer City',\n",
        "       'Customer Country', 'Customer Fname', 'Customer Id', 'Customer Lname',\n",
        "       'Customer Segment', 'Customer State',\t'Customer Street', 'Department Name', \n",
        "       'Market', 'Order City', 'Order Country', 'Order Customer Id', 'Order Region',\t\n",
        "       'Order State', 'Order Status', 'Product Image',\t'Product Name', 'Shipping Mode', 'Category',\n",
        "       'shipping date (DateOrders)', 'order date (DateOrders)', 'Category Id', 'Customer Zipcode', \n",
        "       'Department Id', 'Latitude',\t'Longitude', 'Order Id',\t'Order Item Cardprod Id',\n",
        "       'Order Item Id', 'Product Card Id', 'Product Category Id'], axis = 1)\n",
        "\n",
        "X = df_nn.drop('Category_Encoded', axis = 1)\n",
        "y = df_nn['Category_Encoded']\n",
        "\n",
        "X = s.fit_transform(X)"
      ]
    },
    {
      "cell_type": "markdown",
      "source": [
        "## PCA"
      ],
      "metadata": {
        "id": "gP-BKkkEk-q2"
      }
    },
    {
      "cell_type": "code",
      "source": [
        "import numpy as np\n",
        "import pandas as pd\n",
        "import matplotlib.pyplot as plt\n",
        "from sklearn.decomposition import PCA\n",
        "\n",
        "# Initialize a PCA object\n",
        "pca = PCA()\n",
        "\n",
        "# Fit the PCA object to the data\n",
        "pca.fit(X)\n",
        "\n",
        "# Create a scree plot\n",
        "num_components = len(pca.explained_variance_ratio_)\n",
        "plt.plot(np.arange(1, num_components+1), pca.explained_variance_ratio_, 'ro-', linewidth=2)\n",
        "plt.title('Scree Plot')\n",
        "plt.xlabel('Principal Component')\n",
        "plt.ylabel('Proportion of Variance Explained')\n",
        "plt.show()\n",
        "\n",
        "# Determine the number of components to keep\n",
        "variance_threshold = 0.95\n",
        "cumulative_variance_ratio = np.cumsum(pca.explained_variance_ratio_)\n",
        "num_components_to_keep = np.argmax(cumulative_variance_ratio >= variance_threshold) + 1\n",
        "\n",
        "print(f'Number of components to keep: {num_components_to_keep}')\n",
        "\n",
        "# Transform the data using the chosen number of components\n",
        "pca = PCA(n_components=num_components_to_keep)\n",
        "X_pca = pca.fit_transform(X)"
      ],
      "metadata": {
        "colab": {
          "base_uri": "https://localhost:8080/",
          "height": 0
        },
        "id": "1SvNIBXmlAWL",
        "outputId": "e4af5e79-9b7b-4533-ab75-ff8936376515"
      },
      "execution_count": 85,
      "outputs": [
        {
          "output_type": "display_data",
          "data": {
            "text/plain": [
              "<Figure size 432x288 with 1 Axes>"
            ],
            "image/png": "[encoded data removed]"
          },
          "metadata": {
            "needs_background": "light"
          }
        },
        {
          "output_type": "stream",
          "name": "stdout",
          "text": [
            "Number of components to keep: 9\n"
          ]
        }
      ]
    },
    {
      "cell_type": "markdown",
      "source": [
        "## Split the data into training and test sets"
      ],
      "metadata": {
        "id": "74MAJ4jGrAR0"
      }
    },
    {
      "cell_type": "code",
      "source": [
        "X_train, X_test, y_train, y_test = train_test_split(X_pca, y, test_size=0.2, random_state=4, stratify=y)"
      ],
      "metadata": {
        "id": "-oa9fb9YrC5g"
      },
      "execution_count": 86,
      "outputs": []
    },
    {
      "cell_type": "code",
      "source": [
        "w_f = y_train.value_counts()[0] / len(y_train)\n",
        "w_r = y_train.value_counts()[1] / len(y_train)\n",
        "w_s = y_train.value_counts()[2] / len(y_train)\n",
        "\n",
        "\n",
        "print(f\"Fraudulant transaction weight: {w_f}\")\n",
        "print(f\"Non-Fraudulant transaction weight: {w_r}\")\n",
        "print(f\"Suspected transaction weight: {w_s}\")"
      ],
      "metadata": {
        "colab": {
          "base_uri": "https://localhost:8080/"
        },
        "id": "JmI_gNVIURbO",
        "outputId": "5cd179ea-1952-4958-d063-bcf7842f770b"
      },
      "execution_count": 87,
      "outputs": [
        {
          "output_type": "stream",
          "name": "stdout",
          "text": [
            "Fraudulant transaction weight: 0.022505990055814856\n",
            "Non-Fraudulant transaction weight: 0.7835754747032672\n",
            "Suspected transaction weight: 0.19391853524091796\n"
          ]
        }
      ]
    },
    {
      "cell_type": "code",
      "source": [
        "print(f\"TRAINING: X_train: {X_train.shape}, y_train: {y_train.shape}\\n\")\n",
        "print(f\"TESTING: X_test: {X_test.shape}, y_test: {y_test.shape}\")"
      ],
      "metadata": {
        "colab": {
          "base_uri": "https://localhost:8080/"
        },
        "id": "PuCDn8wXUVEs",
        "outputId": "496b2ebe-2206-4dfc-f68f-334f1e495606"
      },
      "execution_count": 88,
      "outputs": [
        {
          "output_type": "stream",
          "name": "stdout",
          "text": [
            "TRAINING: X_train: (144406, 9), y_train: (144406,)\n",
            "\n",
            "TESTING: X_test: (36102, 9), y_test: (36102,)\n"
          ]
        }
      ]
    },
    {
      "cell_type": "markdown",
      "source": [
        "## Random Forest"
      ],
      "metadata": {
        "id": "hiuENajFxNh2"
      }
    },
    {
      "cell_type": "markdown",
      "source": [
        "### Model"
      ],
      "metadata": {
        "id": "9YOocGVJ9sDY"
      }
    },
    {
      "cell_type": "markdown",
      "source": [
        "\n",
        "\n",
        "```\n",
        "from sklearn.ensemble import RandomForestClassifier\n",
        "\n",
        "rf_model = RandomForestClassifier(n_estimators=10) # initialize the model with 10 trees\n",
        "rf_model.fit(X_train, y_train) # train the model on the training data\n",
        "\n",
        "# save the model\n",
        "\n",
        "with open('rf_model.pkl', 'wb') as f:\n",
        "    pickle.dump(rf_model, f)\n",
        "```\n",
        "\n"
      ],
      "metadata": {
        "id": "W2I31Ltv9nWU"
      }
    },
    {
      "cell_type": "markdown",
      "source": [
        "### Load the model and make predictions on the testing set"
      ],
      "metadata": {
        "id": "yvf2z2L_9vKM"
      }
    },
    {
      "cell_type": "code",
      "source": [
        "import pickle\n",
        "\n",
        "# Load the saved XGBoost model from file\n",
        "with open('/content/drive/MyDrive/University/Deloitte/rf_model.pkl', 'rb') as f:\n",
        "    rf_model = pickle.load(f)\n",
        "\n",
        "# Use the loaded model to make predictions on the test data\n",
        "y_pred = rf_model.predict(X_test) # make predictions on the testing data\n"
      ],
      "metadata": {
        "id": "vy-nQDAd-MeT"
      },
      "execution_count": 89,
      "outputs": []
    },
    {
      "cell_type": "code",
      "source": [
        "from sklearn.metrics import accuracy_score, confusion_matrix, precision_score, recall_score, f1_score\n",
        "\n",
        "print(\"Accuracy score: \", accuracy_score(y_test, y_pred), '\\n')\n",
        "print('recall score:', recall_score(y_test, y_pred, average=\"macro\"), '\\n')\n",
        "print('precision score:', precision_score(y_test, y_pred, average=\"macro\"), '\\n')\n",
        "print('f1 score:', f1_score(y_test, y_pred, average=\"macro\"), '\\n')\n",
        "print(\"Confusion matrix: \", '\\n', confusion_matrix(y_test, y_pred), '\\n')"
      ],
      "metadata": {
        "colab": {
          "base_uri": "https://localhost:8080/"
        },
        "id": "oKV8cf5K9XP6",
        "outputId": "97f239c4-aa4f-4e7d-8894-a65b63e8ef37"
      },
      "execution_count": 90,
      "outputs": [
        {
          "output_type": "stream",
          "name": "stdout",
          "text": [
            "Accuracy score:  0.9965375879452661 \n",
            "\n",
            "recall score: 0.9930314371159762 \n",
            "\n",
            "precision score: 0.9980234251318946 \n",
            "\n",
            "f1 score: 0.9955020004754372 \n",
            "\n",
            "Confusion matrix:  \n",
            " [[  809     2     1]\n",
            " [    0 28287     2]\n",
            " [    1   119  6881]] \n",
            "\n"
          ]
        }
      ]
    },
    {
      "cell_type": "code",
      "source": [
        "import seaborn as sns\n",
        "import matplotlib.pyplot as plt\n",
        "\n",
        "# Plot the confusion matrix \n",
        "\n",
        "class_names = ['Fraud', 'Regular', 'Suspected Fraud']\n",
        "cm = confusion_matrix(y_test, y_pred)\n",
        "\n",
        "fig, ax = plt.subplots(figsize=(8, 8))\n",
        "im = ax.imshow(cm, interpolation='nearest', cmap=plt.cm.Reds)\n",
        "\n",
        "# Add labels and title with reversed label order\n",
        "ax.set(xticks=np.arange(cm.shape[1]),\n",
        "       yticks=np.arange(cm.shape[0]),\n",
        "       xticklabels=class_names, yticklabels=reversed(class_names),\n",
        "       title='Confusion Matrix',\n",
        "       xlabel='Predicted label',\n",
        "       ylabel='True label')\n",
        "\n",
        "# Add text annotations\n",
        "thresh = cm.max() / 2\n",
        "for i in range(cm.shape[0]):\n",
        "    for j in range(cm.shape[1]):\n",
        "        ax.text(j, i, format(cm[i, j], 'd'),\n",
        "                ha=\"center\", va=\"center\",\n",
        "                color=\"white\" if cm[i, j] > thresh else \"black\")\n",
        "\n",
        "plt.show()"
      ],
      "metadata": {
        "colab": {
          "base_uri": "https://localhost:8080/",
          "height": 513
        },
        "id": "-7P6Bkj6AqWa",
        "outputId": "b54b2bef-c957-4e68-a50d-63fe81e0ea55"
      },
      "execution_count": 91,
      "outputs": [
        {
          "output_type": "display_data",
          "data": {
            "text/plain": [
              "<Figure size 576x576 with 1 Axes>"
            ],
            "image/png": "[encoded data removed]"
          },
          "metadata": {
            "needs_background": "light"
          }
        }
      ]
    },
    {
      "cell_type": "markdown",
      "source": [
        "## Grid Search XGBoost Model"
      ],
      "metadata": {
        "id": "l_WEM21a5ziY"
      }
    },
    {
      "cell_type": "markdown",
      "source": [
        "### Model"
      ],
      "metadata": {
        "id": "XxbJ03XVDRR1"
      }
    },
    {
      "cell_type": "markdown",
      "source": [
        "\n",
        "```\n",
        "import pandas as pd\n",
        "from xgboost import XGBClassifier\n",
        "from sklearn.model_selection import train_test_split, GridSearchCV\n",
        "from sklearn.metrics import accuracy_score, confusion_matrix\n",
        "import pickle\n",
        "\n",
        "# Define the parameter grid to search over\n",
        "param_grid = {\n",
        "    'max_depth': [5, 7],\n",
        "    'learning_rate': [0.01, 0.1],\n",
        "    'n_estimators': [50, 100]\n",
        "}\n",
        "\n",
        "# Create an XGBoost classifier object\n",
        "xgb = XGBClassifier(objective='multi:softmax', num_class=3)\n",
        "\n",
        "# Perform a grid search over the parameter grid using cross-validation\n",
        "grid_search = GridSearchCV(xgb, param_grid=param_grid, cv=3, verbose=3)\n",
        "grid_search.fit(X_train, y_train)\n",
        "\n",
        "# Print the best hyperparameters found\n",
        "print(\"Best hyperparameters: \", grid_search.best_params_)\n",
        "\n",
        "# Use the best hyperparameters to train the model and make predictions on the testing set\n",
        "\n",
        "best_xgb = XGBClassifier(objective='multi:softmax', num_class=3, **grid_search.best_params_)\n",
        "best_xgb.fit(X_train, y_train)\n",
        "\n",
        "# save the model\n",
        "\n",
        "with open('best_xgb.pkl', 'wb') as f:\n",
        "    pickle.dump(best_xgb, f)\n",
        "```\n",
        "\n"
      ],
      "metadata": {
        "id": "i0oD3yTBznvV"
      }
    },
    {
      "cell_type": "markdown",
      "source": [
        "### Load the model and make predictions on the test set"
      ],
      "metadata": {
        "id": "yhlO1FG976lb"
      }
    },
    {
      "cell_type": "code",
      "source": [
        "import pickle\n",
        "\n",
        "# Load the saved XGBoost model from file\n",
        "with open('/content/drive/MyDrive/University/Deloitte/best_xgb.pkl', 'rb') as f:\n",
        "    best_xgb = pickle.load(f)\n",
        "\n",
        "# Use the loaded model to make predictions on the test data\n",
        "y_pred = best_xgb.predict(X_test)"
      ],
      "metadata": {
        "id": "o41EKA0o6Lrz"
      },
      "execution_count": 92,
      "outputs": []
    },
    {
      "cell_type": "code",
      "source": [
        "from sklearn.metrics import confusion_matrix, accuracy_score, recall_score, precision_score, f1_score\n",
        "\n",
        "print(\"Accuracy score: \", accuracy_score(y_test, y_pred), '\\n')\n",
        "print('recall score:', recall_score(y_test, y_pred, average=\"macro\"), '\\n')\n",
        "print('precision score:', precision_score(y_test, y_pred, average=\"macro\"), '\\n')\n",
        "print('f1 score:', f1_score(y_test, y_pred, average=\"macro\"), '\\n')\n",
        "print(\"Confusion matrix: \", '\\n', confusion_matrix(y_test, y_pred), '\\n')"
      ],
      "metadata": {
        "id": "ahdR8hWJ3FR2",
        "colab": {
          "base_uri": "https://localhost:8080/"
        },
        "outputId": "0b7dd3c3-02e5-4138-c37c-70caa54d6a2f"
      },
      "execution_count": 93,
      "outputs": [
        {
          "output_type": "stream",
          "name": "stdout",
          "text": [
            "Accuracy score:  0.9966483851310177 \n",
            "\n",
            "recall score: 0.9936206119876179 \n",
            "\n",
            "precision score: 0.9984333603431635 \n",
            "\n",
            "f1 score: 0.9960036482509841 \n",
            "\n",
            "Confusion matrix:  \n",
            " [[  810     1     1]\n",
            " [    0 28286     3]\n",
            " [    0   116  6885]] \n",
            "\n"
          ]
        }
      ]
    },
    {
      "cell_type": "code",
      "source": [
        "import seaborn as sns\n",
        "import matplotlib.pyplot as plt\n",
        "\n",
        "# Plot the confusion matrix \n",
        "\n",
        "class_names = ['Fraud', 'Regular', 'Suspected Fraud']\n",
        "cm = confusion_matrix(y_test, y_pred)\n",
        "\n",
        "fig, ax = plt.subplots(figsize=(8, 8))\n",
        "im = ax.imshow(cm, interpolation='nearest', cmap=plt.cm.Reds)\n",
        "\n",
        "# Add labels and title with reversed label order\n",
        "ax.set(xticks=np.arange(cm.shape[1]),\n",
        "       yticks=np.arange(cm.shape[0]),\n",
        "       xticklabels=class_names, yticklabels=reversed(class_names),\n",
        "       title='Confusion Matrix',\n",
        "       xlabel='Predicted label',\n",
        "       ylabel='True label')\n",
        "\n",
        "# Add text annotations\n",
        "thresh = cm.max() / 2\n",
        "for i in range(cm.shape[0]):\n",
        "    for j in range(cm.shape[1]):\n",
        "        ax.text(j, i, format(cm[i, j], 'd'),\n",
        "                ha=\"center\", va=\"center\",\n",
        "                color=\"white\" if cm[i, j] > thresh else \"black\")\n",
        "\n",
        "plt.show()"
      ],
      "metadata": {
        "colab": {
          "base_uri": "https://localhost:8080/",
          "height": 513
        },
        "id": "xFpxgYFz1jXx",
        "outputId": "94e53432-3de2-4831-9ba0-3c1174014cb0"
      },
      "execution_count": 94,
      "outputs": [
        {
          "output_type": "display_data",
          "data": {
            "text/plain": [
              "<Figure size 576x576 with 1 Axes>"
            ],
            "image/png": "[encoded data removed]"
          },
          "metadata": {
            "needs_background": "light"
          }
        }
      ]
    },
    {
      "cell_type": "markdown",
      "source": [
        "## Comparing Models"
      ],
      "metadata": {
        "id": "8P0bthFhC6iX"
      }
    },
    {
      "cell_type": "markdown",
      "source": [
        "```python\n",
        "# Random Forest 10 trees\n",
        "\n",
        "Accuracy score:  0.9965375879452661 \n",
        "\n",
        "recall score: 0.9930314371159762 \n",
        "\n",
        "precision score: 0.9980234251318946 \n",
        "\n",
        "f1 score: 0.9955020004754372 \n",
        "```\n",
        "---\n",
        "```python\n",
        "# XGBoost\n",
        "\n",
        "Accuracy score:  0.9966483851310177 \n",
        "\n",
        "recall score: 0.9936206119876179 \n",
        "\n",
        "precision score: 0.9984333603431635 \n",
        "\n",
        "f1 score: 0.9960036482509841\n",
        "```\n",
        "\n"
      ],
      "metadata": {
        "id": "KwLgvv5pBe5g"
      }
    }
  ],
  "metadata": {
    "colab": {
      "collapsed_sections": [
        "Xy9nzFhvlRoH",
        "rbl5IHavAmrf",
        "cQjBufqBJhMb",
        "L-vAsacIQcxA",
        "zhnOheFoYLgf",
        "AlI1icKTdbwx",
        "pI1vItFL6Z3G",
        "gP-BKkkEk-q2",
        "8P0bthFhC6iX"
      ],
      "provenance": [],
      "toc_visible": true,
      "authorship_tag": "ABX9TyO4kL+/ZVRMyl73hN6ZvJnM",
      "include_colab_link": true
    },
    "kernelspec": {
      "display_name": "Python 3",
      "name": "python3"
    },
    "language_info": {
      "name": "python"
    },
    "accelerator": "GPU",
    "gpuClass": "standard"
  },
  "nbformat": 4,
  "nbformat_minor": 0
}