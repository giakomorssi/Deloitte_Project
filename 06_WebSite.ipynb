{
  "nbformat": 4,
  "nbformat_minor": 0,
  "metadata": {
    "colab": {
      "provenance": [],
      "mount_file_id": "1LELcG_hy9JV3NfHduyxaVgm2icRd75-o",
      "authorship_tag": "ABX9TyNvLLFjBgoShxK5WFEh6vyw",
      "include_colab_link": true
    },
    "kernelspec": {
      "name": "python3",
      "display_name": "Python 3"
    },
    "language_info": {
      "name": "python"
    }
  },
  "cells": [
    {
      "cell_type": "markdown",
      "metadata": {
        "id": "view-in-github",
        "colab_type": "text"
      },
      "source": [
        "<a href=\"https://colab.research.google.com/github/giakomorssi/Deloitte_Project/blob/main/06_WebSite.ipynb\" target=\"_parent\"><img src=\"https://colab.research.google.com/assets/colab-badge.svg\" alt=\"Open In Colab\"/></a>"
      ]
    },
    {
      "cell_type": "code",
      "source": [
        "!pip install streamlit -q\n",
        "!pip install pyngrok -q\n",
        "\n",
        "from google.colab import drive\n",
        "drive.mount('/content/drive')\n",
        "\n",
        "!rm -r Deloitte_Project\n",
        "!git clone https://github.com/giakomorssi/Deloitte_Project -q\n",
        "!pip install -q category_encoders"
      ],
      "metadata": {
        "id": "2uViOOCHlTFY",
        "colab": {
          "base_uri": "https://localhost:8080/"
        },
        "outputId": "32dcc7e2-6b46-4bbd-fc82-2ce286a7d5fe"
      },
      "execution_count": 1,
      "outputs": [
        {
          "output_type": "stream",
          "name": "stdout",
          "text": [
            "Drive already mounted at /content/drive; to attempt to forcibly remount, call drive.mount(\"/content/drive\", force_remount=True).\n"
          ]
        }
      ]
    },
    {
      "cell_type": "code",
      "source": [
        "%%writefile results.py\n",
        "import streamlit as st\n",
        "from pyngrok import ngrok\n",
        "import pickle\n",
        "\n",
        "def page_home():\n",
        "    st.title(\"Deloitte Project\")\n",
        "\n",
        "    st.subheader(\"Team Members\")\n",
        "    st.write('Giacomo Rossi - 763391')\n",
        "    st.write('Giuseppe Rossi - 763392')\n",
        "    st.write('Francesco Rossi - 763393')\n",
        "\n",
        "    st.subheader(\"Project Description\")\n",
        "    st.write('Description of the project, we did a fantastic job with the Recall!!')\n",
        "\n",
        "def delivery():\n",
        "    import pandas as pd\n",
        "    from keras.models import load_model\n",
        "    import sys\n",
        "    sys.path.append('/content/Deloitte_Project')\n",
        "    from functions import prediction_pkl_st\n",
        "\n",
        "    # Load the dataframe and the model\n",
        "    df = pd.read_csv('/content/drive/MyDrive/University/Deloitte/SupplyChainDataset_prediction.csv')\n",
        "    with open('/content/drive/MyDrive/University/Deloitte/models_lr/stacking.pkl', 'rb') as f:\n",
        "      model = pickle.load(f)\n",
        "\n",
        "    # Define the Streamlit app\n",
        "    st.title(\"Delivery Prediction\")\n",
        "    results = prediction_pkl_st(model, df)\n",
        "\n",
        "def fraud():\n",
        "    import pandas as pd\n",
        "    import seaborn as sns\n",
        "    from scipy.sparse import hstack\n",
        "    import pickle\n",
        "    from keras.models import load_model\n",
        "    import sys\n",
        "    sys.path.append('/content/Deloitte_Project')\n",
        "    from functions import fraud_detection_st\n",
        "\n",
        "    # Load the dataframe and the model\n",
        "    df = pd.read_csv('/content/drive/MyDrive/University/Deloitte/df_fraud.csv')\n",
        "    with open('/content/drive/MyDrive/University/Deloitte/model_fraud/voting_2.pkl', 'rb') as f:\n",
        "      model = pickle.load(f)\n",
        "\n",
        "    # Define the Streamlit app\n",
        "    st.title(\"Fraud Detection\")\n",
        "    results = fraud_detection_st(model, df)\n",
        "\n",
        "def delay():\n",
        "    import pandas as pd\n",
        "    from keras.models import load_model\n",
        "    import sys\n",
        "    import pickle\n",
        "    sys.path.append('/content/Deloitte_Project')\n",
        "    from functions import delay_detection_st\n",
        "\n",
        "    # Load the dataframe and the model\n",
        "    df = pd.read_csv('/content/drive/MyDrive/University/Deloitte/SupplyChainDataset_delay.csv')\n",
        "    with open(f'/content/drive/MyDrive/University/Deloitte/model_delay/lr.pkl', 'rb') as f:\n",
        "        model = pickle.load(f)\n",
        "\n",
        "    # Define the Streamlit app\n",
        "    st.title(\"Delay Detection\")\n",
        "\n",
        "    results = delay_detection_st(model, df)\n",
        "\n",
        "# Define the Streamlit app\n",
        "st.set_page_config(page_title=\"Home\")\n",
        "\n",
        "# Define the sidebar menu options\n",
        "menu = [\"Home\", \"Delivery Prediction\", \"Fraud Detection\", \"Delay Detection\"]\n",
        "\n",
        "# Add a sidebar with menu options\n",
        "selection = st.sidebar.selectbox(\"Select a page\", menu)\n",
        "\n",
        "# Show the appropriate page based on the user's selection\n",
        "if selection == \"Home\":\n",
        "    page_home()\n",
        "elif selection == \"Delivery Prediction\":\n",
        "    delivery()\n",
        "elif selection == \"Fraud Detection\":\n",
        "    fraud()\n",
        "elif selection == \"Delay Detection\":\n",
        "    delay()"
      ],
      "metadata": {
        "colab": {
          "base_uri": "https://localhost:8080/"
        },
        "id": "8wiGrrb6J4AF",
        "outputId": "dcd7bdb4-5275-4bd0-8a75-317bb5bfed8f"
      },
      "execution_count": 35,
      "outputs": [
        {
          "output_type": "stream",
          "name": "stdout",
          "text": [
            "Overwriting results.py\n"
          ]
        }
      ]
    },
    {
      "cell_type": "code",
      "source": [
        "!ngrok config add-authtoken 2Os9zzredbb8cwhJCvTOPcl2Klr_6h71Mwjp8SsE4jWhUjos5\n",
        "\n",
        "!wget https://bin.equinox.io/c/4VmDzA7iaHb/ngrok-stable-linux-amd64.zip\n",
        "\n",
        "!unzip ngrok-stable-linux-amd64.zip"
      ],
      "metadata": {
        "colab": {
          "base_uri": "https://localhost:8080/"
        },
        "id": "OgjPZiXLOLD1",
        "outputId": "3a8b29c0-6337-49a5-a012-b12ade32aadd"
      },
      "execution_count": 19,
      "outputs": [
        {
          "output_type": "stream",
          "name": "stdout",
          "text": [
            "Authtoken saved to configuration file: /root/.ngrok2/ngrok.yml\n",
            "--2023-04-26 09:52:05--  https://bin.equinox.io/c/4VmDzA7iaHb/ngrok-stable-linux-amd64.zip\n",
            "Resolving bin.equinox.io (bin.equinox.io)... 54.161.241.46, 18.205.222.128, 52.202.168.65, ...\n",
            "Connecting to bin.equinox.io (bin.equinox.io)|54.161.241.46|:443... connected.\n",
            "HTTP request sent, awaiting response... 200 OK\n",
            "Length: 13921656 (13M) [application/octet-stream]\n",
            "Saving to: ‘ngrok-stable-linux-amd64.zip.7’\n",
            "\n",
            "ngrok-stable-linux- 100%[===================>]  13.28M  51.5MB/s    in 0.3s    \n",
            "\n",
            "2023-04-26 09:52:05 (51.5 MB/s) - ‘ngrok-stable-linux-amd64.zip.7’ saved [13921656/13921656]\n",
            "\n",
            "Archive:  ngrok-stable-linux-amd64.zip\n",
            "replace ngrok? [y]es, [n]o, [A]ll, [N]one, [r]ename: n\n"
          ]
        }
      ]
    },
    {
      "cell_type": "code",
      "source": [
        "get_ipython().system_raw('./ngrok http 8501 &')\n",
        "\n",
        "! curl -s http://localhost:4040/api/tunnels | python3 -c \\\n",
        "    \"import sys, json; print(json.load(sys.stdin)['tunnels'][0]['public_url'])\""
      ],
      "metadata": {
        "colab": {
          "base_uri": "https://localhost:8080/"
        },
        "id": "kcp4jvz6QC1V",
        "outputId": "5108371b-e725-466c-daa9-ae4301a721ba"
      },
      "execution_count": 37,
      "outputs": [
        {
          "output_type": "stream",
          "name": "stdout",
          "text": [
            "https://4307-34-74-97-132.ngrok-free.app\n"
          ]
        }
      ]
    },
    {
      "cell_type": "code",
      "source": [
        "!streamlit run /content/results.py"
      ],
      "metadata": {
        "colab": {
          "base_uri": "https://localhost:8080/"
        },
        "id": "NQ6MiRrXOWtd",
        "outputId": "be4b597b-e59a-4546-95f0-20a4255fe26b"
      },
      "execution_count": null,
      "outputs": [
        {
          "output_type": "stream",
          "name": "stdout",
          "text": [
            "\n",
            "Collecting usage statistics. To deactivate, set browser.gatherUsageStats to False.\n",
            "\u001b[0m\n",
            "\u001b[0m\n",
            "\u001b[34m\u001b[1m  You can now view your Streamlit app in your browser.\u001b[0m\n",
            "\u001b[0m\n",
            "\u001b[34m  Network URL: \u001b[0m\u001b[1mhttp://172.28.0.12:8501\u001b[0m\n",
            "\u001b[34m  External URL: \u001b[0m\u001b[1mhttp://34.74.97.132:8501\u001b[0m\n",
            "\u001b[0m\n",
            "2023-04-26 09:59:03.486058: I tensorflow/core/platform/cpu_feature_guard.cc:182] This TensorFlow binary is optimized to use available CPU instructions in performance-critical operations.\n",
            "To enable the following instructions: AVX2 FMA, in other operations, rebuild TensorFlow with the appropriate compiler flags.\n",
            "2023-04-26 09:59:05.087585: W tensorflow/compiler/tf2tensorrt/utils/py_utils.cc:38] TF-TRT Warning: Could not find TensorRT\n"
          ]
        }
      ]
    }
  ]
}