{
  "nbformat": 4,
  "nbformat_minor": 0,
  "metadata": {
    "colab": {
      "provenance": [],
      "mount_file_id": "1LELcG_hy9JV3NfHduyxaVgm2icRd75-o",
      "authorship_tag": "ABX9TyMboSJwzI47EOnETGtRK+ZP",
      "include_colab_link": true
    },
    "kernelspec": {
      "name": "python3",
      "display_name": "Python 3"
    },
    "language_info": {
      "name": "python"
    }
  },
  "cells": [
    {
      "cell_type": "markdown",
      "metadata": {
        "id": "view-in-github",
        "colab_type": "text"
      },
      "source": [
        "<a href=\"https://colab.research.google.com/github/giakomorssi/Deloitte_Project/blob/main/06_WebSite.ipynb\" target=\"_parent\"><img src=\"https://colab.research.google.com/assets/colab-badge.svg\" alt=\"Open In Colab\"/></a>"
      ]
    },
    {
      "cell_type": "code",
      "source": [
        "!pip install streamlit -q\n",
        "!pip install pyngrok -q\n",
        "\n",
        "from google.colab import drive\n",
        "drive.mount('/content/drive')\n",
        "\n",
        "!rm -r Deloitte_Project\n",
        "!git clone https://github.com/giakomorssi/Deloitte_Project -q\n",
        "!pip install -q category_encoders"
      ],
      "metadata": {
        "id": "2uViOOCHlTFY",
        "colab": {
          "base_uri": "https://localhost:8080/"
        },
        "outputId": "1761f608-f111-49a8-aa38-4367fe657ec4"
      },
      "execution_count": 1,
      "outputs": [
        {
          "output_type": "stream",
          "name": "stdout",
          "text": [
            "\u001b[?25l     \u001b[90m━━━━━━━━━━━━━━━━━━━━━━━━━━━━━━━━━━━━━━━━\u001b[0m \u001b[32m0.0/9.7 MB\u001b[0m \u001b[31m?\u001b[0m eta \u001b[36m-:--:--\u001b[0m\r\u001b[2K     \u001b[91m━━━━━━━━\u001b[0m\u001b[90m╺\u001b[0m\u001b[90m━━━━━━━━━━━━━━━━━━━━━━━━━━━━━━━\u001b[0m \u001b[32m2.0/9.7 MB\u001b[0m \u001b[31m62.2 MB/s\u001b[0m eta \u001b[36m0:00:01\u001b[0m\r\u001b[2K     \u001b[91m━━━━━━━━━━━━━━━━━━━━━━\u001b[0m\u001b[91m╸\u001b[0m\u001b[90m━━━━━━━━━━━━━━━━━\u001b[0m \u001b[32m5.6/9.7 MB\u001b[0m \u001b[31m75.8 MB/s\u001b[0m eta \u001b[36m0:00:01\u001b[0m\r\u001b[2K     \u001b[91m━━━━━━━━━━━━━━━━━━━━━━━━━━━━━━━━━━\u001b[0m\u001b[90m╺\u001b[0m\u001b[90m━━━━━\u001b[0m \u001b[32m8.3/9.7 MB\u001b[0m \u001b[31m73.6 MB/s\u001b[0m eta \u001b[36m0:00:01\u001b[0m\r\u001b[2K     \u001b[91m━━━━━━━━━━━━━━━━━━━━━━━━━━━━━━━━━━━━━━━\u001b[0m\u001b[91m╸\u001b[0m \u001b[32m9.7/9.7 MB\u001b[0m \u001b[31m76.1 MB/s\u001b[0m eta \u001b[36m0:00:01\u001b[0m\r\u001b[2K     \u001b[91m━━━━━━━━━━━━━━━━━━━━━━━━━━━━━━━━━━━━━━━\u001b[0m\u001b[91m╸\u001b[0m \u001b[32m9.7/9.7 MB\u001b[0m \u001b[31m76.1 MB/s\u001b[0m eta \u001b[36m0:00:01\u001b[0m\r\u001b[2K     \u001b[90m━━━━━━━━━━━━━━━━━━━━━━━━━━━━━━━━━━━━━━━━\u001b[0m \u001b[32m9.7/9.7 MB\u001b[0m \u001b[31m46.3 MB/s\u001b[0m eta \u001b[36m0:00:00\u001b[0m\n",
            "\u001b[?25h  Preparing metadata (setup.py) ... \u001b[?25l\u001b[?25hdone\n",
            "\u001b[2K     \u001b[90m━━━━━━━━━━━━━━━━━━━━━━━━━━━━━━━━━━━━━━━━\u001b[0m \u001b[32m82.1/82.1 kB\u001b[0m \u001b[31m4.7 MB/s\u001b[0m eta \u001b[36m0:00:00\u001b[0m\n",
            "\u001b[2K     \u001b[90m━━━━━━━━━━━━━━━━━━━━━━━━━━━━━━━━━━━━━━━━\u001b[0m \u001b[32m4.8/4.8 MB\u001b[0m \u001b[31m13.0 MB/s\u001b[0m eta \u001b[36m0:00:00\u001b[0m\n",
            "\u001b[2K     \u001b[90m━━━━━━━━━━━━━━━━━━━━━━━━━━━━━━━━━━━━━━━\u001b[0m \u001b[32m184.3/184.3 kB\u001b[0m \u001b[31m2.7 MB/s\u001b[0m eta \u001b[36m0:00:00\u001b[0m\n",
            "\u001b[2K     \u001b[90m━━━━━━━━━━━━━━━━━━━━━━━━━━━━━━━━━━━━━━━\u001b[0m \u001b[32m164.8/164.8 kB\u001b[0m \u001b[31m6.3 MB/s\u001b[0m eta \u001b[36m0:00:00\u001b[0m\n",
            "\u001b[2K     \u001b[90m━━━━━━━━━━━━━━━━━━━━━━━━━━━━━━━━━━━━━━━━\u001b[0m \u001b[32m62.7/62.7 kB\u001b[0m \u001b[31m4.4 MB/s\u001b[0m eta \u001b[36m0:00:00\u001b[0m\n",
            "\u001b[?25h  Building wheel for validators (setup.py) ... \u001b[?25l\u001b[?25hdone\n",
            "\u001b[2K     \u001b[90m━━━━━━━━━━━━━━━━━━━━━━━━━━━━━━━━━━━━━━\u001b[0m \u001b[32m681.2/681.2 kB\u001b[0m \u001b[31m27.2 MB/s\u001b[0m eta \u001b[36m0:00:00\u001b[0m\n",
            "\u001b[?25h  Preparing metadata (setup.py) ... \u001b[?25l\u001b[?25hdone\n",
            "  Building wheel for pyngrok (setup.py) ... \u001b[?25l\u001b[?25hdone\n",
            "Drive already mounted at /content/drive; to attempt to forcibly remount, call drive.mount(\"/content/drive\", force_remount=True).\n",
            "rm: cannot remove 'Deloitte_Project': No such file or directory\n",
            "\u001b[2K     \u001b[90m━━━━━━━━━━━━━━━━━━━━━━━━━━━━━━━━━━━━━━━━\u001b[0m \u001b[32m81.2/81.2 kB\u001b[0m \u001b[31m7.0 MB/s\u001b[0m eta \u001b[36m0:00:00\u001b[0m\n",
            "\u001b[?25h"
          ]
        }
      ]
    },
    {
      "cell_type": "code",
      "source": [
        "%%writefile results.py\n",
        "import streamlit as st\n",
        "from pyngrok import ngrok\n",
        "\n",
        "def page_home():\n",
        "    st.title(\"Deloitte Project\")\n",
        "\n",
        "    st.subheader(\"Team Members\")\n",
        "    st.write('Giacomo Rossi - 763391')\n",
        "    st.write('Giuseppe Rossi - 763392')\n",
        "    st.write('Francesco Rossi - 763393')\n",
        "\n",
        "    st.subheader(\"Project Description\")\n",
        "    st.write('Description of the project, we did a fantastic job with the Recall!!')\n",
        "\n",
        "def delivery():\n",
        "    import pandas as pd\n",
        "    from keras.models import load_model\n",
        "    import sys\n",
        "    sys.path.append('/content/Deloitte_Project')\n",
        "    from functions import prediction_h5_st\n",
        "\n",
        "    # Load the dataframe and the model\n",
        "    df = pd.read_csv('/content/drive/MyDrive/University/Deloitte/df_lr.csv')\n",
        "    model = load_model(f'/content/drive/MyDrive/University/Deloitte/models_lr/nn1.h5')\n",
        "\n",
        "    # Define the Streamlit app\n",
        "    st.title(\"Delivery Prediction\")\n",
        "    results = prediction_h5_st(model, df)\n",
        "\n",
        "def fraud():\n",
        "    import pandas as pd\n",
        "    import seaborn as sns\n",
        "    from scipy.sparse import hstack\n",
        "    import pickle\n",
        "    from keras.models import load_model\n",
        "    import sys\n",
        "    sys.path.append('/content/Deloitte_Project')\n",
        "    from functions import fraud_detection_st\n",
        "\n",
        "    # Load the dataframe and the model\n",
        "    df = pd.read_csv('/content/drive/MyDrive/University/Deloitte/df_fraud.csv')\n",
        "    with open('/content/drive/MyDrive/University/Deloitte/model_fraud/voting_2.pkl', 'rb') as f:\n",
        "      model = pickle.load(f)\n",
        "\n",
        "    # Define the Streamlit app\n",
        "    st.title(\"Fraud Detection\")\n",
        "\n",
        "    results = fraud_detection_st(model, df)\n",
        "\n",
        "def delay():\n",
        "    import pandas as pd\n",
        "    from keras.models import load_model\n",
        "    import sys\n",
        "    import pickle\n",
        "    sys.path.append('/content/Deloitte_Project')\n",
        "    from functions import delay_detection_st\n",
        "\n",
        "    # Load the dataframe and the model\n",
        "    df = pd.read_csv('/content/drive/MyDrive/University/Deloitte/SupplyChainDataset_delay.csv')\n",
        "    with open(f'/content/drive/MyDrive/University/Deloitte/model_delay/lr.pkl', 'rb') as f:\n",
        "        model = pickle.load(f)\n",
        "\n",
        "    # Define the Streamlit app\n",
        "    st.title(\"Delay Detection\")\n",
        "\n",
        "    results = delay_detection_st(model, df)\n",
        "\n",
        "# Define the Streamlit app\n",
        "st.set_page_config(page_title=\"Home\")\n",
        "\n",
        "# Define the sidebar menu options\n",
        "menu = [\"Home\", \"Delivery Prediction\", \"Fraud Detection\", \"Delay Detection\"]\n",
        "\n",
        "# Add a sidebar with menu options\n",
        "selection = st.sidebar.selectbox(\"Select a page\", menu)\n",
        "\n",
        "# Show the appropriate page based on the user's selection\n",
        "if selection == \"Home\":\n",
        "    page_home()\n",
        "elif selection == \"Delivery Prediction\":\n",
        "    delivery()\n",
        "elif selection == \"Fraud Detection\":\n",
        "    fraud()\n",
        "elif selection == \"Delay Detection\":\n",
        "    delay()"
      ],
      "metadata": {
        "colab": {
          "base_uri": "https://localhost:8080/"
        },
        "id": "8wiGrrb6J4AF",
        "outputId": "b7cdffa5-4468-4193-85ed-aa99345b9716"
      },
      "execution_count": 19,
      "outputs": [
        {
          "output_type": "stream",
          "name": "stdout",
          "text": [
            "Overwriting results.py\n"
          ]
        }
      ]
    },
    {
      "cell_type": "code",
      "source": [
        "!ngrok config add-authtoken 2Os9zzredbb8cwhJCvTOPcl2Klr_6h71Mwjp8SsE4jWhUjos5\n",
        "\n",
        "!wget https://bin.equinox.io/c/4VmDzA7iaHb/ngrok-stable-linux-amd64.zip\n",
        "\n",
        "!unzip ngrok-stable-linux-amd64.zip"
      ],
      "metadata": {
        "colab": {
          "base_uri": "https://localhost:8080/"
        },
        "id": "OgjPZiXLOLD1",
        "outputId": "0af18c54-814b-4d42-e720-d100eac05ed3"
      },
      "execution_count": 20,
      "outputs": [
        {
          "output_type": "stream",
          "name": "stdout",
          "text": [
            "Authtoken saved to configuration file: /root/.ngrok2/ngrok.yml\n",
            "--2023-04-24 12:38:08--  https://bin.equinox.io/c/4VmDzA7iaHb/ngrok-stable-linux-amd64.zip\n",
            "Resolving bin.equinox.io (bin.equinox.io)... 54.237.133.81, 52.202.168.65, 54.161.241.46, ...\n",
            "Connecting to bin.equinox.io (bin.equinox.io)|54.237.133.81|:443... connected.\n",
            "HTTP request sent, awaiting response... 200 OK\n",
            "Length: 13921656 (13M) [application/octet-stream]\n",
            "Saving to: ‘ngrok-stable-linux-amd64.zip.4’\n",
            "\n",
            "ngrok-stable-linux- 100%[===================>]  13.28M  --.-KB/s    in 0.1s    \n",
            "\n",
            "2023-04-24 12:38:08 (139 MB/s) - ‘ngrok-stable-linux-amd64.zip.4’ saved [13921656/13921656]\n",
            "\n",
            "Archive:  ngrok-stable-linux-amd64.zip\n",
            "replace ngrok? [y]es, [n]o, [A]ll, [N]one, [r]ename: y\n",
            "  inflating: ngrok                   \n"
          ]
        }
      ]
    },
    {
      "cell_type": "code",
      "source": [
        "get_ipython().system_raw('./ngrok http 8501 &')\n",
        "\n",
        "! curl -s http://localhost:4040/api/tunnels | python3 -c \\\n",
        "    \"import sys, json; print(json.load(sys.stdin)['tunnels'][0]['public_url'])\""
      ],
      "metadata": {
        "colab": {
          "base_uri": "https://localhost:8080/"
        },
        "id": "kcp4jvz6QC1V",
        "outputId": "634f0261-ee98-4079-9fb0-df82ea8c1466"
      },
      "execution_count": 21,
      "outputs": [
        {
          "output_type": "stream",
          "name": "stdout",
          "text": [
            "http://d81a-35-245-141-136.ngrok-free.app\n"
          ]
        }
      ]
    },
    {
      "cell_type": "code",
      "source": [
        "!streamlit run /content/results.py"
      ],
      "metadata": {
        "colab": {
          "base_uri": "https://localhost:8080/"
        },
        "id": "NQ6MiRrXOWtd",
        "outputId": "e22278fe-15fe-4e0c-cf51-71a3f4fb8ee5"
      },
      "execution_count": 22,
      "outputs": [
        {
          "output_type": "stream",
          "name": "stdout",
          "text": [
            "\n",
            "Collecting usage statistics. To deactivate, set browser.gatherUsageStats to False.\n",
            "\u001b[0m\n",
            "\u001b[0m\n",
            "\u001b[34m\u001b[1m  You can now view your Streamlit app in your browser.\u001b[0m\n",
            "\u001b[0m\n",
            "\u001b[34m  Network URL: \u001b[0m\u001b[1mhttp://172.28.0.12:8501\u001b[0m\n",
            "\u001b[34m  External URL: \u001b[0m\u001b[1mhttp://35.245.141.136:8501\u001b[0m\n",
            "\u001b[0m\n",
            "\u001b[34m  Stopping...\u001b[0m\n",
            "\u001b[34m  Stopping...\u001b[0m\n"
          ]
        }
      ]
    }
  ]
}