{
  "nbformat": 4,
  "nbformat_minor": 0,
  "metadata": {
    "colab": {
      "provenance": [],
      "authorship_tag": "ABX9TyMGelfCgnU7KrnwVMZMiNS8",
      "include_colab_link": true
    },
    "kernelspec": {
      "name": "python3",
      "display_name": "Python 3"
    },
    "language_info": {
      "name": "python"
    },
    "accelerator": "GPU",
    "gpuClass": "standard"
  },
  "cells": [
    {
      "cell_type": "markdown",
      "metadata": {
        "id": "view-in-github",
        "colab_type": "text"
      },
      "source": [
        "<a href=\"https://colab.research.google.com/github/giakomorssi/Deloitte_Project/blob/main/02_Prediction.ipynb\" target=\"_parent\"><img src=\"https://colab.research.google.com/assets/colab-badge.svg\" alt=\"Open In Colab\"/></a>"
      ]
    },
    {
      "cell_type": "markdown",
      "source": [
        "# Import the Data"
      ],
      "metadata": {
        "id": "orgvMZprijUi"
      }
    },
    {
      "cell_type": "code",
      "source": [
        "from google.colab import drive\n",
        "drive.mount('/content/drive')\n",
        "\n",
        "import pandas as pd\n",
        "\n",
        "# Change Colab runtime to GPU\n",
        "import os\n",
        "os.environ['COLAB_TPU_ADDR'] = ''\n",
        "os.environ['COLAB_GPU_ALLOC'] = '1'\n",
        "os.environ['COLAB_GPU'] = '1'\n",
        "print(\"Runtime switched to GPU\")\n",
        "\n",
        "import tensorflow as tf\n",
        "\n",
        "if not tf.test.gpu_device_name():\n",
        "    print('GPU device not found')\n",
        "else:\n",
        "    print('GPU device found:', tf.test.gpu_device_name())\n",
        "\n",
        "# This code sets the runtime to use the GPU if available\n",
        "if tf.test.gpu_device_name():\n",
        "    print('Default GPU Device: {}'.format(tf.test.gpu_device_name()))\n",
        "else:\n",
        "    print(\"Please install GPU version of TF\")\n",
        "\n",
        "pd.set_option('display.max_columns', None)"
      ],
      "metadata": {
        "id": "3YbdOFcuimXI",
        "outputId": "5684d4f8-2eeb-48ff-fff8-c3284b48b01a",
        "colab": {
          "base_uri": "https://localhost:8080/"
        }
      },
      "execution_count": 2,
      "outputs": [
        {
          "output_type": "stream",
          "name": "stdout",
          "text": [
            "Drive already mounted at /content/drive; to attempt to forcibly remount, call drive.mount(\"/content/drive\", force_remount=True).\n",
            "Runtime switched to GPU\n",
            "GPU device found: /device:GPU:0\n",
            "Default GPU Device: /device:GPU:0\n"
          ]
        }
      ]
    },
    {
      "cell_type": "code",
      "source": [
        "df = pd.read_csv('/content/drive/MyDrive/University/Deloitte/SupplyChainDataset.csv', encoding = 'latin-1')"
      ],
      "metadata": {
        "id": "LKG4GTnhisz4"
      },
      "execution_count": 3,
      "outputs": []
    },
    {
      "cell_type": "markdown",
      "source": [
        "# Cleaning the Data"
      ],
      "metadata": {
        "id": "eWw2dp9MeOTe"
      }
    },
    {
      "cell_type": "code",
      "execution_count": 4,
      "metadata": {
        "id": "PzGJHtMaeF0i"
      },
      "outputs": [],
      "source": [
        "# Remove Na and Empty Columns\n",
        "\n",
        "df.drop(['Product Description', 'Order Zipcode', 'Order Profit Per Order', 'Customer Email', 'Customer Password', 'Customer Country', 'Customer Id', 'Customer Fname', 'Customer Lname', 'Customer Street', 'Order Country', 'Product Card Id', 'Product Category Id', 'Product Image', 'Customer State', 'shipping date (DateOrders)', 'order date (DateOrders)'], axis = 1, inplace = True) \n",
        "df.dropna(inplace = True) #remove 1 missing value"
      ]
    },
    {
      "cell_type": "markdown",
      "source": [
        "## Encoding"
      ],
      "metadata": {
        "id": "RbisUTEaeX1J"
      }
    },
    {
      "cell_type": "markdown",
      "source": [
        "### Create the Category Column"
      ],
      "metadata": {
        "id": "wll6Ic-deZql"
      }
    },
    {
      "cell_type": "code",
      "source": [
        "# define dictionaries to map status values to categories\n",
        "regular_dict = {'COMPLETE': 'Regular', 'PENDING': 'Regular', 'PENDING_PAYMENT': 'Regular', 'PROCESSING': 'Regular'}\n",
        "suspected_dict = {'CLOSED': 'Suspected', 'CANCELED': 'Suspected', 'ON_HOLD': 'Suspected', 'PAYMENT_REVIEW': 'Suspected'}\n",
        "fraud_dict = {'SUSPECTED_FRAUD': 'Fraud'}\n",
        "\n",
        "# create a function to map status values to categories\n",
        "def map_category(status):\n",
        "    if status in regular_dict:\n",
        "        return regular_dict[status]\n",
        "    elif status in suspected_dict:\n",
        "        return suspected_dict[status]\n",
        "    elif status in fraud_dict:\n",
        "        return fraud_dict[status]\n",
        "    else:\n",
        "        return 'Unknown'\n",
        "\n",
        "# apply the function to the 'status' column to create a new 'category' column\n",
        "df['Category'] = df['Order Status'].apply(map_category)"
      ],
      "metadata": {
        "id": "wwdP4SP8eVRn"
      },
      "execution_count": 5,
      "outputs": []
    },
    {
      "cell_type": "markdown",
      "source": [
        "### Label Encoding"
      ],
      "metadata": {
        "id": "fnVQgjIrefSP"
      }
    },
    {
      "cell_type": "code",
      "source": [
        "from sklearn.model_selection import train_test_split\n",
        "\n",
        "X = df.drop(['Days for shipping (real)', 'Product Name'], axis = 1)\n",
        "y = df['Days for shipping (real)']\n",
        "\n",
        "X_train, X_test, y_train, y_test = train_test_split(X, y, test_size = 0.2)"
      ],
      "metadata": {
        "id": "QHMxOu0xevti"
      },
      "execution_count": 6,
      "outputs": []
    },
    {
      "cell_type": "code",
      "source": [
        "from sklearn.preprocessing import OneHotEncoder\n",
        "import pandas as pd\n",
        "import numpy as np\n",
        "\n",
        "# Type\n",
        "X['Type'] = pd.get_dummies(X['Type'])\n",
        "\n",
        "# Category Name\n",
        "X['Category Name'] = pd.get_dummies(X['Category Name'])\n",
        "\n",
        "# Department Name\n",
        "X['Department Name'] = pd.get_dummies(X['Department Name'])\n",
        "\n",
        "# Market\n",
        "X['Market'] = pd.get_dummies(X['Market'])"
      ],
      "metadata": {
        "id": "L83RIxH8RBfE",
        "outputId": "c7753a41-3d68-49af-ec4d-70dd8e4d0d72",
        "colab": {
          "base_uri": "https://localhost:8080/",
          "height": 424
        }
      },
      "execution_count": 13,
      "outputs": [
        {
          "output_type": "execute_result",
          "data": {
            "text/plain": [
              "        CASH  DEBIT  PAYMENT  TRANSFER\n",
              "0          0      1        0         0\n",
              "1          0      0        0         1\n",
              "2          1      0        0         0\n",
              "3          0      1        0         0\n",
              "4          0      0        1         0\n",
              "...      ...    ...      ...       ...\n",
              "180514     1      0        0         0\n",
              "180515     0      1        0         0\n",
              "180516     0      0        0         1\n",
              "180517     0      0        1         0\n",
              "180518     0      0        1         0\n",
              "\n",
              "[180516 rows x 4 columns]"
            ],
            "text/html": [
              "\n",
              "  <div id=\"df-87c90ca0-f50f-4ae8-9f11-5cfaf3d39c89\">\n",
              "    <div class=\"colab-df-container\">\n",
              "      <div>\n",
              "<style scoped>\n",
              "    .dataframe tbody tr th:only-of-type {\n",
              "        vertical-align: middle;\n",
              "    }\n",
              "\n",
              "    .dataframe tbody tr th {\n",
              "        vertical-align: top;\n",
              "    }\n",
              "\n",
              "    .dataframe thead th {\n",
              "        text-align: right;\n",
              "    }\n",
              "</style>\n",
              "<table border=\"1\" class=\"dataframe\">\n",
              "  <thead>\n",
              "    <tr style=\"text-align: right;\">\n",
              "      <th></th>\n",
              "      <th>CASH</th>\n",
              "      <th>DEBIT</th>\n",
              "      <th>PAYMENT</th>\n",
              "      <th>TRANSFER</th>\n",
              "    </tr>\n",
              "  </thead>\n",
              "  <tbody>\n",
              "    <tr>\n",
              "      <th>0</th>\n",
              "      <td>0</td>\n",
              "      <td>1</td>\n",
              "      <td>0</td>\n",
              "      <td>0</td>\n",
              "    </tr>\n",
              "    <tr>\n",
              "      <th>1</th>\n",
              "      <td>0</td>\n",
              "      <td>0</td>\n",
              "      <td>0</td>\n",
              "      <td>1</td>\n",
              "    </tr>\n",
              "    <tr>\n",
              "      <th>2</th>\n",
              "      <td>1</td>\n",
              "      <td>0</td>\n",
              "      <td>0</td>\n",
              "      <td>0</td>\n",
              "    </tr>\n",
              "    <tr>\n",
              "      <th>3</th>\n",
              "      <td>0</td>\n",
              "      <td>1</td>\n",
              "      <td>0</td>\n",
              "      <td>0</td>\n",
              "    </tr>\n",
              "    <tr>\n",
              "      <th>4</th>\n",
              "      <td>0</td>\n",
              "      <td>0</td>\n",
              "      <td>1</td>\n",
              "      <td>0</td>\n",
              "    </tr>\n",
              "    <tr>\n",
              "      <th>...</th>\n",
              "      <td>...</td>\n",
              "      <td>...</td>\n",
              "      <td>...</td>\n",
              "      <td>...</td>\n",
              "    </tr>\n",
              "    <tr>\n",
              "      <th>180514</th>\n",
              "      <td>1</td>\n",
              "      <td>0</td>\n",
              "      <td>0</td>\n",
              "      <td>0</td>\n",
              "    </tr>\n",
              "    <tr>\n",
              "      <th>180515</th>\n",
              "      <td>0</td>\n",
              "      <td>1</td>\n",
              "      <td>0</td>\n",
              "      <td>0</td>\n",
              "    </tr>\n",
              "    <tr>\n",
              "      <th>180516</th>\n",
              "      <td>0</td>\n",
              "      <td>0</td>\n",
              "      <td>0</td>\n",
              "      <td>1</td>\n",
              "    </tr>\n",
              "    <tr>\n",
              "      <th>180517</th>\n",
              "      <td>0</td>\n",
              "      <td>0</td>\n",
              "      <td>1</td>\n",
              "      <td>0</td>\n",
              "    </tr>\n",
              "    <tr>\n",
              "      <th>180518</th>\n",
              "      <td>0</td>\n",
              "      <td>0</td>\n",
              "      <td>1</td>\n",
              "      <td>0</td>\n",
              "    </tr>\n",
              "  </tbody>\n",
              "</table>\n",
              "<p>180516 rows × 4 columns</p>\n",
              "</div>\n",
              "      <button class=\"colab-df-convert\" onclick=\"convertToInteractive('df-87c90ca0-f50f-4ae8-9f11-5cfaf3d39c89')\"\n",
              "              title=\"Convert this dataframe to an interactive table.\"\n",
              "              style=\"display:none;\">\n",
              "        \n",
              "  <svg xmlns=\"http://www.w3.org/2000/svg\" height=\"24px\"viewBox=\"0 0 24 24\"\n",
              "       width=\"24px\">\n",
              "    <path d=\"M0 0h24v24H0V0z\" fill=\"none\"/>\n",
              "    <path d=\"M18.56 5.44l.94 2.06.94-2.06 2.06-.94-2.06-.94-.94-2.06-.94 2.06-2.06.94zm-11 1L8.5 8.5l.94-2.06 2.06-.94-2.06-.94L8.5 2.5l-.94 2.06-2.06.94zm10 10l.94 2.06.94-2.06 2.06-.94-2.06-.94-.94-2.06-.94 2.06-2.06.94z\"/><path d=\"M17.41 7.96l-1.37-1.37c-.4-.4-.92-.59-1.43-.59-.52 0-1.04.2-1.43.59L10.3 9.45l-7.72 7.72c-.78.78-.78 2.05 0 2.83L4 21.41c.39.39.9.59 1.41.59.51 0 1.02-.2 1.41-.59l7.78-7.78 2.81-2.81c.8-.78.8-2.07 0-2.86zM5.41 20L4 18.59l7.72-7.72 1.47 1.35L5.41 20z\"/>\n",
              "  </svg>\n",
              "      </button>\n",
              "      \n",
              "  <style>\n",
              "    .colab-df-container {\n",
              "      display:flex;\n",
              "      flex-wrap:wrap;\n",
              "      gap: 12px;\n",
              "    }\n",
              "\n",
              "    .colab-df-convert {\n",
              "      background-color: #E8F0FE;\n",
              "      border: none;\n",
              "      border-radius: 50%;\n",
              "      cursor: pointer;\n",
              "      display: none;\n",
              "      fill: #1967D2;\n",
              "      height: 32px;\n",
              "      padding: 0 0 0 0;\n",
              "      width: 32px;\n",
              "    }\n",
              "\n",
              "    .colab-df-convert:hover {\n",
              "      background-color: #E2EBFA;\n",
              "      box-shadow: 0px 1px 2px rgba(60, 64, 67, 0.3), 0px 1px 3px 1px rgba(60, 64, 67, 0.15);\n",
              "      fill: #174EA6;\n",
              "    }\n",
              "\n",
              "    [theme=dark] .colab-df-convert {\n",
              "      background-color: #3B4455;\n",
              "      fill: #D2E3FC;\n",
              "    }\n",
              "\n",
              "    [theme=dark] .colab-df-convert:hover {\n",
              "      background-color: #434B5C;\n",
              "      box-shadow: 0px 1px 3px 1px rgba(0, 0, 0, 0.15);\n",
              "      filter: drop-shadow(0px 1px 2px rgba(0, 0, 0, 0.3));\n",
              "      fill: #FFFFFF;\n",
              "    }\n",
              "  </style>\n",
              "\n",
              "      <script>\n",
              "        const buttonEl =\n",
              "          document.querySelector('#df-87c90ca0-f50f-4ae8-9f11-5cfaf3d39c89 button.colab-df-convert');\n",
              "        buttonEl.style.display =\n",
              "          google.colab.kernel.accessAllowed ? 'block' : 'none';\n",
              "\n",
              "        async function convertToInteractive(key) {\n",
              "          const element = document.querySelector('#df-87c90ca0-f50f-4ae8-9f11-5cfaf3d39c89');\n",
              "          const dataTable =\n",
              "            await google.colab.kernel.invokeFunction('convertToInteractive',\n",
              "                                                     [key], {});\n",
              "          if (!dataTable) return;\n",
              "\n",
              "          const docLinkHtml = 'Like what you see? Visit the ' +\n",
              "            '<a target=\"_blank\" href=https://colab.research.google.com/notebooks/data_table.ipynb>data table notebook</a>'\n",
              "            + ' to learn more about interactive tables.';\n",
              "          element.innerHTML = '';\n",
              "          dataTable['output_type'] = 'display_data';\n",
              "          await google.colab.output.renderOutput(dataTable, element);\n",
              "          const docLink = document.createElement('div');\n",
              "          docLink.innerHTML = docLinkHtml;\n",
              "          element.appendChild(docLink);\n",
              "        }\n",
              "      </script>\n",
              "    </div>\n",
              "  </div>\n",
              "  "
            ]
          },
          "metadata": {},
          "execution_count": 13
        }
      ]
    },
    {
      "cell_type": "code",
      "source": [
        "from sklearn.preprocessing import OneHotEncoder\n",
        "import pandas as pd\n",
        "\n",
        "enc = OneHotEncoder()\n",
        "\n",
        "# Type\n",
        "type_enc_array_train = enc.fit_transform(X_train['Type'].values.reshape(-1, 1)).toarray()\n",
        "type_enc_array_test = enc.transform(X_test['Type'].values.reshape(-1, 1)).toarray()\n",
        "\n",
        "type_enc_train = pd.DataFrame(type_enc_array_train, columns=enc.get_feature_names_out(['Type']))\n",
        "type_enc_test = pd.DataFrame(type_enc_array_test, columns=enc.get_feature_names_out(['Type']))\n",
        "\n",
        "X_train = pd.concat([X_train, type_enc_train], axis=1)\n",
        "X_test = pd.concat([X_test, type_enc_test], axis=1)\n",
        "\n",
        "X_train.drop(['Type'], axis=1, inplace=True)\n",
        "X_test.drop(['Type'], axis=1, inplace=True)\n",
        "\n",
        "# Category Name\n",
        "category_enc_array_train = enc.fit_transform(X_train['Category Name'].values.reshape(-1, 1)).toarray()\n",
        "category_enc_array_test = enc.transform(X_test['Category Name'].values.reshape(-1, 1)).toarray()\n",
        "\n",
        "category_enc_train = pd.DataFrame(category_enc_array_train, columns=enc.get_feature_names_out(['Category Name']))\n",
        "category_enc_test = pd.DataFrame(category_enc_array_test, columns=enc.get_feature_names_out(['Category Name']))\n",
        "\n",
        "X_train = pd.concat([X_train, category_enc_train], axis=1)\n",
        "X_test = pd.concat([X_test, category_enc_test], axis=1)\n",
        "\n",
        "X_train.drop(['Category Name'], axis=1, inplace=True)\n",
        "X_test.drop(['Category Name'], axis=1, inplace=True)\n",
        "\n",
        "# Department Name\n",
        "department_enc_array_train = enc.fit_transform(X_train['Department Name'].values.reshape(-1, 1)).toarray()\n",
        "department_enc_array_test = enc.transform(X_test['Department Name'].values.reshape(-1, 1)).toarray()\n",
        "\n",
        "department_enc_train = pd.DataFrame(department_enc_array_train, columns=enc.get_feature_names_out(['Department Name']))\n",
        "department_enc_test = pd.DataFrame(department_enc_array_test, columns=enc.get_feature_names_out(['Department Name']))\n",
        "\n",
        "X_train = pd.concat([X_train, department_enc_train], axis=1)\n",
        "X_test = pd.concat([X_test, department_enc_test], axis=1)\n",
        "\n",
        "X_train.drop(['Department Name'], axis=1, inplace=True)\n",
        "X_test.drop(['Department Name'], axis=1, inplace=True)\n",
        "\n",
        "# Market\n",
        "market_enc_array_train = enc.fit_transform(X_train['Market'].values.reshape(-1, 1)).toarray()\n",
        "market_enc_array_test = enc.transform(X_test['Market'].values.reshape(-1, 1)).toarray()\n",
        "\n",
        "market_enc_train = pd.DataFrame(market_enc_array_train, columns=enc.get_feature_names_out(['Market']))\n",
        "market_enc_test = pd.DataFrame(market_enc_array_test, columns=enc.get_feature_names_out(['Market']))\n",
        "\n",
        "X_train = pd.concat([X_train, market_enc_train], axis=1)\n",
        "X_test = pd.concat([X_test, market_enc_test], axis=1)\n",
        "\n",
        "X_train.drop(['Market'], axis=1, inplace=True)\n",
        "X_test.drop(['Market'], axis=1, inplace=True)\n",
        "\n",
        "# Order Status\n",
        "order_status_enc_array_train = enc.fit_transform(X_train['Order Status'].values.reshape(-1, 1)).toarray()\n",
        "order_status_enc_array_test = enc.transform(X_test['Order Status'].values.reshape(-1, 1)).toarray()\n",
        "\n",
        "order_status_enc_train = pd.DataFrame(order_status_enc_array_train, columns=enc.get_feature_names_out(['Order Status']))\n",
        "order_status_enc_test = pd.DataFrame(order_status_enc_array_test, columns=enc.get_feature_names_out(['Order Status']))\n",
        "\n",
        "X_train = pd.concat([X_train, order_status_enc_train], axis=1)\n",
        "X_test = pd.concat([X_test, order_status_enc_test], axis=1)\n",
        "\n",
        "X_train.drop(['Order Status'], axis=1, inplace=True)\n",
        "X_test.drop(['Order Status'], axis=1, inplace=True)\n",
        "\n",
        "# Customer Segment\n",
        "customer_segment_enc_array_train = enc.fit_transform(X_train['Customer Segment'].values.reshape(-1, 1)).toarray()\n",
        "customer_segment_enc_array_test = enc.transform(X_test['Customer Segment'].values.reshape(-1, 1)).toarray()\n",
        "\n",
        "customer_segment_enc_train = pd.DataFrame(customer_segment_enc_array_train, columns=enc.get_feature_names_out(['Customer Segment']))\n",
        "customer_segment_enc_test = pd.DataFrame(customer_segment_enc_array_test, columns=enc.get_feature_names_out(['Customer Segment']))\n",
        "\n",
        "X_train = pd.concat([X_train, customer_segment_enc_train], axis=1)\n",
        "X_test = pd.concat([X_test, customer_segment_enc_test], axis=1)\n",
        "\n",
        "X_train.drop(['Customer Segment'], axis=1, inplace=True)\n",
        "X_test.drop(['Customer Segment'], axis=1, inplace=True)\n",
        "\n",
        "# Category\n",
        "category_enc_array_train = enc.fit_transform(X_train['Category'].values.reshape(-1, 1)).toarray()\n",
        "category_enc_array_test = enc.transform(X_test['Category'].values.reshape(-1, 1)).toarray()\n",
        "\n",
        "category_enc_train = pd.DataFrame(category_enc_array_train, columns=enc.get_feature_names_out(['Category']))\n",
        "category_enc_test = pd.DataFrame(category_enc_array_test, columns=enc.get_feature_names_out(['Category']))\n",
        "\n",
        "X_train = pd.concat([X_train, category_enc_train], axis=1)\n",
        "X_test = pd.concat([X_test, category_enc_test], axis=1)\n",
        "\n",
        "X_train.drop(['Category'], axis=1, inplace=True)\n",
        "X_test.drop(['Category'], axis=1, inplace=True)"
      ],
      "metadata": {
        "id": "kWK8vvskQfn7"
      },
      "execution_count": 102,
      "outputs": []
    },
    {
      "cell_type": "code",
      "source": [
        "from sklearn.preprocessing import OneHotEncoder\n",
        "\n",
        "enc = OneHotEncoder()\n",
        "\n",
        "# Type\n",
        "X_train['Type'] = enc.fit_transform(X_train['Type'])\n",
        "X_test['Type'] = enc.transform(X_test['Type'])\n",
        "\n",
        "# Category Name\n",
        "X_train['Category Name'] = enc.fit_transform(X_train['Category Name'])\n",
        "X_test['Category Name'] = enc.transform(X_test['Category Name'])\n",
        "\n",
        "# Department Name\n",
        "X_train['Department Name'] = enc.fit_transform(X_train['Department Name'])\n",
        "X_test['Department Name'] = enc.transform(X_test['Department Name'])\n",
        "\n",
        "# Market\n",
        "X_train['Market'] = enc.fit_transform(X_train['Market'])\n",
        "X_test['Market'] = enc.transform(X_test['Market'])\n",
        "\n",
        "# Order Status\n",
        "X_train['Order Status'] = enc.fit_transform(X_train['Order Status'])\n",
        "X_test['Order Status'] = enc.transform(X_test['Order Status'])\n",
        "\n",
        "# Customer Segment\n",
        "X_train['Customer Segment'] = enc.fit_transform(X_train['Customer Segment'])\n",
        "X_test['Customer Segment'] = enc.transform(X_test['Customer Segment'])\n",
        "\n",
        "# Category\n",
        "X_train['Category'] = enc.fit_transform(X_train['Category'])\n",
        "X_test['Category'] = enc.transform(X_test['Category'])\n"
      ],
      "metadata": {
        "id": "U7i6DC5UN5pz",
        "outputId": "482e9dad-b15a-4252-acbf-00c4dd543d5d",
        "colab": {
          "base_uri": "https://localhost:8080/",
          "height": 240
        }
      },
      "execution_count": 101,
      "outputs": [
        {
          "output_type": "error",
          "ename": "AttributeError",
          "evalue": "ignored",
          "traceback": [
            "\u001b[0;31m---------------------------------------------------------------------------\u001b[0m",
            "\u001b[0;31mAttributeError\u001b[0m                            Traceback (most recent call last)",
            "\u001b[0;32m<ipython-input-101-0d1f415260c5>\u001b[0m in \u001b[0;36m<cell line: 9>\u001b[0;34m()\u001b[0m\n\u001b[1;32m      7\u001b[0m \u001b[0mtype_enc_array_test\u001b[0m \u001b[0;34m=\u001b[0m \u001b[0menc\u001b[0m\u001b[0;34m.\u001b[0m\u001b[0mtransform\u001b[0m\u001b[0;34m(\u001b[0m\u001b[0mX_test\u001b[0m\u001b[0;34m[\u001b[0m\u001b[0;34m'Type'\u001b[0m\u001b[0;34m]\u001b[0m\u001b[0;34m.\u001b[0m\u001b[0mvalues\u001b[0m\u001b[0;34m.\u001b[0m\u001b[0mreshape\u001b[0m\u001b[0;34m(\u001b[0m\u001b[0;34m-\u001b[0m\u001b[0;36m1\u001b[0m\u001b[0;34m,\u001b[0m \u001b[0;36m1\u001b[0m\u001b[0;34m)\u001b[0m\u001b[0;34m)\u001b[0m\u001b[0;34m.\u001b[0m\u001b[0mtoarray\u001b[0m\u001b[0;34m(\u001b[0m\u001b[0;34m)\u001b[0m\u001b[0;34m\u001b[0m\u001b[0;34m\u001b[0m\u001b[0m\n\u001b[1;32m      8\u001b[0m \u001b[0;34m\u001b[0m\u001b[0m\n\u001b[0;32m----> 9\u001b[0;31m \u001b[0mtype_enc_train\u001b[0m \u001b[0;34m=\u001b[0m \u001b[0mpd\u001b[0m\u001b[0;34m.\u001b[0m\u001b[0mDataFrame\u001b[0m\u001b[0;34m(\u001b[0m\u001b[0mtype_enc_array_train\u001b[0m\u001b[0;34m,\u001b[0m \u001b[0mcolumns\u001b[0m\u001b[0;34m=\u001b[0m\u001b[0menc\u001b[0m\u001b[0;34m.\u001b[0m\u001b[0mget_feature_names\u001b[0m\u001b[0;34m(\u001b[0m\u001b[0;34m[\u001b[0m\u001b[0;34m'Type'\u001b[0m\u001b[0;34m]\u001b[0m\u001b[0;34m)\u001b[0m\u001b[0;34m)\u001b[0m\u001b[0;34m\u001b[0m\u001b[0;34m\u001b[0m\u001b[0m\n\u001b[0m\u001b[1;32m     10\u001b[0m \u001b[0mtype_enc_test\u001b[0m \u001b[0;34m=\u001b[0m \u001b[0mpd\u001b[0m\u001b[0;34m.\u001b[0m\u001b[0mDataFrame\u001b[0m\u001b[0;34m(\u001b[0m\u001b[0mtype_enc_array_test\u001b[0m\u001b[0;34m,\u001b[0m \u001b[0mcolumns\u001b[0m\u001b[0;34m=\u001b[0m\u001b[0menc\u001b[0m\u001b[0;34m.\u001b[0m\u001b[0mget_feature_names\u001b[0m\u001b[0;34m(\u001b[0m\u001b[0;34m[\u001b[0m\u001b[0;34m'Type'\u001b[0m\u001b[0;34m]\u001b[0m\u001b[0;34m)\u001b[0m\u001b[0;34m)\u001b[0m\u001b[0;34m\u001b[0m\u001b[0;34m\u001b[0m\u001b[0m\n\u001b[1;32m     11\u001b[0m \u001b[0;34m\u001b[0m\u001b[0m\n",
            "\u001b[0;31mAttributeError\u001b[0m: 'OneHotEncoder' object has no attribute 'get_feature_names'"
          ]
        }
      ]
    },
    {
      "cell_type": "code",
      "source": [
        "X_train['Order Region'].value_counts()"
      ],
      "metadata": {
        "id": "6a9REpEJOPHn"
      },
      "execution_count": null,
      "outputs": []
    },
    {
      "cell_type": "code",
      "source": [
        "from sklearn.preprocessing import LabelEncoder\n",
        "\n",
        "le = LabelEncoder()\n",
        "\n",
        "# Delivery Status\n",
        "X_train['Delivery Status'] = le.fit_transform(X_train['Delivery Status'])\n",
        "X_test['Delivery Status'] = le.transform(X_test['Delivery Status'])\n",
        "\n",
        "# Shipping Mode\n",
        "X_train['Shipping Mode'] = le.fit_transform(X_train['Shipping Mode'])\n",
        "X_test['Shipping Mode'] = le.transform(X_test['Shipping Mode'])\n"
      ],
      "metadata": {
        "id": "Ly4l3rMgedcK"
      },
      "execution_count": 44,
      "outputs": []
    },
    {
      "cell_type": "code",
      "source": [
        "import pandas as pd\n",
        "!pip install category_encoders\n",
        "from category_encoders import LeaveOneOutEncoder\n",
        "\n",
        "# initialize the encoder\n",
        "enc = LeaveOneOutEncoder(cols=['Customer City', 'Order City', 'Order State', 'Category Name', 'Order Region'])\n",
        "\n",
        "# fit and transform the entire dataset\n",
        "X_train = enc.fit_transform(X_train, y_train)\n",
        "X_test = enc.transform(X_test)"
      ],
      "metadata": {
        "id": "KOBfHPEphRx7"
      },
      "execution_count": null,
      "outputs": []
    },
    {
      "cell_type": "markdown",
      "source": [
        "# Prediction"
      ],
      "metadata": {
        "id": "sFjf5jaOe6g7"
      }
    },
    {
      "cell_type": "markdown",
      "source": [
        "## Encode the remaining columns after the split"
      ],
      "metadata": {
        "id": "LDjGgTeRfDsw"
      }
    },
    {
      "cell_type": "markdown",
      "source": [
        "## Choosing the Model"
      ],
      "metadata": {
        "id": "VQxfil1yfMci"
      }
    },
    {
      "cell_type": "code",
      "source": [
        "from sklearn.linear_model import LinearRegression\n",
        "from sklearn.metrics import mean_squared_error\n",
        "\n",
        "# Initialize linear regression model\n",
        "model = LinearRegression()\n",
        "\n",
        "model.fit(X_train, y_train)\n",
        "\n",
        "print(mean_squared_error(y_test, model.predict(X_test)), '\\n')\n",
        "print(model.summary(), '\\n')"
      ],
      "metadata": {
        "id": "6NiVUR5lfQ-m"
      },
      "execution_count": null,
      "outputs": []
    },
    {
      "cell_type": "code",
      "source": [
        "from sklearn.ensemble import RandomForestRegressor\n",
        "import pickle\n",
        "\n",
        "# do some grid search for this\n",
        "\n",
        "# Initialize the model with 100 trees\n",
        "model = RandomForestRegressor(n_estimators=100, max_depth=None)\n",
        "\n",
        "# Fit the model\n",
        "model.fit(X_train, y_train)\n",
        "\n",
        "with open('/content/drive/MyDrive/University/Deloitte/models_lr/rf.pkl', 'wb') as file:\n",
        "    pickle.dump(model, file)\n",
        "\n",
        "mean_squared_error(y_test, model.predict(X_test))\n",
        "# Mean squared error: 0.34778"
      ],
      "metadata": {
        "id": "Vjkw8naNfIlZ",
        "outputId": "f5a47b9f-9e15-482b-817e-cd39532b4a35",
        "colab": {
          "base_uri": "https://localhost:8080/"
        }
      },
      "execution_count": 56,
      "outputs": [
        {
          "output_type": "execute_result",
          "data": {
            "text/plain": [
              "0.381235868601817"
            ]
          },
          "metadata": {},
          "execution_count": 56
        }
      ]
    },
    {
      "cell_type": "code",
      "source": [
        "from xgboost import XGBRegressor\n",
        "\n",
        "model = XGBRegressor()\n",
        "\n",
        "model.fit(X_train, y_train)\n",
        "\n",
        "mean_squared_error(y_test, model.predict(X_test))"
      ],
      "metadata": {
        "id": "05kRLz35y1BN",
        "outputId": "cd2757c8-40c8-48a0-f897-f45ddcbf7852",
        "colab": {
          "base_uri": "https://localhost:8080/"
        }
      },
      "execution_count": 20,
      "outputs": [
        {
          "output_type": "execute_result",
          "data": {
            "text/plain": [
              "0.5389407490256272"
            ]
          },
          "metadata": {},
          "execution_count": 20
        }
      ]
    },
    {
      "cell_type": "code",
      "source": [
        "from keras.models import Sequential\n",
        "from keras.layers import Dense\n",
        "from sklearn.metrics import mean_squared_error\n",
        "\n",
        "# Define the neural network architecture\n",
        "model = Sequential()\n",
        "model.add(Dense(64, input_dim=X_train.shape[1], activation='relu'))\n",
        "model.add(Dense(32, activation='relu'))\n",
        "model.add(Dense(1, activation='linear'))\n",
        "\n",
        "# Compile the model with mean squared error loss function and Adam optimizer\n",
        "model.compile(loss='mean_squared_error', optimizer='adam', learning_rate=0.01)\n",
        "\n",
        "# Fit the model to the training data\n",
        "model.fit(X_train, y_train, epochs=100, batch_size=32, verbose=2)\n",
        "\n",
        "# Make predictions on the test data\n",
        "y_pred = model.predict(X_test)\n",
        "\n",
        "# Compute the mean squared error on the test data\n",
        "mse = mean_squared_error(y_test, y_pred)\n",
        "\n",
        "print('Mean Squared Error: {:.2f}'.format(mse))\n"
      ],
      "metadata": {
        "id": "kkP7nl_H6zgn"
      },
      "execution_count": null,
      "outputs": []
    },
    {
      "cell_type": "code",
      "source": [
        "X_train.shape"
      ],
      "metadata": {
        "id": "TXRZdO9WHvdY",
        "outputId": "9a1e399f-ee69-4799-f97b-3ad4d294735c",
        "colab": {
          "base_uri": "https://localhost:8080/"
        }
      },
      "execution_count": 76,
      "outputs": [
        {
          "output_type": "execute_result",
          "data": {
            "text/plain": [
              "(144412, 36)"
            ]
          },
          "metadata": {},
          "execution_count": 76
        }
      ]
    },
    {
      "cell_type": "code",
      "source": [
        "from keras.models import Sequential\n",
        "from keras.layers import Dense, Dropout\n",
        "from keras import regularizers\n",
        "from sklearn.metrics import mean_squared_error\n",
        "from sklearn.model_selection import train_test_split\n",
        "from sklearn.preprocessing import StandardScaler\n",
        "import numpy as np\n",
        "\n",
        "# Define the neural network architecture\n",
        "model = Sequential()\n",
        "model.add(Dense(256, input_dim=X_train.shape[1], activation='relu', kernel_regularizer=regularizers.l2(0.001)))\n",
        "model.add(Dense(128, activation='relu', kernel_regularizer=regularizers.l2(0.001)))\n",
        "model.add(Dense(64, activation='relu', kernel_regularizer=regularizers.l2(0.001))) \n",
        "model.add(Dense(1, activation='linear'))\n",
        "\n",
        "# Compile the model with mean squared error loss function and Adam optimizer\n",
        "model.compile(loss='mean_squared_error', optimizer='adam', metrics=['mean_squared_error'])\n",
        "\n",
        "# Fit the model to the training data\n",
        "history = model.fit(X_train, y_train, epochs=100, batch_size=64, validation_data=(X_test, y_test), verbose=2)\n",
        "\n",
        "# Evaluate the model on the test data\n",
        "loss, mse = model.evaluate(X_test, y_test, verbose=0)\n",
        "print('Mean Squared Error on test set: {:.2f}'.format(mse))\n",
        "\n",
        "# Plot the training and validation loss over epochs\n",
        "import matplotlib.pyplot as plt\n",
        "plt.plot(history.history['loss'], label='training loss')\n",
        "plt.plot(history.history['val_loss'], label='validation loss')\n",
        "plt.xlabel('Epoch')\n",
        "plt.ylabel('Loss')\n",
        "plt.legend()\n",
        "plt.show()"
      ],
      "metadata": {
        "id": "BgvD4php86f_",
        "outputId": "5a2226ca-7688-4929-ffde-8df92d83079e",
        "colab": {
          "base_uri": "https://localhost:8080/",
          "height": 1000
        }
      },
      "execution_count": 82,
      "outputs": [
        {
          "output_type": "stream",
          "name": "stdout",
          "text": [
            "Epoch 1/100\n",
            "2257/2257 - 11s - loss: 122834.6328 - mean_squared_error: 122834.3750 - val_loss: 144.8471 - val_mean_squared_error: 144.6273 - 11s/epoch - 5ms/step\n",
            "Epoch 2/100\n",
            "2257/2257 - 8s - loss: 1441.4360 - mean_squared_error: 1441.2174 - val_loss: 333.4575 - val_mean_squared_error: 333.2379 - 8s/epoch - 4ms/step\n",
            "Epoch 3/100\n",
            "2257/2257 - 7s - loss: 1048.4716 - mean_squared_error: 1048.2538 - val_loss: 69.7693 - val_mean_squared_error: 69.5518 - 7s/epoch - 3ms/step\n",
            "Epoch 4/100\n",
            "2257/2257 - 8s - loss: 519.0576 - mean_squared_error: 518.8416 - val_loss: 111.5185 - val_mean_squared_error: 111.3051 - 8s/epoch - 4ms/step\n",
            "Epoch 5/100\n",
            "2257/2257 - 7s - loss: 1062.8969 - mean_squared_error: 1062.6812 - val_loss: 65.0990 - val_mean_squared_error: 64.8836 - 7s/epoch - 3ms/step\n",
            "Epoch 6/100\n",
            "2257/2257 - 8s - loss: 55.0284 - mean_squared_error: 54.8153 - val_loss: 44.1765 - val_mean_squared_error: 43.9656 - 8s/epoch - 3ms/step\n",
            "Epoch 7/100\n",
            "2257/2257 - 8s - loss: 29.5809 - mean_squared_error: 29.3716 - val_loss: 5.5547 - val_mean_squared_error: 5.3461 - 8s/epoch - 4ms/step\n",
            "Epoch 8/100\n",
            "2257/2257 - 7s - loss: 9.8545 - mean_squared_error: 9.6444 - val_loss: 12.1574 - val_mean_squared_error: 11.9447 - 7s/epoch - 3ms/step\n",
            "Epoch 9/100\n",
            "2257/2257 - 8s - loss: 517.8939 - mean_squared_error: 517.6783 - val_loss: 12.9911 - val_mean_squared_error: 12.7663 - 8s/epoch - 4ms/step\n",
            "Epoch 10/100\n",
            "2257/2257 - 7s - loss: 11.4221 - mean_squared_error: 11.1988 - val_loss: 4.3788 - val_mean_squared_error: 4.1590 - 7s/epoch - 3ms/step\n",
            "Epoch 11/100\n",
            "2257/2257 - 8s - loss: 11.2693 - mean_squared_error: 11.0577 - val_loss: 4.8686 - val_mean_squared_error: 4.6667 - 8s/epoch - 4ms/step\n",
            "Epoch 12/100\n",
            "2257/2257 - 7s - loss: 8.7923 - mean_squared_error: 8.6008 - val_loss: 23.7161 - val_mean_squared_error: 23.5346 - 7s/epoch - 3ms/step\n",
            "Epoch 13/100\n",
            "2257/2257 - 8s - loss: 39.3255 - mean_squared_error: 39.1529 - val_loss: 10.8130 - val_mean_squared_error: 10.6483 - 8s/epoch - 3ms/step\n",
            "Epoch 14/100\n",
            "2257/2257 - 8s - loss: 3.3951 - mean_squared_error: 3.2419 - val_loss: 3.0714 - val_mean_squared_error: 2.9301 - 8s/epoch - 4ms/step\n",
            "Epoch 15/100\n",
            "2257/2257 - 7s - loss: 3.4610 - mean_squared_error: 3.3314 - val_loss: 2.9120 - val_mean_squared_error: 2.7948 - 7s/epoch - 3ms/step\n",
            "Epoch 16/100\n",
            "2257/2257 - 8s - loss: 2.9799 - mean_squared_error: 2.8769 - val_loss: 2.9113 - val_mean_squared_error: 2.8241 - 8s/epoch - 4ms/step\n",
            "Epoch 17/100\n",
            "2257/2257 - 7s - loss: 4.9331 - mean_squared_error: 4.8594 - val_loss: 2.7149 - val_mean_squared_error: 2.6529 - 7s/epoch - 3ms/step\n",
            "Epoch 18/100\n",
            "2257/2257 - 8s - loss: 2.6860 - mean_squared_error: 2.6334 - val_loss: 2.6970 - val_mean_squared_error: 2.6531 - 8s/epoch - 4ms/step\n",
            "Epoch 19/100\n",
            "2257/2257 - 8s - loss: 2.7633 - mean_squared_error: 2.7257 - val_loss: 2.6900 - val_mean_squared_error: 2.6590 - 8s/epoch - 3ms/step\n",
            "Epoch 20/100\n",
            "2257/2257 - 8s - loss: 2.6617 - mean_squared_error: 2.6364 - val_loss: 2.6736 - val_mean_squared_error: 2.6534 - 8s/epoch - 3ms/step\n",
            "Epoch 21/100\n",
            "2257/2257 - 8s - loss: 2.7335 - mean_squared_error: 2.7169 - val_loss: 2.6673 - val_mean_squared_error: 2.6532 - 8s/epoch - 4ms/step\n",
            "Epoch 22/100\n",
            "2257/2257 - 7s - loss: 2.6550 - mean_squared_error: 2.6434 - val_loss: 2.6632 - val_mean_squared_error: 2.6537 - 7s/epoch - 3ms/step\n",
            "Epoch 23/100\n",
            "2257/2257 - 8s - loss: 2.6439 - mean_squared_error: 2.6364 - val_loss: 2.6596 - val_mean_squared_error: 2.6537 - 8s/epoch - 4ms/step\n",
            "Epoch 24/100\n",
            "2257/2257 - 7s - loss: 2.6835 - mean_squared_error: 2.6783 - val_loss: 2.6573 - val_mean_squared_error: 2.6530 - 7s/epoch - 3ms/step\n",
            "Epoch 25/100\n",
            "2257/2257 - 8s - loss: 2.6373 - mean_squared_error: 2.6338 - val_loss: 2.6564 - val_mean_squared_error: 2.6536 - 8s/epoch - 3ms/step\n",
            "Epoch 26/100\n",
            "2257/2257 - 9s - loss: 2.6426 - mean_squared_error: 2.6402 - val_loss: 2.6550 - val_mean_squared_error: 2.6530 - 9s/epoch - 4ms/step\n",
            "Epoch 27/100\n",
            "2257/2257 - 7s - loss: 2.6353 - mean_squared_error: 2.6337 - val_loss: 2.6551 - val_mean_squared_error: 2.6538 - 7s/epoch - 3ms/step\n",
            "Epoch 28/100\n",
            "2257/2257 - 8s - loss: 2.6353 - mean_squared_error: 2.6342 - val_loss: 2.6571 - val_mean_squared_error: 2.6563 - 8s/epoch - 4ms/step\n",
            "Epoch 29/100\n",
            "2257/2257 - 7s - loss: 2.6346 - mean_squared_error: 2.6340 - val_loss: 2.6540 - val_mean_squared_error: 2.6535 - 7s/epoch - 3ms/step\n",
            "Epoch 30/100\n",
            "2257/2257 - 8s - loss: 2.6349 - mean_squared_error: 2.6345 - val_loss: 2.6548 - val_mean_squared_error: 2.6545 - 8s/epoch - 4ms/step\n",
            "Epoch 31/100\n",
            "2257/2257 - 8s - loss: 2.6343 - mean_squared_error: 2.6340 - val_loss: 2.6532 - val_mean_squared_error: 2.6530 - 8s/epoch - 4ms/step\n",
            "Epoch 32/100\n",
            "2257/2257 - 7s - loss: 2.6338 - mean_squared_error: 2.6337 - val_loss: 2.6533 - val_mean_squared_error: 2.6532 - 7s/epoch - 3ms/step\n",
            "Epoch 33/100\n",
            "2257/2257 - 8s - loss: 2.6337 - mean_squared_error: 2.6337 - val_loss: 2.6540 - val_mean_squared_error: 2.6540 - 8s/epoch - 4ms/step\n",
            "Epoch 34/100\n",
            "2257/2257 - 7s - loss: 2.6340 - mean_squared_error: 2.6339 - val_loss: 2.6538 - val_mean_squared_error: 2.6537 - 7s/epoch - 3ms/step\n",
            "Epoch 35/100\n",
            "2257/2257 - 8s - loss: 2.6345 - mean_squared_error: 2.6344 - val_loss: 2.6579 - val_mean_squared_error: 2.6578 - 8s/epoch - 4ms/step\n",
            "Epoch 36/100\n",
            "2257/2257 - 9s - loss: 2.6340 - mean_squared_error: 2.6339 - val_loss: 2.6534 - val_mean_squared_error: 2.6533 - 9s/epoch - 4ms/step\n",
            "Epoch 37/100\n",
            "2257/2257 - 7s - loss: 2.6342 - mean_squared_error: 2.6341 - val_loss: 2.6582 - val_mean_squared_error: 2.6581 - 7s/epoch - 3ms/step\n",
            "Epoch 38/100\n",
            "2257/2257 - 8s - loss: 2.6338 - mean_squared_error: 2.6338 - val_loss: 2.6537 - val_mean_squared_error: 2.6537 - 8s/epoch - 4ms/step\n",
            "Epoch 39/100\n",
            "2257/2257 - 7s - loss: 2.6342 - mean_squared_error: 2.6342 - val_loss: 2.6532 - val_mean_squared_error: 2.6531 - 7s/epoch - 3ms/step\n",
            "Epoch 40/100\n",
            "2257/2257 - 8s - loss: 2.6339 - mean_squared_error: 2.6339 - val_loss: 2.6555 - val_mean_squared_error: 2.6555 - 8s/epoch - 4ms/step\n",
            "Epoch 41/100\n",
            "2257/2257 - 9s - loss: 2.6339 - mean_squared_error: 2.6339 - val_loss: 2.6553 - val_mean_squared_error: 2.6553 - 9s/epoch - 4ms/step\n",
            "Epoch 42/100\n",
            "2257/2257 - 7s - loss: 2.6345 - mean_squared_error: 2.6345 - val_loss: 2.6542 - val_mean_squared_error: 2.6540 - 7s/epoch - 3ms/step\n",
            "Epoch 43/100\n",
            "2257/2257 - 8s - loss: 2.6340 - mean_squared_error: 2.6338 - val_loss: 2.6532 - val_mean_squared_error: 2.6530 - 8s/epoch - 4ms/step\n",
            "Epoch 44/100\n",
            "2257/2257 - 7s - loss: 2.6336 - mean_squared_error: 2.6335 - val_loss: 2.6542 - val_mean_squared_error: 2.6541 - 7s/epoch - 3ms/step\n",
            "Epoch 45/100\n",
            "2257/2257 - 8s - loss: 2.6338 - mean_squared_error: 2.6337 - val_loss: 2.6534 - val_mean_squared_error: 2.6534 - 8s/epoch - 4ms/step\n",
            "Epoch 46/100\n",
            "2257/2257 - 7s - loss: 2.6337 - mean_squared_error: 2.6337 - val_loss: 2.6530 - val_mean_squared_error: 2.6530 - 7s/epoch - 3ms/step\n",
            "Epoch 47/100\n",
            "2257/2257 - 8s - loss: 2.6334 - mean_squared_error: 2.6334 - val_loss: 2.6545 - val_mean_squared_error: 2.6545 - 8s/epoch - 3ms/step\n",
            "Epoch 48/100\n",
            "2257/2257 - 8s - loss: 2.6339 - mean_squared_error: 2.6339 - val_loss: 2.6532 - val_mean_squared_error: 2.6532 - 8s/epoch - 4ms/step\n",
            "Epoch 49/100\n",
            "2257/2257 - 7s - loss: 2.6338 - mean_squared_error: 2.6338 - val_loss: 2.6530 - val_mean_squared_error: 2.6530 - 7s/epoch - 3ms/step\n",
            "Epoch 50/100\n",
            "2257/2257 - 8s - loss: 2.6341 - mean_squared_error: 2.6341 - val_loss: 2.6532 - val_mean_squared_error: 2.6532 - 8s/epoch - 4ms/step\n",
            "Epoch 51/100\n",
            "2257/2257 - 7s - loss: 2.6337 - mean_squared_error: 2.6336 - val_loss: 2.6540 - val_mean_squared_error: 2.6540 - 7s/epoch - 3ms/step\n",
            "Epoch 52/100\n",
            "2257/2257 - 8s - loss: 2.6335 - mean_squared_error: 2.6335 - val_loss: 2.6531 - val_mean_squared_error: 2.6530 - 8s/epoch - 3ms/step\n",
            "Epoch 53/100\n",
            "2257/2257 - 9s - loss: 2.6348 - mean_squared_error: 2.6347 - val_loss: 2.6555 - val_mean_squared_error: 2.6554 - 9s/epoch - 4ms/step\n",
            "Epoch 54/100\n",
            "2257/2257 - 7s - loss: 2.6337 - mean_squared_error: 2.6336 - val_loss: 2.6542 - val_mean_squared_error: 2.6542 - 7s/epoch - 3ms/step\n",
            "Epoch 55/100\n",
            "2257/2257 - 8s - loss: 2.6338 - mean_squared_error: 2.6338 - val_loss: 2.6531 - val_mean_squared_error: 2.6530 - 8s/epoch - 4ms/step\n",
            "Epoch 56/100\n",
            "2257/2257 - 7s - loss: 2.6337 - mean_squared_error: 2.6337 - val_loss: 2.6589 - val_mean_squared_error: 2.6589 - 7s/epoch - 3ms/step\n",
            "Epoch 57/100\n",
            "2257/2257 - 8s - loss: 2.6340 - mean_squared_error: 2.6339 - val_loss: 2.6549 - val_mean_squared_error: 2.6549 - 8s/epoch - 4ms/step\n",
            "Epoch 58/100\n",
            "2257/2257 - 8s - loss: 2.6337 - mean_squared_error: 2.6337 - val_loss: 2.6535 - val_mean_squared_error: 2.6535 - 8s/epoch - 4ms/step\n",
            "Epoch 59/100\n",
            "2257/2257 - 7s - loss: 2.6336 - mean_squared_error: 2.6336 - val_loss: 2.6564 - val_mean_squared_error: 2.6564 - 7s/epoch - 3ms/step\n",
            "Epoch 60/100\n",
            "2257/2257 - 8s - loss: 2.6335 - mean_squared_error: 2.6335 - val_loss: 2.6532 - val_mean_squared_error: 2.6532 - 8s/epoch - 4ms/step\n",
            "Epoch 61/100\n",
            "2257/2257 - 7s - loss: 2.6337 - mean_squared_error: 2.6337 - val_loss: 2.6544 - val_mean_squared_error: 2.6544 - 7s/epoch - 3ms/step\n",
            "Epoch 62/100\n"
          ]
        },
        {
          "output_type": "error",
          "ename": "KeyboardInterrupt",
          "evalue": "ignored",
          "traceback": [
            "\u001b[0;31m---------------------------------------------------------------------------\u001b[0m",
            "\u001b[0;31mKeyboardInterrupt\u001b[0m                         Traceback (most recent call last)",
            "\u001b[0;32m<ipython-input-82-d2778e91b9b9>\u001b[0m in \u001b[0;36m<cell line: 20>\u001b[0;34m()\u001b[0m\n\u001b[1;32m     18\u001b[0m \u001b[0;34m\u001b[0m\u001b[0m\n\u001b[1;32m     19\u001b[0m \u001b[0;31m# Fit the model to the training data\u001b[0m\u001b[0;34m\u001b[0m\u001b[0;34m\u001b[0m\u001b[0m\n\u001b[0;32m---> 20\u001b[0;31m \u001b[0mhistory\u001b[0m \u001b[0;34m=\u001b[0m \u001b[0mmodel\u001b[0m\u001b[0;34m.\u001b[0m\u001b[0mfit\u001b[0m\u001b[0;34m(\u001b[0m\u001b[0mX_train\u001b[0m\u001b[0;34m,\u001b[0m \u001b[0my_train\u001b[0m\u001b[0;34m,\u001b[0m \u001b[0mepochs\u001b[0m\u001b[0;34m=\u001b[0m\u001b[0;36m100\u001b[0m\u001b[0;34m,\u001b[0m \u001b[0mbatch_size\u001b[0m\u001b[0;34m=\u001b[0m\u001b[0;36m64\u001b[0m\u001b[0;34m,\u001b[0m \u001b[0mvalidation_data\u001b[0m\u001b[0;34m=\u001b[0m\u001b[0;34m(\u001b[0m\u001b[0mX_test\u001b[0m\u001b[0;34m,\u001b[0m \u001b[0my_test\u001b[0m\u001b[0;34m)\u001b[0m\u001b[0;34m,\u001b[0m \u001b[0mverbose\u001b[0m\u001b[0;34m=\u001b[0m\u001b[0;36m2\u001b[0m\u001b[0;34m)\u001b[0m\u001b[0;34m\u001b[0m\u001b[0;34m\u001b[0m\u001b[0m\n\u001b[0m\u001b[1;32m     21\u001b[0m \u001b[0;34m\u001b[0m\u001b[0m\n\u001b[1;32m     22\u001b[0m \u001b[0;31m# Evaluate the model on the test data\u001b[0m\u001b[0;34m\u001b[0m\u001b[0;34m\u001b[0m\u001b[0m\n",
            "\u001b[0;32m/usr/local/lib/python3.9/dist-packages/keras/utils/traceback_utils.py\u001b[0m in \u001b[0;36merror_handler\u001b[0;34m(*args, **kwargs)\u001b[0m\n\u001b[1;32m     63\u001b[0m         \u001b[0mfiltered_tb\u001b[0m \u001b[0;34m=\u001b[0m \u001b[0;32mNone\u001b[0m\u001b[0;34m\u001b[0m\u001b[0;34m\u001b[0m\u001b[0m\n\u001b[1;32m     64\u001b[0m         \u001b[0;32mtry\u001b[0m\u001b[0;34m:\u001b[0m\u001b[0;34m\u001b[0m\u001b[0;34m\u001b[0m\u001b[0m\n\u001b[0;32m---> 65\u001b[0;31m             \u001b[0;32mreturn\u001b[0m \u001b[0mfn\u001b[0m\u001b[0;34m(\u001b[0m\u001b[0;34m*\u001b[0m\u001b[0margs\u001b[0m\u001b[0;34m,\u001b[0m \u001b[0;34m**\u001b[0m\u001b[0mkwargs\u001b[0m\u001b[0;34m)\u001b[0m\u001b[0;34m\u001b[0m\u001b[0;34m\u001b[0m\u001b[0m\n\u001b[0m\u001b[1;32m     66\u001b[0m         \u001b[0;32mexcept\u001b[0m \u001b[0mException\u001b[0m \u001b[0;32mas\u001b[0m \u001b[0me\u001b[0m\u001b[0;34m:\u001b[0m\u001b[0;34m\u001b[0m\u001b[0;34m\u001b[0m\u001b[0m\n\u001b[1;32m     67\u001b[0m             \u001b[0mfiltered_tb\u001b[0m \u001b[0;34m=\u001b[0m \u001b[0m_process_traceback_frames\u001b[0m\u001b[0;34m(\u001b[0m\u001b[0me\u001b[0m\u001b[0;34m.\u001b[0m\u001b[0m__traceback__\u001b[0m\u001b[0;34m)\u001b[0m\u001b[0;34m\u001b[0m\u001b[0;34m\u001b[0m\u001b[0m\n",
            "\u001b[0;32m/usr/local/lib/python3.9/dist-packages/keras/engine/training.py\u001b[0m in \u001b[0;36mfit\u001b[0;34m(self, x, y, batch_size, epochs, verbose, callbacks, validation_split, validation_data, shuffle, class_weight, sample_weight, initial_epoch, steps_per_epoch, validation_steps, validation_batch_size, validation_freq, max_queue_size, workers, use_multiprocessing)\u001b[0m\n\u001b[1;32m   1727\u001b[0m                             \u001b[0msteps_per_execution\u001b[0m\u001b[0;34m=\u001b[0m\u001b[0mself\u001b[0m\u001b[0;34m.\u001b[0m\u001b[0m_steps_per_execution\u001b[0m\u001b[0;34m,\u001b[0m\u001b[0;34m\u001b[0m\u001b[0;34m\u001b[0m\u001b[0m\n\u001b[1;32m   1728\u001b[0m                         )\n\u001b[0;32m-> 1729\u001b[0;31m                     val_logs = self.evaluate(\n\u001b[0m\u001b[1;32m   1730\u001b[0m                         \u001b[0mx\u001b[0m\u001b[0;34m=\u001b[0m\u001b[0mval_x\u001b[0m\u001b[0;34m,\u001b[0m\u001b[0;34m\u001b[0m\u001b[0;34m\u001b[0m\u001b[0m\n\u001b[1;32m   1731\u001b[0m                         \u001b[0my\u001b[0m\u001b[0;34m=\u001b[0m\u001b[0mval_y\u001b[0m\u001b[0;34m,\u001b[0m\u001b[0;34m\u001b[0m\u001b[0;34m\u001b[0m\u001b[0m\n",
            "\u001b[0;32m/usr/local/lib/python3.9/dist-packages/keras/utils/traceback_utils.py\u001b[0m in \u001b[0;36merror_handler\u001b[0;34m(*args, **kwargs)\u001b[0m\n\u001b[1;32m     63\u001b[0m         \u001b[0mfiltered_tb\u001b[0m \u001b[0;34m=\u001b[0m \u001b[0;32mNone\u001b[0m\u001b[0;34m\u001b[0m\u001b[0;34m\u001b[0m\u001b[0m\n\u001b[1;32m     64\u001b[0m         \u001b[0;32mtry\u001b[0m\u001b[0;34m:\u001b[0m\u001b[0;34m\u001b[0m\u001b[0;34m\u001b[0m\u001b[0m\n\u001b[0;32m---> 65\u001b[0;31m             \u001b[0;32mreturn\u001b[0m \u001b[0mfn\u001b[0m\u001b[0;34m(\u001b[0m\u001b[0;34m*\u001b[0m\u001b[0margs\u001b[0m\u001b[0;34m,\u001b[0m \u001b[0;34m**\u001b[0m\u001b[0mkwargs\u001b[0m\u001b[0;34m)\u001b[0m\u001b[0;34m\u001b[0m\u001b[0;34m\u001b[0m\u001b[0m\n\u001b[0m\u001b[1;32m     66\u001b[0m         \u001b[0;32mexcept\u001b[0m \u001b[0mException\u001b[0m \u001b[0;32mas\u001b[0m \u001b[0me\u001b[0m\u001b[0;34m:\u001b[0m\u001b[0;34m\u001b[0m\u001b[0;34m\u001b[0m\u001b[0m\n\u001b[1;32m     67\u001b[0m             \u001b[0mfiltered_tb\u001b[0m \u001b[0;34m=\u001b[0m \u001b[0m_process_traceback_frames\u001b[0m\u001b[0;34m(\u001b[0m\u001b[0me\u001b[0m\u001b[0;34m.\u001b[0m\u001b[0m__traceback__\u001b[0m\u001b[0;34m)\u001b[0m\u001b[0;34m\u001b[0m\u001b[0;34m\u001b[0m\u001b[0m\n",
            "\u001b[0;31mKeyboardInterrupt\u001b[0m: "
          ]
        }
      ]
    },
    {
      "cell_type": "code",
      "source": [
        "# gradiant boosting\n",
        "from sklearn.ensemble import GradientBoostingRegressor\n",
        "\n",
        "model = GradientBoostingRegressor(n_estimators=500, learning_rate=0.8)\n",
        "\n",
        "model.fit(X_train, y_train)\n",
        "\n",
        "mean_squared_error(y_test, model.predict(X_test))"
      ],
      "metadata": {
        "id": "aArVY7bvziW-",
        "outputId": "2210491f-9417-4a74-b07b-1e556b888ed1",
        "colab": {
          "base_uri": "https://localhost:8080/",
          "height": 389
        }
      },
      "execution_count": 81,
      "outputs": [
        {
          "output_type": "error",
          "ename": "KeyboardInterrupt",
          "evalue": "ignored",
          "traceback": [
            "\u001b[0;31m---------------------------------------------------------------------------\u001b[0m",
            "\u001b[0;31mKeyboardInterrupt\u001b[0m                         Traceback (most recent call last)",
            "\u001b[0;32m<ipython-input-81-a0717809bdfa>\u001b[0m in \u001b[0;36m<cell line: 6>\u001b[0;34m()\u001b[0m\n\u001b[1;32m      4\u001b[0m \u001b[0mmodel\u001b[0m \u001b[0;34m=\u001b[0m \u001b[0mGradientBoostingRegressor\u001b[0m\u001b[0;34m(\u001b[0m\u001b[0mn_estimators\u001b[0m\u001b[0;34m=\u001b[0m\u001b[0;36m500\u001b[0m\u001b[0;34m,\u001b[0m \u001b[0mlearning_rate\u001b[0m\u001b[0;34m=\u001b[0m\u001b[0;36m0.8\u001b[0m\u001b[0;34m)\u001b[0m\u001b[0;34m\u001b[0m\u001b[0;34m\u001b[0m\u001b[0m\n\u001b[1;32m      5\u001b[0m \u001b[0;34m\u001b[0m\u001b[0m\n\u001b[0;32m----> 6\u001b[0;31m \u001b[0mmodel\u001b[0m\u001b[0;34m.\u001b[0m\u001b[0mfit\u001b[0m\u001b[0;34m(\u001b[0m\u001b[0mX_train\u001b[0m\u001b[0;34m,\u001b[0m \u001b[0my_train\u001b[0m\u001b[0;34m)\u001b[0m\u001b[0;34m\u001b[0m\u001b[0;34m\u001b[0m\u001b[0m\n\u001b[0m\u001b[1;32m      7\u001b[0m \u001b[0;34m\u001b[0m\u001b[0m\n\u001b[1;32m      8\u001b[0m \u001b[0mmean_squared_error\u001b[0m\u001b[0;34m(\u001b[0m\u001b[0my_test\u001b[0m\u001b[0;34m,\u001b[0m \u001b[0mmodel\u001b[0m\u001b[0;34m.\u001b[0m\u001b[0mpredict\u001b[0m\u001b[0;34m(\u001b[0m\u001b[0mX_test\u001b[0m\u001b[0;34m)\u001b[0m\u001b[0;34m)\u001b[0m\u001b[0;34m\u001b[0m\u001b[0;34m\u001b[0m\u001b[0m\n",
            "\u001b[0;32m/usr/local/lib/python3.9/dist-packages/sklearn/ensemble/_gb.py\u001b[0m in \u001b[0;36mfit\u001b[0;34m(self, X, y, sample_weight, monitor)\u001b[0m\n\u001b[1;32m    536\u001b[0m \u001b[0;34m\u001b[0m\u001b[0m\n\u001b[1;32m    537\u001b[0m         \u001b[0;31m# fit the boosting stages\u001b[0m\u001b[0;34m\u001b[0m\u001b[0;34m\u001b[0m\u001b[0m\n\u001b[0;32m--> 538\u001b[0;31m         n_stages = self._fit_stages(\n\u001b[0m\u001b[1;32m    539\u001b[0m             \u001b[0mX\u001b[0m\u001b[0;34m,\u001b[0m\u001b[0;34m\u001b[0m\u001b[0;34m\u001b[0m\u001b[0m\n\u001b[1;32m    540\u001b[0m             \u001b[0my\u001b[0m\u001b[0;34m,\u001b[0m\u001b[0;34m\u001b[0m\u001b[0;34m\u001b[0m\u001b[0m\n",
            "\u001b[0;32m/usr/local/lib/python3.9/dist-packages/sklearn/ensemble/_gb.py\u001b[0m in \u001b[0;36m_fit_stages\u001b[0;34m(self, X, y, raw_predictions, sample_weight, random_state, X_val, y_val, sample_weight_val, begin_at_stage, monitor)\u001b[0m\n\u001b[1;32m    613\u001b[0m \u001b[0;34m\u001b[0m\u001b[0m\n\u001b[1;32m    614\u001b[0m             \u001b[0;31m# fit next stage of trees\u001b[0m\u001b[0;34m\u001b[0m\u001b[0;34m\u001b[0m\u001b[0m\n\u001b[0;32m--> 615\u001b[0;31m             raw_predictions = self._fit_stage(\n\u001b[0m\u001b[1;32m    616\u001b[0m                 \u001b[0mi\u001b[0m\u001b[0;34m,\u001b[0m\u001b[0;34m\u001b[0m\u001b[0;34m\u001b[0m\u001b[0m\n\u001b[1;32m    617\u001b[0m                 \u001b[0mX\u001b[0m\u001b[0;34m,\u001b[0m\u001b[0;34m\u001b[0m\u001b[0;34m\u001b[0m\u001b[0m\n",
            "\u001b[0;32m/usr/local/lib/python3.9/dist-packages/sklearn/ensemble/_gb.py\u001b[0m in \u001b[0;36m_fit_stage\u001b[0;34m(self, i, X, y, raw_predictions, sample_weight, sample_mask, random_state, X_csc, X_csr)\u001b[0m\n\u001b[1;32m    255\u001b[0m \u001b[0;34m\u001b[0m\u001b[0m\n\u001b[1;32m    256\u001b[0m             \u001b[0mX\u001b[0m \u001b[0;34m=\u001b[0m \u001b[0mX_csr\u001b[0m \u001b[0;32mif\u001b[0m \u001b[0mX_csr\u001b[0m \u001b[0;32mis\u001b[0m \u001b[0;32mnot\u001b[0m \u001b[0;32mNone\u001b[0m \u001b[0;32melse\u001b[0m \u001b[0mX\u001b[0m\u001b[0;34m\u001b[0m\u001b[0;34m\u001b[0m\u001b[0m\n\u001b[0;32m--> 257\u001b[0;31m             \u001b[0mtree\u001b[0m\u001b[0;34m.\u001b[0m\u001b[0mfit\u001b[0m\u001b[0;34m(\u001b[0m\u001b[0mX\u001b[0m\u001b[0;34m,\u001b[0m \u001b[0mresidual\u001b[0m\u001b[0;34m,\u001b[0m \u001b[0msample_weight\u001b[0m\u001b[0;34m=\u001b[0m\u001b[0msample_weight\u001b[0m\u001b[0;34m,\u001b[0m \u001b[0mcheck_input\u001b[0m\u001b[0;34m=\u001b[0m\u001b[0;32mFalse\u001b[0m\u001b[0;34m)\u001b[0m\u001b[0;34m\u001b[0m\u001b[0;34m\u001b[0m\u001b[0m\n\u001b[0m\u001b[1;32m    258\u001b[0m \u001b[0;34m\u001b[0m\u001b[0m\n\u001b[1;32m    259\u001b[0m             \u001b[0;31m# update tree leaves\u001b[0m\u001b[0;34m\u001b[0m\u001b[0;34m\u001b[0m\u001b[0m\n",
            "\u001b[0;32m/usr/local/lib/python3.9/dist-packages/sklearn/tree/_classes.py\u001b[0m in \u001b[0;36mfit\u001b[0;34m(self, X, y, sample_weight, check_input)\u001b[0m\n\u001b[1;32m   1245\u001b[0m         \"\"\"\n\u001b[1;32m   1246\u001b[0m \u001b[0;34m\u001b[0m\u001b[0m\n\u001b[0;32m-> 1247\u001b[0;31m         super().fit(\n\u001b[0m\u001b[1;32m   1248\u001b[0m             \u001b[0mX\u001b[0m\u001b[0;34m,\u001b[0m\u001b[0;34m\u001b[0m\u001b[0;34m\u001b[0m\u001b[0m\n\u001b[1;32m   1249\u001b[0m             \u001b[0my\u001b[0m\u001b[0;34m,\u001b[0m\u001b[0;34m\u001b[0m\u001b[0;34m\u001b[0m\u001b[0m\n",
            "\u001b[0;32m/usr/local/lib/python3.9/dist-packages/sklearn/tree/_classes.py\u001b[0m in \u001b[0;36mfit\u001b[0;34m(self, X, y, sample_weight, check_input)\u001b[0m\n\u001b[1;32m    377\u001b[0m             )\n\u001b[1;32m    378\u001b[0m \u001b[0;34m\u001b[0m\u001b[0m\n\u001b[0;32m--> 379\u001b[0;31m         \u001b[0mbuilder\u001b[0m\u001b[0;34m.\u001b[0m\u001b[0mbuild\u001b[0m\u001b[0;34m(\u001b[0m\u001b[0mself\u001b[0m\u001b[0;34m.\u001b[0m\u001b[0mtree_\u001b[0m\u001b[0;34m,\u001b[0m \u001b[0mX\u001b[0m\u001b[0;34m,\u001b[0m \u001b[0my\u001b[0m\u001b[0;34m,\u001b[0m \u001b[0msample_weight\u001b[0m\u001b[0;34m)\u001b[0m\u001b[0;34m\u001b[0m\u001b[0;34m\u001b[0m\u001b[0m\n\u001b[0m\u001b[1;32m    380\u001b[0m \u001b[0;34m\u001b[0m\u001b[0m\n\u001b[1;32m    381\u001b[0m         \u001b[0;32mif\u001b[0m \u001b[0mself\u001b[0m\u001b[0;34m.\u001b[0m\u001b[0mn_outputs_\u001b[0m \u001b[0;34m==\u001b[0m \u001b[0;36m1\u001b[0m \u001b[0;32mand\u001b[0m \u001b[0mis_classifier\u001b[0m\u001b[0;34m(\u001b[0m\u001b[0mself\u001b[0m\u001b[0;34m)\u001b[0m\u001b[0;34m:\u001b[0m\u001b[0;34m\u001b[0m\u001b[0;34m\u001b[0m\u001b[0m\n",
            "\u001b[0;31mKeyboardInterrupt\u001b[0m: "
          ]
        }
      ]
    },
    {
      "cell_type": "code",
      "source": [
        "import statsmodels.api as sm\n",
        "import numpy as np\n",
        "import pandas as pd\n",
        "\n",
        "# Fit the model using QuantReg\n",
        "quant_model = sm.QuantReg(y_train, X_train)\n",
        "\n",
        "# Set the tau value to 0.5, which corresponds to median regression\n",
        "quant_result = quant_model.fit(q=0.7, max_iter=2000)\n",
        "\n",
        "# Print the summary of the model\n",
        "print(quant_result.summary())\n",
        "\n",
        "# Make predictions on new data\n",
        "new_data = X_test\n",
        "predictions = quant_result.predict(new_data)\n",
        "\n",
        "print(mean_squared_error(y_test, predictions))"
      ],
      "metadata": {
        "id": "z1F5sebp2H6T",
        "outputId": "169f464c-7571-4607-97bf-67443e51a6b2",
        "colab": {
          "base_uri": "https://localhost:8080/"
        }
      },
      "execution_count": 80,
      "outputs": [
        {
          "output_type": "stream",
          "name": "stdout",
          "text": [
            "                            QuantReg Regression Results                             \n",
            "====================================================================================\n",
            "Dep. Variable:     Days for shipping (real)   Pseudo R-squared:               0.6414\n",
            "Model:                             QuantReg   Bandwidth:                     0.06143\n",
            "Method:                       Least Squares   Sparsity:                       0.2596\n",
            "Date:                      Mon, 17 Apr 2023   No. Observations:               144412\n",
            "Time:                              16:58:22   Df Residuals:                   144379\n",
            "                                              Df Model:                           33\n",
            "=================================================================================================\n",
            "                                    coef    std err          t      P>|t|      [0.025      0.975]\n",
            "-------------------------------------------------------------------------------------------------\n",
            "Type                              0.0189      0.001     30.394      0.000       0.018       0.020\n",
            "Days for shipment (scheduled)     0.4872      0.001    868.292      0.000       0.486       0.488\n",
            "Benefit per order              1.824e-06   5.81e-06      0.314      0.753   -9.56e-06    1.32e-05\n",
            "Sales per customer               -0.0001   1.05e-05    -10.344      0.000      -0.000    -8.8e-05\n",
            "Delivery Status                   0.3369      0.000   1006.768      0.000       0.336       0.338\n",
            "Late_delivery_risk                2.6670      0.001   3795.298      0.000       2.666       2.668\n",
            "Category Id                       0.0007      0.000      2.776      0.006       0.000       0.001\n",
            "Category Name                 -8.086e-05   2.57e-05     -3.152      0.002      -0.000   -3.06e-05\n",
            "Customer City                    -0.2487      0.001   -199.820      0.000      -0.251      -0.246\n",
            "Customer Segment                 -0.0007      0.000     -1.702      0.089      -0.002       0.000\n",
            "Customer Zipcode               2.382e-06   2.16e-08    110.296      0.000    2.34e-06    2.42e-06\n",
            "Department Id                    -0.0104      0.000    -20.953      0.000      -0.011      -0.009\n",
            "Department Name                   0.0007      0.000      5.089      0.000       0.000       0.001\n",
            "Latitude                         -0.0008   3.93e-05    -20.821      0.000      -0.001      -0.001\n",
            "Longitude                         0.0041   3.65e-05    112.620      0.000       0.004       0.004\n",
            "Market                           -0.0026      0.000     -9.521      0.000      -0.003      -0.002\n",
            "Order City                        0.0104      0.001     13.126      0.000       0.009       0.012\n",
            "Order Customer Id             -3.666e-07   8.73e-08     -4.198      0.000   -5.38e-07   -1.95e-07\n",
            "Order Id                      -1.264e-06   1.02e-06     -1.237      0.216   -3.27e-06    7.38e-07\n",
            "Order Item Cardprod Id         9.047e-06   1.14e-05      0.796      0.426   -1.32e-05    3.13e-05\n",
            "Order Item Discount             6.99e-05    1.5e-05      4.645      0.000    4.04e-05    9.94e-05\n",
            "Order Item Discount Rate         -0.0789      0.008     -9.492      0.000      -0.095      -0.063\n",
            "Order Item Id                  4.719e-07   4.09e-07      1.153      0.249    -3.3e-07    1.27e-06\n",
            "Order Item Product Price      -2.569e-05   5.31e-06     -4.838      0.000   -3.61e-05   -1.53e-05\n",
            "Order Item Profit Ratio          -0.0014      0.001     -1.105      0.269      -0.004       0.001\n",
            "Order Item Quantity              -0.0025      0.001     -4.163      0.000      -0.004      -0.001\n",
            "Sales                             0.0002   1.81e-05     11.210      0.000       0.000       0.000\n",
            "Order Item Total                 -0.0001   1.05e-05    -10.344      0.000      -0.000    -8.8e-05\n",
            "Order Region                     -0.0002   4.48e-05     -5.373      0.000      -0.000      -0.000\n",
            "Order State                      -0.0748      0.001    -56.385      0.000      -0.077      -0.072\n",
            "Order Status                     -0.0086      0.000    -31.558      0.000      -0.009      -0.008\n",
            "Product Name                     -0.0003   1.74e-05    -16.128      0.000      -0.000      -0.000\n",
            "Product Price                 -2.569e-05   5.31e-06     -4.838      0.000   -3.61e-05   -1.53e-05\n",
            "Product Status                         0          0        nan        nan           0           0\n",
            "Shipping Mode                     0.8404      0.001   1149.223      0.000       0.839       0.842\n",
            "Category                         -0.0071      0.001     -7.756      0.000      -0.009      -0.005\n",
            "=================================================================================================\n",
            "\n",
            "The smallest eigenvalue is -0.00194. This might indicate that there are\n",
            "strong multicollinearity problems or that the design matrix is singular.\n",
            "0.6156363860969308\n"
          ]
        },
        {
          "output_type": "stream",
          "name": "stderr",
          "text": [
            "/usr/local/lib/python3.9/dist-packages/statsmodels/regression/linear_model.py:1934: RuntimeWarning: invalid value encountered in sqrt\n",
            "  return np.sqrt(eigvals[0]/eigvals[-1])\n"
          ]
        }
      ]
    },
    {
      "cell_type": "markdown",
      "source": [
        "## Performance of the Model"
      ],
      "metadata": {
        "id": "XkFndI3LfUUu"
      }
    },
    {
      "cell_type": "markdown",
      "source": [
        "### Over 20 Splits"
      ],
      "metadata": {
        "id": "B0rf5g3nf4-K"
      }
    },
    {
      "cell_type": "code",
      "source": [
        "from sklearn.preprocessing import StandardScaler\n",
        "from sklearn.model_selection import train_test_split\n",
        "from sklearn.decomposition import PCA\n",
        "from sklearn.metrics import confusion_matrix, recall_score\n",
        "import os\n",
        "import pickle\n",
        "import pandas as pd\n",
        "import numpy as np\n",
        "#!pip install category_encoders\n",
        "import category_encoders as ce\n",
        "\n",
        "within_threshold_mean = []\n",
        "\n",
        "threshold = 0.5\n",
        "\n",
        "results_lr = pd.DataFrame(columns=['Model', 'MSE Mean', 'MSE Std', 'Within Threshold Mean', 'Within Threshold Std'])\n",
        "\n",
        "mse = []\n",
        "\n",
        "# Test the model\n",
        "\n",
        "with open('/content/drive/MyDrive/University/Deloitte/models_lr/rf.pkl', 'rb') as f:\n",
        "    model = pickle.load(f)\n",
        "\n",
        "# See if the model is good\n",
        "residuals = y_test - y_pred\n",
        "\n",
        "for i in range(1, 21):\n",
        "  X_train, X_test, y_train, y_test = train_test_split(X, y, test_size=0.2, shuffle=True)\n",
        "\n",
        "  le = LabelEncoder()\n",
        "\n",
        "  # Type\n",
        "  X_train['Type'] = le.fit_transform(X_train['Type']) \n",
        "  X_test['Type'] = le.transform(X_test['Type'])\n",
        "\n",
        "  # Delivery Status\n",
        "  X_train['Delivery Status'] = le.fit_transform(X_train['Delivery Status'])\n",
        "  X_test['Delivery Status'] = le.transform(X_test['Delivery Status'])\n",
        "\n",
        "  # Category Name\n",
        "  X_train['Category Name'] = le.fit_transform(X_train['Category Name'])\n",
        "  X_test['Category Name'] = le.transform(X_test['Category Name'])\n",
        "\n",
        "  # Department Name\n",
        "  X_train['Department Name'] = le.fit_transform(X_train['Department Name'])\n",
        "  X_test['Department Name'] = le.transform(X_test['Department Name'])\n",
        "\n",
        "  # Market\n",
        "  X_train['Market'] = le.fit_transform(X_train['Market'])\n",
        "  X_test['Market'] = le.transform(X_test['Market'])\n",
        "\n",
        "  # Order Status\n",
        "  X_train['Order Status'] = le.fit_transform(X_train['Order Status'])\n",
        "  X_test['Order Status'] = le.transform(X_test['Order Status'])\n",
        "\n",
        "  # Shipping Mode\n",
        "  X_train['Shipping Mode'] = le.fit_transform(X_train['Shipping Mode'])\n",
        "  X_test['Shipping Mode'] = le.transform(X_test['Shipping Mode'])\n",
        "\n",
        "  # Customer Segment\n",
        "  X_train['Customer Segment'] = le.fit_transform(X_train['Customer Segment'])\n",
        "  X_test['Customer Segment'] = le.transform(X_test['Customer Segment'])\n",
        "\n",
        "  # Category\n",
        "  X_train['Category'] = le.fit_transform(X_train['Category'])\n",
        "  X_test['Category'] = le.transform(X_test['Category'])\n",
        "\n",
        "  # Product Name\n",
        "  X_train['Product Name'] = le.fit_transform(X_train['Product Name'])\n",
        "  X_test['Product Name'] = le.transform(X_test['Product Name'])\n",
        "\n",
        "  # Order Region\n",
        "  X_train['Order Region'] = le.fit_transform(X_train['Order Region'])\n",
        "  X_test['Order Region'] = le.transform(X_test['Order Region'])\n",
        "\n",
        "  enc = LeaveOneOutEncoder(cols=['Customer City', 'Order City', 'Order State'])\n",
        "\n",
        "  # fit and transform the entire dataset\n",
        "  X_train = enc.fit_transform(X_train, y_train)\n",
        "  X_test = enc.transform(X_test)\n",
        "\n",
        "  y_pred = model.predict(X_test)\n",
        "    \n",
        "  mse.append(mean_squared_error(y_test, y_pred))\n",
        "\n",
        "  # Calculate the percentage of predictions within the threshold value\n",
        "\n",
        "  within_threshold_mean.append(sum(abs(y_pred - y_test) <= threshold) / len(y_pred))\n",
        "\n",
        "print(f'MSE Mean: {np.mean(mse)}')\n",
        "print(f'MSE Std: {np.std(mse)}')\n",
        "print(f'Within Threshold Mean: {np.mean(within_threshold_mean)}')\n",
        "print(f'Within Threshold Std: {np.std(within_threshold_mean)}')"
      ],
      "metadata": {
        "id": "4UE6ZZcbf4Gj"
      },
      "execution_count": null,
      "outputs": []
    },
    {
      "cell_type": "markdown",
      "source": [
        "## Visualization"
      ],
      "metadata": {
        "id": "K6kMlP9nfeit"
      }
    },
    {
      "cell_type": "code",
      "source": [
        "from sklearn.metrics import mean_squared_error\n",
        "\n",
        "with open('/content/drive/MyDrive/University/Deloitte/models_lr/rf.pkl', 'rb') as f:\n",
        "      model = pickle.load(f)\n",
        "\n",
        "y_pred = model.predict(X_test)\n",
        "residuals = y_test - y_pred\n",
        "\n",
        "mse = mean_squared_error(y_test, y_pred)\n",
        "print(\"Mean squared error: \" , mse, \"\\n\")"
      ],
      "metadata": {
        "id": "p9Ilv4kgff3s",
        "outputId": "57456723-3b2a-42b8-ad90-74a375109453",
        "colab": {
          "base_uri": "https://localhost:8080/"
        }
      },
      "execution_count": 68,
      "outputs": [
        {
          "output_type": "stream",
          "name": "stdout",
          "text": [
            "Mean squared error:  0.381235868601817 \n",
            "\n"
          ]
        }
      ]
    },
    {
      "cell_type": "code",
      "source": [
        "# Distribution plot\n",
        "\n",
        "import seaborn as sns\n",
        "import matplotlib.pyplot as plt\n",
        "\n",
        "sns.set_palette('colorblind')\n",
        "\n",
        "# Set style for the plot\n",
        "sns.set_style('darkgrid')\n",
        "\n",
        "# Create a distribution plot\n",
        "sns.kdeplot(y_test, label='Actual', fill=True)\n",
        "sns.kdeplot(y_pred, label='Predicted', fill=True)\n",
        "plt.xlabel('Delivery time')\n",
        "plt.ylabel('Density')\n",
        "plt.title('Distribution Plot')\n",
        "plt.legend()\n",
        "plt.show()"
      ],
      "metadata": {
        "id": "1ex6Ls0Qfipv",
        "outputId": "201224db-db5a-4717-fc39-209f64e09d85",
        "colab": {
          "base_uri": "https://localhost:8080/",
          "height": 472
        }
      },
      "execution_count": 69,
      "outputs": [
        {
          "output_type": "display_data",
          "data": {
            "text/plain": [
              "<Figure size 640x480 with 1 Axes>"
            ],
            "image/png": "[encoded data removed]"
          },
          "metadata": {}
        }
      ]
    },
    {
      "cell_type": "code",
      "source": [
        "# Plot a histogram of the residuals\n",
        "\n",
        "import seaborn as sns\n",
        "import matplotlib.pyplot as plt\n",
        "\n",
        "# Set style for the plot\n",
        "sns.set_style('darkgrid')\n",
        "\n",
        "# Create figure and axis objects\n",
        "fig, ax = plt.subplots(figsize=(10, 6))\n",
        "\n",
        "# Plot histogram with specified number of bins and color\n",
        "sns.histplot(residuals, bins=100, color='green', kde=True, ax=ax)\n",
        "\n",
        "# Set labels and title\n",
        "ax.set_xlabel('Residuals')\n",
        "ax.set_ylabel('Frequency')\n",
        "ax.set_title('Histogram of Residuals')\n",
        "ax.set_xlim((-7, 7))\n",
        "\n",
        "# Remove top and right spines\n",
        "sns.despine()\n",
        "\n",
        "# Show the plot\n",
        "plt.show()"
      ],
      "metadata": {
        "id": "Q7mh9Vu6fmbk",
        "outputId": "314f1aaf-4b7a-43cb-cae6-c1ae54b80439",
        "colab": {
          "base_uri": "https://localhost:8080/",
          "height": 564
        }
      },
      "execution_count": 75,
      "outputs": [
        {
          "output_type": "display_data",
          "data": {
            "text/plain": [
              "<Figure size 1000x600 with 1 Axes>"
            ],
            "image/png": "[encoded data removed]"
          },
          "metadata": {}
        }
      ]
    },
    {
      "cell_type": "code",
      "source": [
        "# Top 10 Feature Importances\n",
        "\n",
        "import matplotlib.pyplot as plt\n",
        "import seaborn as sns\n",
        "import pickle\n",
        "\n",
        "# get the feature importances\n",
        "importances = model.feature_importances_\n",
        "\n",
        "# sort the features by importance\n",
        "sorted_idx = importances.argsort()[::-1]\n",
        "\n",
        "# set style for the plot\n",
        "sns.set_style('darkgrid')\n",
        "\n",
        "# select the top 10 features\n",
        "top_features = X.columns[sorted_idx][:10]\n",
        "top_importances = importances[sorted_idx][:10]\n",
        "\n",
        "# create a figure and axis objects\n",
        "fig, ax = plt.subplots(figsize=(8, 4))\n",
        "\n",
        "# create a bar chart of the top 10 features\n",
        "sns.barplot(x=top_features, y=top_importances, ax=ax, color='steelblue')\n",
        "\n",
        "# set x-axis label and rotate labels for readability\n",
        "ax.set_xlabel('Feature', fontsize=14)\n",
        "ax.set_xticklabels(top_features, rotation=90, ha='right', fontsize=10)\n",
        "\n",
        "# set y-axis label and tick labels\n",
        "ax.set_ylabel('Importance Score', fontsize=14)\n",
        "ax.tick_params(axis='y', labelsize=12)\n",
        "\n",
        "# set title\n",
        "ax.set_title('Top 10 Feature Importances', fontsize=16)\n",
        "\n",
        "# remove top and right spines\n",
        "sns.despine()\n",
        "\n",
        "# show the plot\n",
        "plt.show()"
      ],
      "metadata": {
        "id": "qWNnAM3ufrz0",
        "outputId": "925f0f41-95a1-4bef-a301-3299b20611e8",
        "colab": {
          "base_uri": "https://localhost:8080/",
          "height": 617
        }
      },
      "execution_count": 71,
      "outputs": [
        {
          "output_type": "display_data",
          "data": {
            "text/plain": [
              "<Figure size 800x400 with 1 Axes>"
            ],
            "image/png": "[encoded data removed]"
          },
          "metadata": {}
        }
      ]
    },
    {
      "cell_type": "code",
      "source": [
        "import matplotlib.pyplot as plt\n",
        "\n",
        "# Set the threshold value\n",
        "threshold = 0.5\n",
        "\n",
        "# Get the predicted values\n",
        "y_pred = model.predict(X_test)\n",
        "\n",
        "# Calculate the percentage of predictions within the threshold value\n",
        "within_threshold = (np.abs(y_pred - y_test) < threshold).mean()\n",
        "\n",
        "# Calculate the percentage of predictions outside the threshold value\n",
        "outside_threshold = 1 - within_threshold\n",
        "\n",
        "# Create a pie chart\n",
        "fig, ax = plt.subplots()\n",
        "labels = ['Within threshold', 'Outside threshold']\n",
        "sizes = [within_threshold, outside_threshold]\n",
        "colors = ['#1f77b4', '#ff7f0e']\n",
        "plt.pie(sizes, labels=labels, colors=colors, autopct='%1.1f%%', startangle=90)\n",
        "\n",
        "# Add a title\n",
        "plt.title('Percentage of Predictions Within 0.5 Days of Delivery', fontsize=13)\n",
        "\n",
        "# Show the plot\n",
        "plt.show()"
      ],
      "metadata": {
        "id": "8TNgFDd1fxKG",
        "outputId": "12731000-f210-4b6b-b4fd-2f619eae47fb",
        "colab": {
          "base_uri": "https://localhost:8080/",
          "height": 428
        }
      },
      "execution_count": 72,
      "outputs": [
        {
          "output_type": "display_data",
          "data": {
            "text/plain": [
              "<Figure size 640x480 with 1 Axes>"
            ],
            "image/png": "[encoded data removed]"
          },
          "metadata": {}
        }
      ]
    },
    {
      "cell_type": "code",
      "source": [
        "import statsmodels.api as sm\n",
        "from statsmodels.graphics.gofplots import qqplot\n",
        "\n",
        "# Get the residuals\n",
        "residuals = y_test - y_pred\n",
        "\n",
        "# Create a QQ plot\n",
        "qqplot(residuals, line='s')\n",
        "\n",
        "# Add title and axis labels\n",
        "plt.title('QQ Plot of Residuals')\n",
        "plt.xlabel('Theoretical Quantiles')\n",
        "plt.ylabel('Sample Quantiles')\n",
        "\n",
        "# Show the plot\n",
        "plt.show()"
      ],
      "metadata": {
        "id": "_GWNxKKJfzqC",
        "outputId": "61f07285-24a4-444d-a4fd-57a10d4732f8",
        "colab": {
          "base_uri": "https://localhost:8080/",
          "height": 472
        }
      },
      "execution_count": 73,
      "outputs": [
        {
          "output_type": "display_data",
          "data": {
            "text/plain": [
              "<Figure size 640x480 with 1 Axes>"
            ],
            "image/png": "[encoded data removed]"
          },
          "metadata": {}
        }
      ]
    }
  ]
}