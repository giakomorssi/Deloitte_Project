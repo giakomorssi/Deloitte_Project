{
  "cells": [
    {
      "cell_type": "markdown",
      "metadata": {
        "id": "view-in-github",
        "colab_type": "text"
      },
      "source": [
        "<a href=\"https://colab.research.google.com/github/giakomorssi/Deloitte_Project/blob/main/02_Prediction.ipynb\" target=\"_parent\"><img src=\"https://colab.research.google.com/assets/colab-badge.svg\" alt=\"Open In Colab\"/></a>"
      ]
    },
    {
      "cell_type": "markdown",
      "metadata": {
        "id": "orgvMZprijUi"
      },
      "source": [
        "# Import the Data"
      ]
    },
    {
      "cell_type": "code",
      "execution_count": 149,
      "metadata": {
        "colab": {
          "base_uri": "https://localhost:8080/"
        },
        "id": "3YbdOFcuimXI",
        "outputId": "823351f5-9678-4cba-ee6b-67d6b97f05c5"
      },
      "outputs": [
        {
          "output_type": "stream",
          "name": "stdout",
          "text": [
            "Drive already mounted at /content/drive; to attempt to forcibly remount, call drive.mount(\"/content/drive\", force_remount=True).\n",
            "Runtime switched to GPU\n",
            "GPU device found: /device:GPU:0\n",
            "Default GPU Device: /device:GPU:0\n"
          ]
        }
      ],
      "source": [
        "from google.colab import drive\n",
        "drive.mount('/content/drive')\n",
        "\n",
        "from sklearn.metrics import mean_squared_error\n",
        "\n",
        "import pandas as pd\n",
        "\n",
        "# Change Colab runtime to GPU\n",
        "import os\n",
        "os.environ['COLAB_TPU_ADDR'] = ''\n",
        "os.environ['COLAB_GPU_ALLOC'] = '1'\n",
        "os.environ['COLAB_GPU'] = '1'\n",
        "print(\"Runtime switched to GPU\")\n",
        "\n",
        "import tensorflow as tf\n",
        "\n",
        "if not tf.test.gpu_device_name():\n",
        "    print('GPU device not found')\n",
        "else:\n",
        "    print('GPU device found:', tf.test.gpu_device_name())\n",
        "\n",
        "# This code sets the runtime to use the GPU if available\n",
        "if tf.test.gpu_device_name():\n",
        "    print('Default GPU Device: {}'.format(tf.test.gpu_device_name()))\n",
        "else:\n",
        "    print(\"Please install GPU version of TF\")\n",
        "\n",
        "pd.set_option('display.max_columns', None)\n",
        "\n",
        "!pip install -q category_encoders"
      ]
    },
    {
      "cell_type": "code",
      "execution_count": 150,
      "metadata": {
        "id": "LKG4GTnhisz4"
      },
      "outputs": [],
      "source": [
        "#df = pd.read_csv('/content/drive/MyDrive/University/Deloitte/SupplyChainDataset.csv', encoding = 'latin-1')"
      ]
    },
    {
      "cell_type": "markdown",
      "source": [
        "# Old System"
      ],
      "metadata": {
        "id": "po83a1LzaB_s"
      }
    },
    {
      "cell_type": "code",
      "source": [
        "'''import seaborn as sns\n",
        "import matplotlib.pyplot as plt\n",
        "\n",
        "df['expect_real'] = df['Days for shipment (scheduled)'] - df['Days for shipping (real)']\n",
        "\n",
        "sns.histplot(df['expect_real'])\n",
        "plt.xlabel('Days for shipment (scheduled) - Days for shipping (real)')\n",
        "plt.ylabel('Count')\n",
        "plt.show()'''"
      ],
      "metadata": {
        "colab": {
          "base_uri": "https://localhost:8080/",
          "height": 0
        },
        "id": "nyiMxAREaD1p",
        "outputId": "2dffaa69-9500-46fc-c15f-7b57e43b2301"
      },
      "execution_count": 151,
      "outputs": [
        {
          "output_type": "execute_result",
          "data": {
            "text/plain": [
              "\"import seaborn as sns\\nimport matplotlib.pyplot as plt\\n\\ndf['expect_real'] = df['Days for shipment (scheduled)'] - df['Days for shipping (real)']\\n\\nsns.histplot(df['expect_real'])\\nplt.xlabel('Days for shipment (scheduled) - Days for shipping (real)')\\nplt.ylabel('Count')\\nplt.show()\""
            ],
            "application/vnd.google.colaboratory.intrinsic+json": {
              "type": "string"
            }
          },
          "metadata": {},
          "execution_count": 151
        }
      ]
    },
    {
      "cell_type": "markdown",
      "metadata": {
        "id": "eWw2dp9MeOTe"
      },
      "source": [
        "# Cleaning the Data"
      ]
    },
    {
      "cell_type": "code",
      "execution_count": 152,
      "metadata": {
        "id": "PzGJHtMaeF0i",
        "colab": {
          "base_uri": "https://localhost:8080/",
          "height": 88
        },
        "outputId": "04fd1abc-47d3-48ff-e5eb-bbf7f64378f1"
      },
      "outputs": [
        {
          "output_type": "execute_result",
          "data": {
            "text/plain": [
              "\"# Remove Na and Empty Columns\\n\\ndf.drop(['Product Description', 'Order Zipcode', 'Order Profit Per Order', 'Customer Email', 'Customer Password', 'Customer Country', 'Customer Id', 'Customer Fname', 'Customer Lname', 'Customer Street', 'Order Country', 'Product Card Id', 'Product Category Id', 'Product Image', 'Customer State'], axis = 1, inplace = True) \\ndf.drop('Delivery Status', axis = 1, inplace = True)\\ndf.dropna(inplace = True) #remove 1 missing value\""
            ],
            "application/vnd.google.colaboratory.intrinsic+json": {
              "type": "string"
            }
          },
          "metadata": {},
          "execution_count": 152
        }
      ],
      "source": [
        "'''# Remove Na and Empty Columns\n",
        "\n",
        "df.drop(['Product Description', 'Order Zipcode', 'Order Profit Per Order', 'Customer Email', 'Customer Password', 'Customer Country', 'Customer Id', 'Customer Fname', 'Customer Lname', 'Customer Street', 'Order Country', 'Product Card Id', 'Product Category Id', 'Product Image', 'Customer State'], axis = 1, inplace = True) \n",
        "df.drop('Delivery Status', axis = 1, inplace = True)\n",
        "df.dropna(inplace = True) #remove 1 missing value'''"
      ]
    },
    {
      "cell_type": "code",
      "source": [
        "'''from datetime import datetime\n",
        "\n",
        "df['order date'] = pd.to_datetime(df['order date (DateOrders)'])\n",
        "df['shipping date'] = pd.to_datetime(df['shipping date (DateOrders)'])\n",
        "\n",
        "df['order date'] = df['order date'].apply(lambda x: x.timestamp())\n",
        "df['shipping date'] = df['shipping date'].apply(lambda x: x.timestamp())\n",
        "\n",
        "df.drop(['order date (DateOrders)', 'shipping date (DateOrders)'], axis = 1, inplace = True)'''"
      ],
      "metadata": {
        "colab": {
          "base_uri": "https://localhost:8080/",
          "height": 71
        },
        "id": "I45mqDP2GEoB",
        "outputId": "345b5b0e-1eea-4418-d4e2-82bdf3f20441"
      },
      "execution_count": 153,
      "outputs": [
        {
          "output_type": "execute_result",
          "data": {
            "text/plain": [
              "\"from datetime import datetime\\n\\ndf['order date'] = pd.to_datetime(df['order date (DateOrders)'])\\ndf['shipping date'] = pd.to_datetime(df['shipping date (DateOrders)'])\\n\\ndf['order date'] = df['order date'].apply(lambda x: x.timestamp())\\ndf['shipping date'] = df['shipping date'].apply(lambda x: x.timestamp())\\n\\ndf.drop(['order date (DateOrders)', 'shipping date (DateOrders)'], axis = 1, inplace = True)\""
            ],
            "application/vnd.google.colaboratory.intrinsic+json": {
              "type": "string"
            }
          },
          "metadata": {},
          "execution_count": 153
        }
      ]
    },
    {
      "cell_type": "code",
      "source": [
        "'''df.to_csv('/content/drive/MyDrive/University/Deloitte/SupplyChainDataset_prediction.csv', index = False)'''"
      ],
      "metadata": {
        "id": "1XH9cSLkUPwL",
        "colab": {
          "base_uri": "https://localhost:8080/",
          "height": 35
        },
        "outputId": "cf7e953c-ca97-433c-a68a-2a7adc528df3"
      },
      "execution_count": 154,
      "outputs": [
        {
          "output_type": "execute_result",
          "data": {
            "text/plain": [
              "\"df.to_csv('/content/drive/MyDrive/University/Deloitte/SupplyChainDataset_prediction.csv', index = False)\""
            ],
            "application/vnd.google.colaboratory.intrinsic+json": {
              "type": "string"
            }
          },
          "metadata": {},
          "execution_count": 154
        }
      ]
    },
    {
      "cell_type": "markdown",
      "metadata": {
        "id": "RbisUTEaeX1J"
      },
      "source": [
        "# Encoding"
      ]
    },
    {
      "cell_type": "markdown",
      "metadata": {
        "id": "fnVQgjIrefSP"
      },
      "source": [
        "### Label Encoding"
      ]
    },
    {
      "cell_type": "code",
      "source": [
        "df = pd.read_csv('/content/drive/MyDrive/University/Deloitte/SupplyChainDataset_prediction.csv')"
      ],
      "metadata": {
        "id": "FrgFZczMUeOY"
      },
      "execution_count": 196,
      "outputs": []
    },
    {
      "cell_type": "code",
      "source": [
        "df.shape"
      ],
      "metadata": {
        "colab": {
          "base_uri": "https://localhost:8080/"
        },
        "id": "xjRFtr-z5oDH",
        "outputId": "38dfc19f-b63e-4477-84ed-581348d549e9"
      },
      "execution_count": 197,
      "outputs": [
        {
          "output_type": "execute_result",
          "data": {
            "text/plain": [
              "(180516, 37)"
            ]
          },
          "metadata": {},
          "execution_count": 197
        }
      ]
    },
    {
      "cell_type": "code",
      "execution_count": 179,
      "metadata": {
        "id": "QHMxOu0xevti"
      },
      "outputs": [],
      "source": [
        "from sklearn.model_selection import train_test_split\n",
        "\n",
        "X = df.drop(['Days for shipping (real)', 'Product Name'], axis = 1)\n",
        "#X = df.drop('Late_delivery_risk', axis = 1)\n",
        "y = df['Days for shipping (real)']"
      ]
    },
    {
      "cell_type": "code",
      "execution_count": 180,
      "metadata": {
        "id": "PDM9u2iYib2M"
      },
      "outputs": [],
      "source": [
        "X_train, X_test, y_train, y_test = train_test_split(X, y, test_size=0.2)"
      ]
    },
    {
      "cell_type": "code",
      "execution_count": 181,
      "metadata": {
        "id": "KOBfHPEphRx7"
      },
      "outputs": [],
      "source": [
        "import pandas as pd\n",
        "from category_encoders import LeaveOneOutEncoder\n",
        "\n",
        "# initialize the encoder\n",
        "enc = LeaveOneOutEncoder(cols=['Customer City', 'Order City', 'Order State', 'Order Region'])\n",
        "\n",
        "# fit and transform the entire dataset\n",
        "X_train = enc.fit_transform(X_train, y_train)\n",
        "X_test = enc.transform(X_test)"
      ]
    },
    {
      "cell_type": "code",
      "source": [
        "X_train.head(1)"
      ],
      "metadata": {
        "colab": {
          "base_uri": "https://localhost:8080/",
          "height": 214
        },
        "id": "og0l565wEI85",
        "outputId": "d57b0a73-42b8-4a00-a8f9-4ed3f5a006ec"
      },
      "execution_count": 182,
      "outputs": [
        {
          "output_type": "execute_result",
          "data": {
            "text/plain": [
              "           Type  Days for shipment (scheduled)  Benefit per order  \\\n",
              "133269  PAYMENT                              4               3.32   \n",
              "\n",
              "        Sales per customer  Late_delivery_risk  Category Id  \\\n",
              "133269               41.48                   0           46   \n",
              "\n",
              "               Category Name  Customer City Customer Segment  \\\n",
              "133269  Indoor/Outdoor Games       2.933333      Home Office   \n",
              "\n",
              "        Customer Zipcode  Department Id Department Name   Latitude  Longitude  \\\n",
              "133269           29445.0              7        Fan Shop  32.962818 -80.011703   \n",
              "\n",
              "              Market  Order City  Order Customer Id  Order Id  \\\n",
              "133269  Pacific Asia    3.571429              11521     23092   \n",
              "\n",
              "        Order Item Cardprod Id  Order Item Discount  Order Item Discount Rate  \\\n",
              "133269                    1014                  8.5                      0.17   \n",
              "\n",
              "        Order Item Id  Order Item Product Price  Order Item Profit Ratio  \\\n",
              "133269          57821                     49.98                     0.08   \n",
              "\n",
              "        Order Item Quantity  Sales  Order Item Total  Order Region  \\\n",
              "133269                    1  49.98             41.48      3.535811   \n",
              "\n",
              "        Order State     Order Status  Product Price  Product Status  \\\n",
              "133269     3.796238  PENDING_PAYMENT          49.98               0   \n",
              "\n",
              "         Shipping Mode    order date  shipping date  \n",
              "133269  Standard Class  1.449194e+09   1.449453e+09  "
            ],
            "text/html": [
              "\n",
              "  <div id=\"df-0ff26cd8-5fd2-4e08-8822-c604fdde4e06\">\n",
              "    <div class=\"colab-df-container\">\n",
              "      <div>\n",
              "<style scoped>\n",
              "    .dataframe tbody tr th:only-of-type {\n",
              "        vertical-align: middle;\n",
              "    }\n",
              "\n",
              "    .dataframe tbody tr th {\n",
              "        vertical-align: top;\n",
              "    }\n",
              "\n",
              "    .dataframe thead th {\n",
              "        text-align: right;\n",
              "    }\n",
              "</style>\n",
              "<table border=\"1\" class=\"dataframe\">\n",
              "  <thead>\n",
              "    <tr style=\"text-align: right;\">\n",
              "      <th></th>\n",
              "      <th>Type</th>\n",
              "      <th>Days for shipment (scheduled)</th>\n",
              "      <th>Benefit per order</th>\n",
              "      <th>Sales per customer</th>\n",
              "      <th>Late_delivery_risk</th>\n",
              "      <th>Category Id</th>\n",
              "      <th>Category Name</th>\n",
              "      <th>Customer City</th>\n",
              "      <th>Customer Segment</th>\n",
              "      <th>Customer Zipcode</th>\n",
              "      <th>Department Id</th>\n",
              "      <th>Department Name</th>\n",
              "      <th>Latitude</th>\n",
              "      <th>Longitude</th>\n",
              "      <th>Market</th>\n",
              "      <th>Order City</th>\n",
              "      <th>Order Customer Id</th>\n",
              "      <th>Order Id</th>\n",
              "      <th>Order Item Cardprod Id</th>\n",
              "      <th>Order Item Discount</th>\n",
              "      <th>Order Item Discount Rate</th>\n",
              "      <th>Order Item Id</th>\n",
              "      <th>Order Item Product Price</th>\n",
              "      <th>Order Item Profit Ratio</th>\n",
              "      <th>Order Item Quantity</th>\n",
              "      <th>Sales</th>\n",
              "      <th>Order Item Total</th>\n",
              "      <th>Order Region</th>\n",
              "      <th>Order State</th>\n",
              "      <th>Order Status</th>\n",
              "      <th>Product Price</th>\n",
              "      <th>Product Status</th>\n",
              "      <th>Shipping Mode</th>\n",
              "      <th>order date</th>\n",
              "      <th>shipping date</th>\n",
              "    </tr>\n",
              "  </thead>\n",
              "  <tbody>\n",
              "    <tr>\n",
              "      <th>133269</th>\n",
              "      <td>PAYMENT</td>\n",
              "      <td>4</td>\n",
              "      <td>3.32</td>\n",
              "      <td>41.48</td>\n",
              "      <td>0</td>\n",
              "      <td>46</td>\n",
              "      <td>Indoor/Outdoor Games</td>\n",
              "      <td>2.933333</td>\n",
              "      <td>Home Office</td>\n",
              "      <td>29445.0</td>\n",
              "      <td>7</td>\n",
              "      <td>Fan Shop</td>\n",
              "      <td>32.962818</td>\n",
              "      <td>-80.011703</td>\n",
              "      <td>Pacific Asia</td>\n",
              "      <td>3.571429</td>\n",
              "      <td>11521</td>\n",
              "      <td>23092</td>\n",
              "      <td>1014</td>\n",
              "      <td>8.5</td>\n",
              "      <td>0.17</td>\n",
              "      <td>57821</td>\n",
              "      <td>49.98</td>\n",
              "      <td>0.08</td>\n",
              "      <td>1</td>\n",
              "      <td>49.98</td>\n",
              "      <td>41.48</td>\n",
              "      <td>3.535811</td>\n",
              "      <td>3.796238</td>\n",
              "      <td>PENDING_PAYMENT</td>\n",
              "      <td>49.98</td>\n",
              "      <td>0</td>\n",
              "      <td>Standard Class</td>\n",
              "      <td>1.449194e+09</td>\n",
              "      <td>1.449453e+09</td>\n",
              "    </tr>\n",
              "  </tbody>\n",
              "</table>\n",
              "</div>\n",
              "      <button class=\"colab-df-convert\" onclick=\"convertToInteractive('df-0ff26cd8-5fd2-4e08-8822-c604fdde4e06')\"\n",
              "              title=\"Convert this dataframe to an interactive table.\"\n",
              "              style=\"display:none;\">\n",
              "        \n",
              "  <svg xmlns=\"http://www.w3.org/2000/svg\" height=\"24px\"viewBox=\"0 0 24 24\"\n",
              "       width=\"24px\">\n",
              "    <path d=\"M0 0h24v24H0V0z\" fill=\"none\"/>\n",
              "    <path d=\"M18.56 5.44l.94 2.06.94-2.06 2.06-.94-2.06-.94-.94-2.06-.94 2.06-2.06.94zm-11 1L8.5 8.5l.94-2.06 2.06-.94-2.06-.94L8.5 2.5l-.94 2.06-2.06.94zm10 10l.94 2.06.94-2.06 2.06-.94-2.06-.94-.94-2.06-.94 2.06-2.06.94z\"/><path d=\"M17.41 7.96l-1.37-1.37c-.4-.4-.92-.59-1.43-.59-.52 0-1.04.2-1.43.59L10.3 9.45l-7.72 7.72c-.78.78-.78 2.05 0 2.83L4 21.41c.39.39.9.59 1.41.59.51 0 1.02-.2 1.41-.59l7.78-7.78 2.81-2.81c.8-.78.8-2.07 0-2.86zM5.41 20L4 18.59l7.72-7.72 1.47 1.35L5.41 20z\"/>\n",
              "  </svg>\n",
              "      </button>\n",
              "      \n",
              "  <style>\n",
              "    .colab-df-container {\n",
              "      display:flex;\n",
              "      flex-wrap:wrap;\n",
              "      gap: 12px;\n",
              "    }\n",
              "\n",
              "    .colab-df-convert {\n",
              "      background-color: #E8F0FE;\n",
              "      border: none;\n",
              "      border-radius: 50%;\n",
              "      cursor: pointer;\n",
              "      display: none;\n",
              "      fill: #1967D2;\n",
              "      height: 32px;\n",
              "      padding: 0 0 0 0;\n",
              "      width: 32px;\n",
              "    }\n",
              "\n",
              "    .colab-df-convert:hover {\n",
              "      background-color: #E2EBFA;\n",
              "      box-shadow: 0px 1px 2px rgba(60, 64, 67, 0.3), 0px 1px 3px 1px rgba(60, 64, 67, 0.15);\n",
              "      fill: #174EA6;\n",
              "    }\n",
              "\n",
              "    [theme=dark] .colab-df-convert {\n",
              "      background-color: #3B4455;\n",
              "      fill: #D2E3FC;\n",
              "    }\n",
              "\n",
              "    [theme=dark] .colab-df-convert:hover {\n",
              "      background-color: #434B5C;\n",
              "      box-shadow: 0px 1px 3px 1px rgba(0, 0, 0, 0.15);\n",
              "      filter: drop-shadow(0px 1px 2px rgba(0, 0, 0, 0.3));\n",
              "      fill: #FFFFFF;\n",
              "    }\n",
              "  </style>\n",
              "\n",
              "      <script>\n",
              "        const buttonEl =\n",
              "          document.querySelector('#df-0ff26cd8-5fd2-4e08-8822-c604fdde4e06 button.colab-df-convert');\n",
              "        buttonEl.style.display =\n",
              "          google.colab.kernel.accessAllowed ? 'block' : 'none';\n",
              "\n",
              "        async function convertToInteractive(key) {\n",
              "          const element = document.querySelector('#df-0ff26cd8-5fd2-4e08-8822-c604fdde4e06');\n",
              "          const dataTable =\n",
              "            await google.colab.kernel.invokeFunction('convertToInteractive',\n",
              "                                                     [key], {});\n",
              "          if (!dataTable) return;\n",
              "\n",
              "          const docLinkHtml = 'Like what you see? Visit the ' +\n",
              "            '<a target=\"_blank\" href=https://colab.research.google.com/notebooks/data_table.ipynb>data table notebook</a>'\n",
              "            + ' to learn more about interactive tables.';\n",
              "          element.innerHTML = '';\n",
              "          dataTable['output_type'] = 'display_data';\n",
              "          await google.colab.output.renderOutput(dataTable, element);\n",
              "          const docLink = document.createElement('div');\n",
              "          docLink.innerHTML = docLinkHtml;\n",
              "          element.appendChild(docLink);\n",
              "        }\n",
              "      </script>\n",
              "    </div>\n",
              "  </div>\n",
              "  "
            ]
          },
          "metadata": {},
          "execution_count": 182
        }
      ]
    },
    {
      "cell_type": "code",
      "source": [
        "from sklearn.preprocessing import OneHotEncoder\n",
        "\n",
        "# Select columns for one-hot encoding\n",
        "one_hot_cols = [0, 6, 8, 11, 14, 29]\n",
        "#one_hot_cols = [0, 5, 7, 10, 13, 28] use this if we want to remove Late_delivery_risk\n",
        "\n",
        "# Type, Department Name, Category Name, Market, Order Status, Customer Segment\n",
        "\n",
        "# Fit one-hot encoder to training data\n",
        "one_hot_encoder = OneHotEncoder(handle_unknown=\"ignore\")\n",
        "\n",
        "# Apply one-hot encoder to training and test data\n",
        "X_train_one_hot = one_hot_encoder.fit_transform(X_train.iloc[:, one_hot_cols])\n",
        "X_test_one_hot = one_hot_encoder.transform(X_test.iloc[:, one_hot_cols])\n",
        "\n",
        "# Remove original columns from training and test data\n",
        "X_train = X_train.drop(X_train.columns[one_hot_cols], axis=1)\n",
        "X_test = X_test.drop(X_test.columns[one_hot_cols], axis=1)\n",
        "\n",
        "# Concatenate one-hot encoded columns with remaining data\n",
        "X_train = pd.concat([pd.DataFrame(X_train_one_hot.toarray()), X_train.reset_index(drop=True)], axis=1)\n",
        "X_test = pd.concat([pd.DataFrame(X_test_one_hot.toarray()), X_test.reset_index(drop=True)], axis=1)"
      ],
      "metadata": {
        "id": "Wxy0wa1wsKpA"
      },
      "execution_count": 183,
      "outputs": []
    },
    {
      "cell_type": "code",
      "execution_count": 184,
      "metadata": {
        "id": "Ly4l3rMgedcK"
      },
      "outputs": [],
      "source": [
        "from sklearn.preprocessing import LabelEncoder\n",
        "\n",
        "le = LabelEncoder()\n",
        "\n",
        "# Shipping Mode\n",
        "custom_order = ['Same Day', 'First Class', 'Second Class', 'Standard Class']\n",
        "le.fit(custom_order)\n",
        "X_train['Shipping Mode'] = le.fit_transform(X_train['Shipping Mode'])\n",
        "X_test['Shipping Mode'] = le.transform(X_test['Shipping Mode'])"
      ]
    },
    {
      "cell_type": "markdown",
      "metadata": {
        "id": "LKD99kAWo78q"
      },
      "source": [
        "## Scale the Data"
      ]
    },
    {
      "cell_type": "code",
      "execution_count": 185,
      "metadata": {
        "id": "u3_PeKvho9h7",
        "colab": {
          "base_uri": "https://localhost:8080/"
        },
        "outputId": "df41a752-e20a-4100-d081-0b3a7a1959d8"
      },
      "outputs": [
        {
          "output_type": "stream",
          "name": "stderr",
          "text": [
            "<ipython-input-185-6700864cfc85>:5: DeprecationWarning: In a future version, `df.iloc[:, i] = newvals` will attempt to set the values inplace instead of always setting a new array. To retain the old behavior, use either `df[df.columns[i]] = newvals` or, if columns are non-unique, `df.isetitem(i, newvals)`\n",
            "  X_train.iloc[:, 82:] = scaler.fit_transform(X_train.iloc[:, 82:])\n",
            "<ipython-input-185-6700864cfc85>:6: DeprecationWarning: In a future version, `df.iloc[:, i] = newvals` will attempt to set the values inplace instead of always setting a new array. To retain the old behavior, use either `df[df.columns[i]] = newvals` or, if columns are non-unique, `df.isetitem(i, newvals)`\n",
            "  X_test.iloc[:, 82:] = scaler.transform(X_test.iloc[:, 82:])\n"
          ]
        }
      ],
      "source": [
        "from sklearn.preprocessing import StandardScaler\n",
        "\n",
        "scaler = StandardScaler()\n",
        "\n",
        "X_train.iloc[:, 82:] = scaler.fit_transform(X_train.iloc[:, 82:])\n",
        "X_test.iloc[:, 82:] = scaler.transform(X_test.iloc[:, 82:])"
      ]
    },
    {
      "cell_type": "code",
      "source": [
        "import pandas as pd\n",
        "import numpy as np\n",
        "import pickle\n",
        "\n",
        "# Split the dataset into features and target\n",
        "X_train = pd.DataFrame(X_train)\n",
        "X_test = pd.DataFrame(X_test)\n",
        "y_train = pd.DataFrame(y_train)\n",
        "y_train = np.ravel(y_train)\n",
        "\n",
        "X_train.columns = X_train.columns.astype(str)\n",
        "X_test.columns = X_test.columns.astype(str)"
      ],
      "metadata": {
        "id": "ocJmtCbxu7UT"
      },
      "execution_count": 186,
      "outputs": []
    },
    {
      "cell_type": "code",
      "source": [
        "X_train.shape"
      ],
      "metadata": {
        "id": "fLdGQKn2U-U4",
        "colab": {
          "base_uri": "https://localhost:8080/"
        },
        "outputId": "a1929843-550b-4b0b-ed2e-1ddf2907b8a8"
      },
      "execution_count": 187,
      "outputs": [
        {
          "output_type": "execute_result",
          "data": {
            "text/plain": [
              "(144412, 111)"
            ]
          },
          "metadata": {},
          "execution_count": 187
        }
      ]
    },
    {
      "cell_type": "markdown",
      "metadata": {
        "id": "sFjf5jaOe6g7"
      },
      "source": [
        "# Prediction"
      ]
    },
    {
      "cell_type": "markdown",
      "metadata": {
        "id": "VQxfil1yfMci"
      },
      "source": [
        "## Choosing the Model"
      ]
    },
    {
      "cell_type": "code",
      "source": [
        "from sklearn.ensemble import VotingRegressor\n",
        "from sklearn.linear_model import BayesianRidge\n",
        "from sklearn.linear_model import Ridge\n",
        "\n",
        "model = VotingRegressor([('brr', BayesianRidge()), ('ridge', Ridge())], weights=[2, 1])\n",
        "\n",
        "model.fit(X_train, y_train)\n",
        "\n",
        "y_pred = model.predict(X_test)\n",
        "\n",
        "with open('/content/drive/MyDrive/University/Deloitte/models_lr/voting.pkl', 'wb') as f:\n",
        "  pickle.dump(model, f)\n",
        "\n",
        "print('rMSE', mean_squared_error(y_test, y_pred, squared=False))"
      ],
      "metadata": {
        "colab": {
          "base_uri": "https://localhost:8080/"
        },
        "id": "1vXW254cwjL9",
        "outputId": "60f7f4fe-94d4-4f4e-af50-c381bf74ede1"
      },
      "execution_count": 56,
      "outputs": [
        {
          "output_type": "stream",
          "name": "stdout",
          "text": [
            "rMSE 0.18764823497050742\n"
          ]
        }
      ]
    },
    {
      "cell_type": "code",
      "source": [
        "from sklearn.ensemble import StackingRegressor\n",
        "from sklearn.linear_model import LinearRegression\n",
        "from sklearn.tree import DecisionTreeRegressor\n",
        "\n",
        "model = StackingRegressor(estimators=[('brr', BayesianRidge()), ('ridge', Ridge())], final_estimator=DecisionTreeRegressor())\n",
        "\n",
        "model.fit(X_train, y_train)\n",
        "\n",
        "y_pred = model.predict(X_test)\n",
        "\n",
        "with open('/content/drive/MyDrive/University/Deloitte/models_lr/stacking.pkl', 'wb') as f:\n",
        "  pickle.dump(model, f)\n",
        "\n",
        "print('rMSE', mean_squared_error(y_test, y_pred, squared=False))"
      ],
      "metadata": {
        "colab": {
          "base_uri": "https://localhost:8080/"
        },
        "id": "MauuoIoTy_2K",
        "outputId": "7c8df47c-be1a-430e-ba80-3c5384ae12cc"
      },
      "execution_count": 144,
      "outputs": [
        {
          "output_type": "stream",
          "name": "stdout",
          "text": [
            "rMSE 0.16161370481998574\n"
          ]
        }
      ]
    },
    {
      "cell_type": "markdown",
      "source": [
        "## try"
      ],
      "metadata": {
        "id": "iAtXIeA6uftJ"
      }
    },
    {
      "cell_type": "code",
      "source": [
        "import pickle\n",
        "\n",
        "with open('/content/drive/MyDrive/University/Deloitte/models_lr/stacking.pkl', 'rb') as f:\n",
        "  model = pickle.load(f)\n",
        "\n",
        "y_pred = model.predict(X_test)\n",
        "\n",
        "print('rMSE', mean_squared_error(y_test, y_pred, squared=False))"
      ],
      "metadata": {
        "colab": {
          "base_uri": "https://localhost:8080/"
        },
        "id": "_9qX-y_QktaG",
        "outputId": "a1d52138-15c9-48e0-9166-e1ae18447cd7"
      },
      "execution_count": 188,
      "outputs": [
        {
          "output_type": "stream",
          "name": "stdout",
          "text": [
            "rMSE 0.03451092242893016\n"
          ]
        }
      ]
    },
    {
      "cell_type": "code",
      "source": [
        "residuals = y_test - y_pred"
      ],
      "metadata": {
        "id": "s06OfPdce8tJ"
      },
      "execution_count": 166,
      "outputs": []
    },
    {
      "cell_type": "code",
      "source": [
        "from matplotlib import pyplot as plt\n",
        "import seaborn as sns\n",
        "\n",
        "fig, ax = plt.subplots(figsize=(10, 6))\n",
        "sns.set_palette('colorblind')\n",
        "sns.set_style('darkgrid')\n",
        "sns.kdeplot(y_test.ravel(), label='Actual', fill=True)\n",
        "sns.kdeplot(y_pred.ravel(), label='Predicted', fill=True)\n",
        "plt.xlabel('Delivery time')\n",
        "plt.ylabel('Density')\n",
        "plt.title('Distribution Plot')\n",
        "plt.legend()\n",
        "plt.show()"
      ],
      "metadata": {
        "colab": {
          "base_uri": "https://localhost:8080/",
          "height": 564
        },
        "id": "sGlOLogffTBs",
        "outputId": "f2db4bdd-8e51-4791-cbc7-e1ca28580955"
      },
      "execution_count": 167,
      "outputs": [
        {
          "output_type": "display_data",
          "data": {
            "text/plain": [
              "<Figure size 1000x600 with 1 Axes>"
            ],
            "image/png": "[encoded data removed]"
          },
          "metadata": {}
        }
      ]
    },
    {
      "cell_type": "code",
      "source": [
        "fig, ax = plt.subplots(figsize=(10, 6))\n",
        "sns.histplot(residuals, bins=100, color='green', kde=True, ax=ax)\n",
        "ax.set_xlabel('Residuals')\n",
        "ax.set_ylabel('Frequency')\n",
        "ax.set_title('Histogram of Residuals')\n",
        "ax.set_xlim((-0.5, 0.5))\n",
        "sns.despine()\n",
        "plt.show()"
      ],
      "metadata": {
        "colab": {
          "base_uri": "https://localhost:8080/",
          "height": 564
        },
        "id": "s_BTEQg0fn6S",
        "outputId": "c029b8f2-b761-44ac-bb54-f973f00224d2"
      },
      "execution_count": 148,
      "outputs": [
        {
          "output_type": "display_data",
          "data": {
            "text/plain": [
              "<Figure size 1000x600 with 1 Axes>"
            ],
            "image/png": "[encoded data removed]"
          },
          "metadata": {}
        }
      ]
    },
    {
      "cell_type": "code",
      "source": [
        "within_threshold = (np.abs(y_pred.ravel() - y_test.ravel()) < 0.00000000001).mean() #0.1 = 2.4 hours\n",
        "outside_threshold = 1 - within_threshold\n",
        "fig, ax = plt.subplots()\n",
        "labels = ['Within threshold', 'Outside threshold']\n",
        "sizes = [within_threshold, outside_threshold]\n",
        "colors = ['#1f77b4', '#ff7f0e']\n",
        "plt.pie(sizes, labels=labels, colors=colors, autopct='%1.1f%%', startangle=90)\n",
        "plt.title('Percentage of Predictions Within Threshold', fontsize=13)\n",
        "plt.show()"
      ],
      "metadata": {
        "colab": {
          "base_uri": "https://localhost:8080/",
          "height": 428
        },
        "id": "-EzD66Ylf2Lc",
        "outputId": "8f8fbf27-5ab9-4113-e4c1-6f5f240c8b61"
      },
      "execution_count": 131,
      "outputs": [
        {
          "output_type": "display_data",
          "data": {
            "text/plain": [
              "<Figure size 640x480 with 1 Axes>"
            ],
            "image/png": "[encoded data removed]"
          },
          "metadata": {}
        }
      ]
    },
    {
      "cell_type": "code",
      "source": [
        "import statsmodels.api as sm\n",
        "\n",
        "fig, ax = plt.subplots()\n",
        "sm.qqplot(residuals, line='s', ax=ax)\n",
        "ax.set_title('QQ Plot')\n",
        "plt.xlabel('Theoretical Quantiles')\n",
        "plt.ylabel('Sample Quantiles')\n",
        "plt.show()"
      ],
      "metadata": {
        "colab": {
          "base_uri": "https://localhost:8080/",
          "height": 472
        },
        "id": "Ahq37L2ngGYr",
        "outputId": "77906f94-a23a-40d5-db6c-bfd335574044"
      },
      "execution_count": null,
      "outputs": [
        {
          "output_type": "display_data",
          "data": {
            "text/plain": [
              "<Figure size 640x480 with 1 Axes>"
            ],
            "image/png": "[encoded data removed]"
          },
          "metadata": {}
        }
      ]
    },
    {
      "cell_type": "markdown",
      "source": [
        "# nn\n"
      ],
      "metadata": {
        "id": "XhEP7wWNg7_j"
      }
    },
    {
      "cell_type": "code",
      "source": [],
      "metadata": {
        "id": "vpLTFiRHg85u"
      },
      "execution_count": null,
      "outputs": []
    },
    {
      "cell_type": "code",
      "execution_count": null,
      "metadata": {
        "id": "BgvD4php86f_"
      },
      "outputs": [],
      "source": [
        "from keras.models import Sequential\n",
        "from keras.layers import Dense, Dropout\n",
        "from keras import regularizers\n",
        "from keras.callbacks import EarlyStopping, ModelCheckpoint\n",
        "from sklearn.metrics import mean_squared_error\n",
        "from sklearn.model_selection import train_test_split\n",
        "from sklearn.preprocessing import StandardScaler\n",
        "import numpy as np\n",
        "from keras.optimizers import SGD\n",
        "from keras.optimizers import Adagrad\n",
        "\n",
        "# Define the neural network architecture\n",
        "model = Sequential()\n",
        "model.add(Dense(516, input_dim=X_train.shape[1], activation='relu', kernel_regularizer=regularizers.l2(0.01)))\n",
        "model.add(Dense(256, activation='relu', kernel_regularizer=regularizers.l2(0.01)))\n",
        "model.add(Dense(128, activation='relu', kernel_regularizer=regularizers.l2(0.01)))\n",
        "model.add(Dense(64, activation='relu', kernel_regularizer=regularizers.l2(0.01)))\n",
        "model.add(Dense(32, activation='relu', kernel_regularizer=regularizers.l2(0.01))) \n",
        "#model.add(Dense(16, activation='relu', kernel_regularizer=regularizers.l2(0.01)))\n",
        "#model.add(Dense(8, activation='relu', kernel_regularizer=regularizers.l2(0.01)))\n",
        "model.add(Dense(1, activation='linear'))\n",
        "\n",
        "# Compile the model with mean squared error loss function and Adam optimizer\n",
        "model.compile(loss='mean_squared_error', optimizer=Adagrad(learning_rate=0.01), metrics=['mean_squared_error'])\n",
        "\n",
        "# Define the early stopping and model checkpoint callbacks\n",
        "early_stopping = EarlyStopping(monitor='val_mean_squared_error', patience=10, verbose=2, mode='min')\n",
        "model_checkpoint = ModelCheckpoint('/content/drive/MyDrive/University/Deloitte/models_lr/nn3.h5', monitor='val_mean_squared_error', save_best_only=True, mode='min')\n",
        "\n",
        "# Fit the model to the training data with early stopping and model checkpoint callbacks\n",
        "history = model.fit(X_train, y_train, epochs=100, batch_size=64, validation_data=(X_test, y_test), verbose=2, callbacks=[early_stopping, model_checkpoint])\n",
        "\n",
        "# Evaluate the model on the test data\n",
        "loss, mse = model.evaluate(X_test, y_test, verbose=0)\n",
        "print('Mean Squared Error on test set: {:.4f}'.format(mse))\n",
        "\n",
        "# Plot the training and validation loss over epochs\n",
        "import matplotlib.pyplot as plt\n",
        "plt.plot(np.sqrt(history.history['mean_squared_error']), label='training mse')\n",
        "plt.plot(np.sqrt(history.history['val_mean_squared_error']), label='validation mse')\n",
        "plt.xlabel('Epoch')\n",
        "plt.ylabel('MSE')\n",
        "plt.legend()\n",
        "plt.show()\n",
        "\n",
        "loss, mse = model.evaluate(X_test, y_test, verbose=0)\n",
        "\n",
        "print(f'rMSE :{np.sqrt(mse)}, MSE: {mse}, Loss: {loss}')"
      ]
    }
  ],
  "metadata": {
    "accelerator": "GPU",
    "colab": {
      "collapsed_sections": [
        "orgvMZprijUi",
        "po83a1LzaB_s",
        "eWw2dp9MeOTe",
        "RbisUTEaeX1J",
        "XhEP7wWNg7_j"
      ],
      "provenance": [],
      "authorship_tag": "ABX9TyMmLnZ2EiLvt4ub8l8C2OuS",
      "include_colab_link": true
    },
    "gpuClass": "standard",
    "kernelspec": {
      "display_name": "Python 3",
      "name": "python3"
    },
    "language_info": {
      "name": "python"
    }
  },
  "nbformat": 4,
  "nbformat_minor": 0
}