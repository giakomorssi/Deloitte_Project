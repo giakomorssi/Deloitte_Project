{
  "cells": [
    {
      "cell_type": "markdown",
      "metadata": {
        "id": "view-in-github",
        "colab_type": "text"
      },
      "source": [
        "<a href=\"https://colab.research.google.com/github/giakomorssi/Deloitte_Project/blob/main/02_Prediction.ipynb\" target=\"_parent\"><img src=\"https://colab.research.google.com/assets/colab-badge.svg\" alt=\"Open In Colab\"/></a>"
      ]
    },
    {
      "cell_type": "markdown",
      "metadata": {
        "id": "orgvMZprijUi"
      },
      "source": [
        "# Import the Data"
      ]
    },
    {
      "cell_type": "code",
      "execution_count": null,
      "metadata": {
        "colab": {
          "base_uri": "https://localhost:8080/"
        },
        "id": "3YbdOFcuimXI",
        "outputId": "15583c5e-be99-443a-f605-cb13c4b78bf3"
      },
      "outputs": [
        {
          "output_type": "stream",
          "name": "stdout",
          "text": [
            "Mounted at /content/drive\n",
            "Runtime switched to GPU\n",
            "GPU device found: /device:GPU:0\n",
            "Default GPU Device: /device:GPU:0\n",
            "\u001b[2K     \u001b[90m━━━━━━━━━━━━━━━━━━━━━━━━━━━━━━━━━━━━━━━━\u001b[0m \u001b[32m81.2/81.2 kB\u001b[0m \u001b[31m3.9 MB/s\u001b[0m eta \u001b[36m0:00:00\u001b[0m\n",
            "\u001b[?25h"
          ]
        }
      ],
      "source": [
        "from google.colab import drive\n",
        "drive.mount('/content/drive')\n",
        "\n",
        "from sklearn.metrics import mean_squared_error\n",
        "\n",
        "import pandas as pd\n",
        "\n",
        "# Change Colab runtime to GPU\n",
        "import os\n",
        "os.environ['COLAB_TPU_ADDR'] = ''\n",
        "os.environ['COLAB_GPU_ALLOC'] = '1'\n",
        "os.environ['COLAB_GPU'] = '1'\n",
        "print(\"Runtime switched to GPU\")\n",
        "\n",
        "import tensorflow as tf\n",
        "\n",
        "if not tf.test.gpu_device_name():\n",
        "    print('GPU device not found')\n",
        "else:\n",
        "    print('GPU device found:', tf.test.gpu_device_name())\n",
        "\n",
        "# This code sets the runtime to use the GPU if available\n",
        "if tf.test.gpu_device_name():\n",
        "    print('Default GPU Device: {}'.format(tf.test.gpu_device_name()))\n",
        "else:\n",
        "    print(\"Please install GPU version of TF\")\n",
        "\n",
        "pd.set_option('display.max_columns', None)\n",
        "\n",
        "!pip install -q category_encoders"
      ]
    },
    {
      "cell_type": "code",
      "execution_count": null,
      "metadata": {
        "id": "LKG4GTnhisz4"
      },
      "outputs": [],
      "source": [
        "df = pd.read_csv('/content/drive/MyDrive/University/Deloitte/SupplyChainDataset.csv', encoding = 'latin-1')"
      ]
    },
    {
      "cell_type": "markdown",
      "source": [
        "# Old System"
      ],
      "metadata": {
        "id": "po83a1LzaB_s"
      }
    },
    {
      "cell_type": "code",
      "source": [
        "import seaborn as sns\n",
        "import matplotlib.pyplot as plt\n",
        "\n",
        "df['expect_real'] = df['Days for shipment (scheduled)'] - df['Days for shipping (real)']\n",
        "\n",
        "sns.histplot(df['expect_real'])\n",
        "plt.xlabel('Days for shipment (scheduled) - Days for shipping (real)')\n",
        "plt.ylabel('Count')\n",
        "plt.show()"
      ],
      "metadata": {
        "colab": {
          "base_uri": "https://localhost:8080/",
          "height": 449
        },
        "id": "nyiMxAREaD1p",
        "outputId": "2c9a67f9-0b59-44fa-93e4-1f4c4cb4da08"
      },
      "execution_count": 13,
      "outputs": [
        {
          "output_type": "display_data",
          "data": {
            "text/plain": [
              "<Figure size 640x480 with 1 Axes>"
            ],
            "image/png": "[encoded data removed]"
          },
          "metadata": {}
        }
      ]
    },
    {
      "cell_type": "markdown",
      "metadata": {
        "id": "eWw2dp9MeOTe"
      },
      "source": [
        "# Cleaning the Data"
      ]
    },
    {
      "cell_type": "code",
      "execution_count": null,
      "metadata": {
        "id": "PzGJHtMaeF0i"
      },
      "outputs": [],
      "source": [
        "# Remove Na and Empty Columns\n",
        "\n",
        "df.drop(['Product Description', 'Order Zipcode', 'Order Profit Per Order', 'Customer Email', 'Customer Password', 'Customer Country', 'Customer Id', 'Customer Fname', 'Customer Lname', 'Customer Street', 'Order Country', 'Product Card Id', 'Product Category Id', 'Product Image', 'Customer State', 'shipping date (DateOrders)', 'order date (DateOrders)'], axis = 1, inplace = True) \n",
        "df.dropna(inplace = True) #remove 1 missing value"
      ]
    },
    {
      "cell_type": "markdown",
      "metadata": {
        "id": "RbisUTEaeX1J"
      },
      "source": [
        "## Encoding"
      ]
    },
    {
      "cell_type": "markdown",
      "metadata": {
        "id": "fnVQgjIrefSP"
      },
      "source": [
        "### Label Encoding"
      ]
    },
    {
      "cell_type": "code",
      "execution_count": null,
      "metadata": {
        "id": "QHMxOu0xevti"
      },
      "outputs": [],
      "source": [
        "from sklearn.model_selection import train_test_split\n",
        "\n",
        "X = df.drop(['Days for shipping (real)', 'Product Name'], axis = 1)\n",
        "y = df['Days for shipping (real)']"
      ]
    },
    {
      "cell_type": "code",
      "execution_count": null,
      "metadata": {
        "id": "PDM9u2iYib2M"
      },
      "outputs": [],
      "source": [
        "X_train, X_test, y_train, y_test = train_test_split(X, y, test_size=0.2)"
      ]
    },
    {
      "cell_type": "code",
      "execution_count": null,
      "metadata": {
        "id": "KOBfHPEphRx7"
      },
      "outputs": [],
      "source": [
        "import pandas as pd\n",
        "from category_encoders import LeaveOneOutEncoder\n",
        "\n",
        "# initialize the encoder\n",
        "enc = LeaveOneOutEncoder(cols=['Customer City', 'Order City', 'Order State', 'Order Region'])\n",
        "\n",
        "# fit and transform the entire dataset\n",
        "X_train = enc.fit_transform(X_train, y_train)\n",
        "X_test = enc.transform(X_test)"
      ]
    },
    {
      "cell_type": "code",
      "source": [
        "from sklearn.preprocessing import OneHotEncoder\n",
        "\n",
        "# Select columns for one-hot encoding\n",
        "one_hot_cols = [0, 7, 9, 12, 15, 30]\n",
        "# Type, Department Name, Category Name, Market, Order Status, Customer Segment\n",
        "\n",
        "# Fit one-hot encoder to training data\n",
        "one_hot_encoder = OneHotEncoder(handle_unknown=\"ignore\")\n",
        "\n",
        "# Apply one-hot encoder to training and test data\n",
        "X_train_one_hot = one_hot_encoder.fit_transform(X_train.iloc[:, one_hot_cols])\n",
        "X_test_one_hot = one_hot_encoder.transform(X_test.iloc[:, one_hot_cols])\n",
        "\n",
        "# Remove original columns from training and test data\n",
        "X_train = X_train.drop(X_train.columns[one_hot_cols], axis=1)\n",
        "X_test = X_test.drop(X_test.columns[one_hot_cols], axis=1)\n",
        "\n",
        "# Concatenate one-hot encoded columns with remaining data\n",
        "X_train = pd.concat([pd.DataFrame(X_train_one_hot.toarray()), X_train.reset_index(drop=True)], axis=1)\n",
        "X_test = pd.concat([pd.DataFrame(X_test_one_hot.toarray()), X_test.reset_index(drop=True)], axis=1)"
      ],
      "metadata": {
        "id": "Wxy0wa1wsKpA"
      },
      "execution_count": null,
      "outputs": []
    },
    {
      "cell_type": "code",
      "execution_count": null,
      "metadata": {
        "id": "Ly4l3rMgedcK"
      },
      "outputs": [],
      "source": [
        "from sklearn.preprocessing import LabelEncoder\n",
        "\n",
        "le = LabelEncoder()\n",
        "\n",
        "# Shipping Mode\n",
        "custom_order = ['Same Day', 'First Class', 'Second Class', 'Standard Class']\n",
        "le.fit(custom_order)\n",
        "X_train['Shipping Mode'] = le.fit_transform(X_train['Shipping Mode'])\n",
        "X_test['Shipping Mode'] = le.transform(X_test['Shipping Mode'])\n",
        "\n",
        "# Delivery Status\n",
        "# Define the custom order\n",
        "custom_order = ['Shipping on time', 'Advance shipping', 'Late delivery', 'Shipping canceled']\n",
        "le.fit(custom_order)\n",
        "X_train['Delivery Status'] = le.fit_transform(X_train['Delivery Status'])\n",
        "X_test['Delivery Status'] = le.transform(X_test['Delivery Status'])"
      ]
    },
    {
      "cell_type": "markdown",
      "metadata": {
        "id": "LKD99kAWo78q"
      },
      "source": [
        "## Scale the Data"
      ]
    },
    {
      "cell_type": "code",
      "execution_count": null,
      "metadata": {
        "colab": {
          "base_uri": "https://localhost:8080/"
        },
        "id": "u3_PeKvho9h7",
        "outputId": "34b1760f-6c7e-4a43-9d1f-c59b26d333c4"
      },
      "outputs": [
        {
          "output_type": "stream",
          "name": "stderr",
          "text": [
            "<ipython-input-9-6700864cfc85>:5: DeprecationWarning: In a future version, `df.iloc[:, i] = newvals` will attempt to set the values inplace instead of always setting a new array. To retain the old behavior, use either `df[df.columns[i]] = newvals` or, if columns are non-unique, `df.isetitem(i, newvals)`\n",
            "  X_train.iloc[:, 82:] = scaler.fit_transform(X_train.iloc[:, 82:])\n",
            "<ipython-input-9-6700864cfc85>:6: DeprecationWarning: In a future version, `df.iloc[:, i] = newvals` will attempt to set the values inplace instead of always setting a new array. To retain the old behavior, use either `df[df.columns[i]] = newvals` or, if columns are non-unique, `df.isetitem(i, newvals)`\n",
            "  X_test.iloc[:, 82:] = scaler.transform(X_test.iloc[:, 82:])\n"
          ]
        }
      ],
      "source": [
        "from sklearn.preprocessing import StandardScaler\n",
        "\n",
        "scaler = StandardScaler()\n",
        "\n",
        "X_train.iloc[:, 82:] = scaler.fit_transform(X_train.iloc[:, 82:])\n",
        "X_test.iloc[:, 82:] = scaler.transform(X_test.iloc[:, 82:])"
      ]
    },
    {
      "cell_type": "code",
      "source": [
        "import pandas as pd\n",
        "import numpy as np\n",
        "import pickle\n",
        "\n",
        "# Split the dataset into features and target\n",
        "X_train = pd.DataFrame(X_train)\n",
        "X_test = pd.DataFrame(X_test)\n",
        "y_train = pd.DataFrame(y_train)\n",
        "y_train = np.ravel(y_train)\n",
        "\n",
        "X_train.columns = X_train.columns.astype(str)\n",
        "X_test.columns = X_test.columns.astype(str)"
      ],
      "metadata": {
        "id": "ocJmtCbxu7UT"
      },
      "execution_count": null,
      "outputs": []
    },
    {
      "cell_type": "markdown",
      "metadata": {
        "id": "sFjf5jaOe6g7"
      },
      "source": [
        "# Prediction"
      ]
    },
    {
      "cell_type": "markdown",
      "metadata": {
        "id": "VQxfil1yfMci"
      },
      "source": [
        "## Choosing the Model"
      ]
    },
    {
      "cell_type": "code",
      "execution_count": null,
      "metadata": {
        "id": "BgvD4php86f_",
        "colab": {
          "base_uri": "https://localhost:8080/",
          "height": 1000
        },
        "outputId": "8fcffeaf-dc1b-4d29-b3ad-14c6bbed7c27"
      },
      "outputs": [
        {
          "output_type": "stream",
          "name": "stdout",
          "text": [
            "Epoch 1/100\n",
            "2257/2257 - 14s - loss: 1.0233 - mean_squared_error: 0.4961 - val_loss: 0.5201 - val_mean_squared_error: 0.4008 - 14s/epoch - 6ms/step\n",
            "Epoch 2/100\n",
            "2257/2257 - 10s - loss: 0.4768 - mean_squared_error: 0.3879 - val_loss: 0.4497 - val_mean_squared_error: 0.3778 - 10s/epoch - 4ms/step\n",
            "Epoch 3/100\n",
            "2257/2257 - 10s - loss: 0.4485 - mean_squared_error: 0.3840 - val_loss: 0.4237 - val_mean_squared_error: 0.3644 - 10s/epoch - 4ms/step\n",
            "Epoch 4/100\n",
            "2257/2257 - 9s - loss: 0.4359 - mean_squared_error: 0.3792 - val_loss: 0.4345 - val_mean_squared_error: 0.3804 - 9s/epoch - 4ms/step\n",
            "Epoch 5/100\n",
            "2257/2257 - 10s - loss: 0.4307 - mean_squared_error: 0.3774 - val_loss: 0.4279 - val_mean_squared_error: 0.3762 - 10s/epoch - 4ms/step\n",
            "Epoch 6/100\n",
            "2257/2257 - 10s - loss: 0.4252 - mean_squared_error: 0.3738 - val_loss: 0.4408 - val_mean_squared_error: 0.3905 - 10s/epoch - 4ms/step\n",
            "Epoch 7/100\n",
            "2257/2257 - 13s - loss: 0.4222 - mean_squared_error: 0.3722 - val_loss: 0.4134 - val_mean_squared_error: 0.3640 - 13s/epoch - 6ms/step\n",
            "Epoch 8/100\n",
            "2257/2257 - 9s - loss: 0.4209 - mean_squared_error: 0.3721 - val_loss: 0.4142 - val_mean_squared_error: 0.3654 - 9s/epoch - 4ms/step\n",
            "Epoch 9/100\n",
            "2257/2257 - 9s - loss: 0.4196 - mean_squared_error: 0.3716 - val_loss: 0.4132 - val_mean_squared_error: 0.3658 - 9s/epoch - 4ms/step\n",
            "Epoch 10/100\n",
            "2257/2257 - 10s - loss: 0.4185 - mean_squared_error: 0.3713 - val_loss: 0.4132 - val_mean_squared_error: 0.3663 - 10s/epoch - 4ms/step\n",
            "Epoch 11/100\n",
            "2257/2257 - 10s - loss: 0.4186 - mean_squared_error: 0.3721 - val_loss: 0.4135 - val_mean_squared_error: 0.3668 - 10s/epoch - 4ms/step\n",
            "Epoch 12/100\n",
            "2257/2257 - 9s - loss: 0.4175 - mean_squared_error: 0.3716 - val_loss: 0.4109 - val_mean_squared_error: 0.3651 - 9s/epoch - 4ms/step\n",
            "Epoch 13/100\n",
            "2257/2257 - 10s - loss: 0.4169 - mean_squared_error: 0.3712 - val_loss: 0.4154 - val_mean_squared_error: 0.3703 - 10s/epoch - 4ms/step\n",
            "Epoch 14/100\n",
            "2257/2257 - 10s - loss: 0.4160 - mean_squared_error: 0.3709 - val_loss: 0.4124 - val_mean_squared_error: 0.3681 - 10s/epoch - 4ms/step\n",
            "Epoch 15/100\n",
            "2257/2257 - 9s - loss: 0.4154 - mean_squared_error: 0.3707 - val_loss: 0.4095 - val_mean_squared_error: 0.3653 - 9s/epoch - 4ms/step\n",
            "Epoch 16/100\n",
            "2257/2257 - 9s - loss: 0.4151 - mean_squared_error: 0.3710 - val_loss: 0.4139 - val_mean_squared_error: 0.3694 - 9s/epoch - 4ms/step\n",
            "Epoch 17/100\n",
            "2257/2257 - 10s - loss: 0.4149 - mean_squared_error: 0.3710 - val_loss: 0.4148 - val_mean_squared_error: 0.3707 - 10s/epoch - 4ms/step\n",
            "Epoch 18/100\n",
            "2257/2257 - 10s - loss: 0.4143 - mean_squared_error: 0.3708 - val_loss: 0.4176 - val_mean_squared_error: 0.3737 - 10s/epoch - 5ms/step\n",
            "Epoch 19/100\n",
            "2257/2257 - 9s - loss: 0.4143 - mean_squared_error: 0.3712 - val_loss: 0.4102 - val_mean_squared_error: 0.3671 - 9s/epoch - 4ms/step\n",
            "Epoch 20/100\n",
            "2257/2257 - 10s - loss: 0.4133 - mean_squared_error: 0.3705 - val_loss: 0.4070 - val_mean_squared_error: 0.3644 - 10s/epoch - 4ms/step\n",
            "Epoch 21/100\n",
            "2257/2257 - 10s - loss: 0.4127 - mean_squared_error: 0.3702 - val_loss: 0.4170 - val_mean_squared_error: 0.3746 - 10s/epoch - 4ms/step\n",
            "Epoch 22/100\n",
            "2257/2257 - 11s - loss: 0.4119 - mean_squared_error: 0.3698 - val_loss: 0.4117 - val_mean_squared_error: 0.3700 - 11s/epoch - 5ms/step\n",
            "Epoch 23/100\n",
            "2257/2257 - 9s - loss: 0.4115 - mean_squared_error: 0.3696 - val_loss: 0.4063 - val_mean_squared_error: 0.3648 - 9s/epoch - 4ms/step\n",
            "Epoch 24/100\n",
            "2257/2257 - 10s - loss: 0.4107 - mean_squared_error: 0.3691 - val_loss: 0.4079 - val_mean_squared_error: 0.3663 - 10s/epoch - 4ms/step\n",
            "Epoch 25/100\n",
            "2257/2257 - 10s - loss: 0.4100 - mean_squared_error: 0.3691 - val_loss: 0.4115 - val_mean_squared_error: 0.3705 - 10s/epoch - 4ms/step\n",
            "Epoch 26/100\n",
            "2257/2257 - 11s - loss: 0.4106 - mean_squared_error: 0.3700 - val_loss: 0.4026 - val_mean_squared_error: 0.3621 - 11s/epoch - 5ms/step\n",
            "Epoch 27/100\n",
            "2257/2257 - 9s - loss: 0.4092 - mean_squared_error: 0.3690 - val_loss: 0.4132 - val_mean_squared_error: 0.3731 - 9s/epoch - 4ms/step\n",
            "Epoch 28/100\n",
            "2257/2257 - 10s - loss: 0.4085 - mean_squared_error: 0.3687 - val_loss: 0.4067 - val_mean_squared_error: 0.3671 - 10s/epoch - 4ms/step\n",
            "Epoch 29/100\n",
            "2257/2257 - 10s - loss: 0.4085 - mean_squared_error: 0.3690 - val_loss: 0.4064 - val_mean_squared_error: 0.3669 - 10s/epoch - 4ms/step\n",
            "Epoch 30/100\n",
            "2257/2257 - 9s - loss: 0.4077 - mean_squared_error: 0.3685 - val_loss: 0.4012 - val_mean_squared_error: 0.3624 - 9s/epoch - 4ms/step\n",
            "Epoch 31/100\n",
            "2257/2257 - 10s - loss: 0.4077 - mean_squared_error: 0.3688 - val_loss: 0.4019 - val_mean_squared_error: 0.3634 - 10s/epoch - 4ms/step\n",
            "Epoch 32/100\n",
            "2257/2257 - 10s - loss: 0.4075 - mean_squared_error: 0.3688 - val_loss: 0.4005 - val_mean_squared_error: 0.3621 - 10s/epoch - 5ms/step\n",
            "Epoch 33/100\n",
            "2257/2257 - 10s - loss: 0.4066 - mean_squared_error: 0.3682 - val_loss: 0.4005 - val_mean_squared_error: 0.3625 - 10s/epoch - 4ms/step\n",
            "Epoch 34/100\n",
            "2257/2257 - 9s - loss: 0.4069 - mean_squared_error: 0.3688 - val_loss: 0.3993 - val_mean_squared_error: 0.3611 - 9s/epoch - 4ms/step\n",
            "Epoch 35/100\n",
            "2257/2257 - 10s - loss: 0.4059 - mean_squared_error: 0.3679 - val_loss: 0.4022 - val_mean_squared_error: 0.3645 - 10s/epoch - 5ms/step\n",
            "Epoch 36/100\n",
            "2257/2257 - 10s - loss: 0.4062 - mean_squared_error: 0.3685 - val_loss: 0.4045 - val_mean_squared_error: 0.3667 - 10s/epoch - 4ms/step\n",
            "Epoch 37/100\n",
            "2257/2257 - 11s - loss: 0.4059 - mean_squared_error: 0.3684 - val_loss: 0.4076 - val_mean_squared_error: 0.3704 - 11s/epoch - 5ms/step\n",
            "Epoch 38/100\n",
            "2257/2257 - 9s - loss: 0.4053 - mean_squared_error: 0.3680 - val_loss: 0.4007 - val_mean_squared_error: 0.3636 - 9s/epoch - 4ms/step\n",
            "Epoch 39/100\n",
            "2257/2257 - 12s - loss: 0.4054 - mean_squared_error: 0.3684 - val_loss: 0.3982 - val_mean_squared_error: 0.3615 - 12s/epoch - 5ms/step\n",
            "Epoch 40/100\n",
            "2257/2257 - 10s - loss: 0.4048 - mean_squared_error: 0.3681 - val_loss: 0.4027 - val_mean_squared_error: 0.3662 - 10s/epoch - 4ms/step\n",
            "Epoch 41/100\n",
            "2257/2257 - 10s - loss: 0.4057 - mean_squared_error: 0.3690 - val_loss: 0.3989 - val_mean_squared_error: 0.3623 - 10s/epoch - 4ms/step\n",
            "Epoch 42/100\n",
            "2257/2257 - 9s - loss: 0.4048 - mean_squared_error: 0.3685 - val_loss: 0.3976 - val_mean_squared_error: 0.3614 - 9s/epoch - 4ms/step\n",
            "Epoch 43/100\n",
            "2257/2257 - 10s - loss: 0.4038 - mean_squared_error: 0.3677 - val_loss: 0.3979 - val_mean_squared_error: 0.3621 - 10s/epoch - 4ms/step\n",
            "Epoch 44/100\n",
            "2257/2257 - 10s - loss: 0.4041 - mean_squared_error: 0.3681 - val_loss: 0.3985 - val_mean_squared_error: 0.3628 - 10s/epoch - 4ms/step\n",
            "Epoch 45/100\n",
            "2257/2257 - 11s - loss: 0.4043 - mean_squared_error: 0.3686 - val_loss: 0.4065 - val_mean_squared_error: 0.3710 - 11s/epoch - 5ms/step\n",
            "Epoch 46/100\n",
            "2257/2257 - 9s - loss: 0.4037 - mean_squared_error: 0.3680 - val_loss: 0.3975 - val_mean_squared_error: 0.3617 - 9s/epoch - 4ms/step\n",
            "Epoch 47/100\n",
            "2257/2257 - 10s - loss: 0.4035 - mean_squared_error: 0.3679 - val_loss: 0.3991 - val_mean_squared_error: 0.3634 - 10s/epoch - 4ms/step\n",
            "Epoch 48/100\n",
            "2257/2257 - 10s - loss: 0.4029 - mean_squared_error: 0.3674 - val_loss: 0.3984 - val_mean_squared_error: 0.3634 - 10s/epoch - 4ms/step\n",
            "Epoch 49/100\n",
            "2257/2257 - 10s - loss: 0.4033 - mean_squared_error: 0.3680 - val_loss: 0.4015 - val_mean_squared_error: 0.3660 - 10s/epoch - 4ms/step\n",
            "Epoch 50/100\n",
            "2257/2257 - 9s - loss: 0.4028 - mean_squared_error: 0.3677 - val_loss: 0.4033 - val_mean_squared_error: 0.3682 - 9s/epoch - 4ms/step\n",
            "Epoch 51/100\n",
            "2257/2257 - 10s - loss: 0.4031 - mean_squared_error: 0.3681 - val_loss: 0.3974 - val_mean_squared_error: 0.3624 - 10s/epoch - 5ms/step\n",
            "Epoch 52/100\n",
            "2257/2257 - 11s - loss: 0.4024 - mean_squared_error: 0.3676 - val_loss: 0.3973 - val_mean_squared_error: 0.3624 - 11s/epoch - 5ms/step\n",
            "Epoch 53/100\n",
            "2257/2257 - 11s - loss: 0.4025 - mean_squared_error: 0.3676 - val_loss: 0.3983 - val_mean_squared_error: 0.3637 - 11s/epoch - 5ms/step\n",
            "Epoch 54/100\n",
            "2257/2257 - 9s - loss: 0.4023 - mean_squared_error: 0.3676 - val_loss: 0.3964 - val_mean_squared_error: 0.3618 - 9s/epoch - 4ms/step\n",
            "Epoch 54: early stopping\n",
            "Mean Squared Error on test set: 0.3618\n"
          ]
        },
        {
          "output_type": "display_data",
          "data": {
            "text/plain": [
              "<Figure size 640x480 with 1 Axes>"
            ],
            "image/png": "[encoded data removed]"
          },
          "metadata": {}
        }
      ],
      "source": [
        "from keras.models import Sequential\n",
        "from keras.layers import Dense, Dropout\n",
        "from keras import regularizers\n",
        "from keras.callbacks import EarlyStopping, ModelCheckpoint\n",
        "from sklearn.metrics import mean_squared_error\n",
        "from sklearn.model_selection import train_test_split\n",
        "from sklearn.preprocessing import StandardScaler\n",
        "import numpy as np\n",
        "\n",
        "# Define the neural network architecture\n",
        "model = Sequential()\n",
        "model.add(Dense(516, input_dim=X_train.shape[1], activation='relu', kernel_regularizer=regularizers.l2(0.005)))\n",
        "model.add(Dense(256, activation='relu', kernel_regularizer=regularizers.l2(0.005)))\n",
        "model.add(Dense(128, activation='relu', kernel_regularizer=regularizers.l2(0.005)))\n",
        "model.add(Dense(64, activation='relu', kernel_regularizer=regularizers.l2(0.005)))\n",
        "model.add(Dense(32, activation='relu', kernel_regularizer=regularizers.l2(0.005))) \n",
        "model.add(Dense(16, activation='relu', kernel_regularizer=regularizers.l2(0.005)))\n",
        "model.add(Dense(1, activation='linear'))\n",
        "\n",
        "# Compile the model with mean squared error loss function and Adam optimizer\n",
        "model.compile(loss='mean_squared_error', optimizer='adam', metrics=['mean_squared_error'])\n",
        "\n",
        "# Define the early stopping and model checkpoint callbacks\n",
        "early_stopping = EarlyStopping(monitor='val_mean_squared_error', patience=20, verbose=2, mode='min')\n",
        "model_checkpoint = ModelCheckpoint('/content/drive/MyDrive/University/Deloitte/models_lr/nn12 .h5', monitor='val_mean_squared_error', save_best_only=True, mode='min')\n",
        "\n",
        "# Fit the model to the training data with early stopping and model checkpoint callbacks\n",
        "history = model.fit(X_train, y_train, epochs=100, batch_size=64, validation_data=(X_test, y_test), verbose=2, callbacks=[early_stopping, model_checkpoint])\n",
        "\n",
        "# Evaluate the model on the test data\n",
        "loss, mse = model.evaluate(X_test, y_test, verbose=0)\n",
        "print('Mean Squared Error on test set: {:.4f}'.format(mse))\n",
        "\n",
        "# Plot the training and validation loss over epochs\n",
        "import matplotlib.pyplot as plt\n",
        "plt.plot(np.sqrt(history.history['mean_squared_error']), label='training mse')\n",
        "plt.plot(np.sqrt(history.history['val_mean_squared_error']), label='validation mse')\n",
        "plt.xlabel('Epoch')\n",
        "plt.ylabel('MSE')\n",
        "plt.legend()\n",
        "plt.show()"
      ]
    },
    {
      "cell_type": "code",
      "source": [
        "from keras.models import load_model\n",
        "import numpy as np\n",
        "\n",
        "model = load_model('/content/drive/MyDrive/University/Deloitte/models_lr/nn1.h5')\n",
        "\n",
        "loss, mse = model.evaluate(X_test, y_test, verbose=0)\n",
        "\n",
        "print(f'rMSE :{np.sqrt(mse)}, MSE: {mse}, Loss: {loss}')"
      ],
      "metadata": {
        "colab": {
          "base_uri": "https://localhost:8080/"
        },
        "id": "o4e-0Y73NtAu",
        "outputId": "f5c05b27-d1f5-4ad5-8de9-f1400b742757"
      },
      "execution_count": null,
      "outputs": [
        {
          "output_type": "stream",
          "name": "stdout",
          "text": [
            "rMSE :0.600909857508441, MSE: 0.3610926568508148, Loss: 0.39926594495773315\n"
          ]
        }
      ]
    }
  ],
  "metadata": {
    "accelerator": "GPU",
    "colab": {
      "collapsed_sections": [
        "orgvMZprijUi"
      ],
      "provenance": [],
      "authorship_tag": "ABX9TyNPFmHJwVe1fyTu3r8lLFsl",
      "include_colab_link": true
    },
    "gpuClass": "standard",
    "kernelspec": {
      "display_name": "Python 3",
      "name": "python3"
    },
    "language_info": {
      "name": "python"
    }
  },
  "nbformat": 4,
  "nbformat_minor": 0
}