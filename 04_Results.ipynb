{
  "nbformat": 4,
  "nbformat_minor": 0,
  "metadata": {
    "colab": {
      "provenance": [],
      "collapsed_sections": [
        "G0NB05FOP6Q0"
      ],
      "authorship_tag": "ABX9TyOtM65bw/754TKqgxlWGhIt",
      "include_colab_link": true
    },
    "kernelspec": {
      "name": "python3",
      "display_name": "Python 3"
    },
    "language_info": {
      "name": "python"
    }
  },
  "cells": [
    {
      "cell_type": "markdown",
      "metadata": {
        "id": "view-in-github",
        "colab_type": "text"
      },
      "source": [
        "<a href=\"https://colab.research.google.com/github/giakomorssi/Deloitte_Project/blob/main/04_Results.ipynb\" target=\"_parent\"><img src=\"https://colab.research.google.com/assets/colab-badge.svg\" alt=\"Open In Colab\"/></a>"
      ]
    },
    {
      "cell_type": "markdown",
      "source": [
        "# Results Fraud Detection"
      ],
      "metadata": {
        "id": "bSAgKcrxPvW9"
      }
    },
    {
      "cell_type": "code",
      "execution_count": null,
      "metadata": {
        "id": "Zm-vUV6TPuFz"
      },
      "outputs": [],
      "source": [
        "!rm -r Deloitte_Project\n",
        "!git clone https://github.com/giakomorssi/Deloitte_Project\n",
        "!pip install -q category_encoders\n",
        "import sys\n",
        "sys.path.append('/content/Deloitte_Project')\n",
        "from functions import fraud_detection\n",
        "\n",
        "fraud_detection('rf')"
      ]
    },
    {
      "cell_type": "markdown",
      "source": [
        "# Results Prediction Delivery"
      ],
      "metadata": {
        "id": "_F647M1lPwmr"
      }
    },
    {
      "cell_type": "code",
      "source": [
        "!rm -r Deloitte_Project\n",
        "!git clone https://github.com/giakomorssi/Deloitte_Project\n",
        "!pip install -q category_encoders\n",
        "import sys\n",
        "sys.path.append('/content/Deloitte_Project')\n",
        "from functions import prediction_100\n",
        "\n",
        "prediction_100('rf')"
      ],
      "metadata": {
        "id": "hCEMfW6uP3qK"
      },
      "execution_count": null,
      "outputs": []
    },
    {
      "cell_type": "markdown",
      "source": [
        "## Visualizations"
      ],
      "metadata": {
        "id": "G0NB05FOP6Q0"
      }
    },
    {
      "cell_type": "code",
      "source": [
        "# Distribution plot\n",
        "\n",
        "import seaborn as sns\n",
        "import matplotlib.pyplot as plt\n",
        "\n",
        "sns.set_palette('colorblind')\n",
        "\n",
        "# Set style for the plot\n",
        "sns.set_style('darkgrid')\n",
        "\n",
        "# Create a distribution plot\n",
        "sns.kdeplot(y_test, label='Actual', fill=True)\n",
        "sns.kdeplot(y_pred, label='Predicted', fill=True)\n",
        "plt.xlabel('Delivery time')\n",
        "plt.ylabel('Density')\n",
        "plt.title('Distribution Plot')\n",
        "plt.legend()\n",
        "plt.show()"
      ],
      "metadata": {
        "id": "5KcrXtFhP-6z"
      },
      "execution_count": null,
      "outputs": []
    },
    {
      "cell_type": "code",
      "source": [
        "# Plot a histogram of the residuals\n",
        "\n",
        "import seaborn as sns\n",
        "import matplotlib.pyplot as plt\n",
        "\n",
        "# Set style for the plot\n",
        "sns.set_style('darkgrid')\n",
        "\n",
        "# Create figure and axis objects\n",
        "fig, ax = plt.subplots(figsize=(10, 6))\n",
        "\n",
        "# Plot histogram with specified number of bins and color\n",
        "sns.histplot(residuals, bins=100, color='green', kde=True, ax=ax)\n",
        "\n",
        "# Set labels and title\n",
        "ax.set_xlabel('Residuals')\n",
        "ax.set_ylabel('Frequency')\n",
        "ax.set_title('Histogram of Residuals')\n",
        "ax.set_xlim((-7, 7))\n",
        "\n",
        "# Remove top and right spines\n",
        "sns.despine()\n",
        "\n",
        "# Show the plot\n",
        "plt.show()"
      ],
      "metadata": {
        "id": "yzqYoAOzQATU"
      },
      "execution_count": null,
      "outputs": []
    },
    {
      "cell_type": "code",
      "source": [
        "# Top 10 Feature Importances\n",
        "\n",
        "import matplotlib.pyplot as plt\n",
        "import seaborn as sns\n",
        "import pickle\n",
        "\n",
        "# get the feature importances\n",
        "importances = model.feature_importances_\n",
        "\n",
        "# sort the features by importance\n",
        "sorted_idx = importances.argsort()[::-1]\n",
        "\n",
        "# set style for the plot\n",
        "sns.set_style('darkgrid')\n",
        "\n",
        "# select the top 10 features\n",
        "top_features = X.columns[sorted_idx][:10]\n",
        "top_importances = importances[sorted_idx][:10]\n",
        "\n",
        "# create a figure and axis objects\n",
        "fig, ax = plt.subplots(figsize=(8, 4))\n",
        "\n",
        "# create a bar chart of the top 10 features\n",
        "sns.barplot(x=top_features, y=top_importances, ax=ax, color='steelblue')\n",
        "\n",
        "# set x-axis label and rotate labels for readability\n",
        "ax.set_xlabel('Feature', fontsize=14)\n",
        "ax.set_xticklabels(top_features, rotation=90, ha='right', fontsize=10)\n",
        "\n",
        "# set y-axis label and tick labels\n",
        "ax.set_ylabel('Importance Score', fontsize=14)\n",
        "ax.tick_params(axis='y', labelsize=12)\n",
        "\n",
        "# set title\n",
        "ax.set_title('Top 10 Feature Importances', fontsize=16)\n",
        "\n",
        "# remove top and right spines\n",
        "sns.despine()\n",
        "\n",
        "# show the plot\n",
        "plt.show()"
      ],
      "metadata": {
        "id": "k6cvSFDUQCKW"
      },
      "execution_count": null,
      "outputs": []
    },
    {
      "cell_type": "code",
      "source": [
        "import matplotlib.pyplot as plt\n",
        "\n",
        "# Set the threshold value\n",
        "threshold = 0.5\n",
        "\n",
        "# Get the predicted values\n",
        "y_pred = model.predict(X_test)\n",
        "\n",
        "# Calculate the percentage of predictions within the threshold value\n",
        "within_threshold = (np.abs(y_pred - y_test) < threshold).mean()\n",
        "\n",
        "# Calculate the percentage of predictions outside the threshold value\n",
        "outside_threshold = 1 - within_threshold\n",
        "\n",
        "# Create a pie chart\n",
        "fig, ax = plt.subplots()\n",
        "labels = ['Within threshold', 'Outside threshold']\n",
        "sizes = [within_threshold, outside_threshold]\n",
        "colors = ['#1f77b4', '#ff7f0e']\n",
        "plt.pie(sizes, labels=labels, colors=colors, autopct='%1.1f%%', startangle=90)\n",
        "\n",
        "# Add a title\n",
        "plt.title('Percentage of Predictions Within 0.5 Days of Delivery', fontsize=13)\n",
        "\n",
        "# Show the plot\n",
        "plt.show()"
      ],
      "metadata": {
        "id": "6qfXDAAxQD3Z"
      },
      "execution_count": null,
      "outputs": []
    },
    {
      "cell_type": "code",
      "source": [
        "import statsmodels.api as sm\n",
        "from statsmodels.graphics.gofplots import qqplot\n",
        "\n",
        "# Get the residuals\n",
        "residuals = y_test - y_pred\n",
        "\n",
        "# Create a QQ plot\n",
        "qqplot(residuals, line='s')\n",
        "\n",
        "# Add title and axis labels\n",
        "plt.title('QQ Plot of Residuals')\n",
        "plt.xlabel('Theoretical Quantiles')\n",
        "plt.ylabel('Sample Quantiles')\n",
        "\n",
        "# Show the plot\n",
        "plt.show()"
      ],
      "metadata": {
        "id": "OVihPIfnQFau"
      },
      "execution_count": null,
      "outputs": []
    }
  ]
}