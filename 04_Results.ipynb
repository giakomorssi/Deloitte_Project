{
  "nbformat": 4,
  "nbformat_minor": 0,
  "metadata": {
    "colab": {
      "provenance": [],
      "collapsed_sections": [
        "_F647M1lPwmr"
      ],
      "authorship_tag": "ABX9TyOO/7KLa7SI31ZM4NFkEWQe",
      "include_colab_link": true
    },
    "kernelspec": {
      "name": "python3",
      "display_name": "Python 3"
    },
    "language_info": {
      "name": "python"
    }
  },
  "cells": [
    {
      "cell_type": "markdown",
      "metadata": {
        "id": "view-in-github",
        "colab_type": "text"
      },
      "source": [
        "<a href=\"https://colab.research.google.com/github/giakomorssi/Deloitte_Project/blob/main/04_Results.ipynb\" target=\"_parent\"><img src=\"https://colab.research.google.com/assets/colab-badge.svg\" alt=\"Open In Colab\"/></a>"
      ]
    },
    {
      "cell_type": "markdown",
      "source": [
        "# Results Prediction Delivery"
      ],
      "metadata": {
        "id": "_F647M1lPwmr"
      }
    },
    {
      "cell_type": "code",
      "source": [
        "!rm -r Deloitte_Project\n",
        "!git clone https://github.com/giakomorssi/Deloitte_Project\n",
        "!pip install -q category_encoders\n",
        "import sys\n",
        "sys.path.append('/content/Deloitte_Project')\n",
        "from functions import prediction_h5\n",
        "from functions import prediction_pkl\n",
        "\n",
        "prediction_h5('nn1.h5')"
      ],
      "metadata": {
        "id": "hCEMfW6uP3qK"
      },
      "execution_count": null,
      "outputs": []
    },
    {
      "cell_type": "code",
      "source": [
        "!rm -r Deloitte_Project\n",
        "!git clone https://github.com/giakomorssi/Deloitte_Project\n",
        "!pip install -q category_encoders\n",
        "import sys\n",
        "sys.path.append('/content/Deloitte_Project')\n",
        "from functions import prediction_pkl\n",
        "\n",
        "prediction_pkl()"
      ],
      "metadata": {
        "id": "j4Pal_cIFyk_"
      },
      "execution_count": null,
      "outputs": []
    },
    {
      "cell_type": "markdown",
      "source": [
        "# Results Fraud Detection\n",
        "\n",
        "test on a part of test set not scaled"
      ],
      "metadata": {
        "id": "bSAgKcrxPvW9"
      }
    },
    {
      "cell_type": "code",
      "execution_count": 1,
      "metadata": {
        "id": "Zm-vUV6TPuFz",
        "colab": {
          "base_uri": "https://localhost:8080/"
        },
        "outputId": "5af85d83-dfcd-4b78-c8f9-6ca78388c0f2"
      },
      "outputs": [
        {
          "output_type": "stream",
          "name": "stdout",
          "text": [
            "Cloning into 'Deloitte_Project'...\n",
            "remote: Enumerating objects: 219, done.\u001b[K\n",
            "remote: Counting objects: 100% (98/98), done.\u001b[K\n",
            "remote: Compressing objects: 100% (96/96), done.\u001b[K\n",
            "remote: Total 219 (delta 55), reused 2 (delta 2), pack-reused 121\u001b[K\n",
            "Receiving objects: 100% (219/219), 3.40 MiB | 23.07 MiB/s, done.\n",
            "Resolving deltas: 100% (112/112), done.\n",
            "Drive already mounted at /content/drive; to attempt to forcibly remount, call drive.mount(\"/content/drive\", force_remount=True).\n",
            "\n",
            "Model: \n",
            " VotingClassifier(estimators=[('rf',\n",
            "                              RandomForestClassifier(class_weight='balanced',\n",
            "                                                     max_depth=4)),\n",
            "                             ('lr',\n",
            "                              LogisticRegression(class_weight='balanced',\n",
            "                                                 max_iter=1000))],\n",
            "                 voting='soft') \n",
            "\n",
            "Iteration: 10\n",
            "\n",
            " Fraud Recall: 0.9972, std: 0.0023\n",
            " Suspected Recall: 0.6291, std: 0.0055\n",
            " Regular Recall: 0.8769, std: 0.0035\n",
            " Total: 0.8344, std: 0.0022\n",
            "Precisions [0.2571 0.9305 0.6933]\n",
            "\n",
            " Average Confusion Matrix:\n",
            "[[8.0970e+02 5.0000e-01 1.8000e+00]\n",
            " [1.5914e+03 2.4807e+04 1.8904e+03]\n",
            " [7.1160e+02 1.8852e+03 4.4042e+03]]\n"
          ]
        }
      ],
      "source": [
        "!rm -r Deloitte_Project\n",
        "!git clone https://github.com/giakomorssi/Deloitte_Project\n",
        "!pip install -q category_encoders\n",
        "import sys\n",
        "sys.path.append('/content/Deloitte_Project')\n",
        "from functions import fraud_detection\n",
        "\n",
        "fraud_detection('voting_2.pkl')"
      ]
    },
    {
      "cell_type": "code",
      "source": [
        "!rm -r Deloitte_Project\n",
        "!git clone https://github.com/giakomorssi/Deloitte_Project\n",
        "!pip install -q category_encoders\n",
        "import sys\n",
        "sys.path.append('/content/Deloitte_Project')\n",
        "from functions import fraud_detection\n",
        "\n",
        "fraud_detection('voting_3.pkl')"
      ],
      "metadata": {
        "colab": {
          "base_uri": "https://localhost:8080/"
        },
        "id": "UX2AXCzfTZK9",
        "outputId": "aadc4542-11b9-470b-982b-a098897f7b6a"
      },
      "execution_count": 2,
      "outputs": [
        {
          "output_type": "stream",
          "name": "stdout",
          "text": [
            "Cloning into 'Deloitte_Project'...\n",
            "remote: Enumerating objects: 219, done.\u001b[K\n",
            "remote: Counting objects: 100% (98/98), done.\u001b[K\n",
            "remote: Compressing objects: 100% (96/96), done.\u001b[K\n",
            "remote: Total 219 (delta 55), reused 2 (delta 2), pack-reused 121\u001b[K\n",
            "Receiving objects: 100% (219/219), 3.40 MiB | 22.92 MiB/s, done.\n",
            "Resolving deltas: 100% (112/112), done.\n",
            "Drive already mounted at /content/drive; to attempt to forcibly remount, call drive.mount(\"/content/drive\", force_remount=True).\n",
            "\n",
            "Model: \n",
            " VotingClassifier(estimators=[('rf',\n",
            "                              RandomForestClassifier(class_weight='balanced',\n",
            "                                                     max_depth=4)),\n",
            "                             ('dt',\n",
            "                              DecisionTreeClassifier(class_weight='balanced',\n",
            "                                                     max_depth=4)),\n",
            "                             ('lr',\n",
            "                              LogisticRegression(class_weight='balanced',\n",
            "                                                 max_iter=1000))],\n",
            "                 voting='soft') \n",
            "\n",
            "Iteration: 10\n",
            "\n",
            " Fraud Recall: 0.9905, std: 0.0045\n",
            " Suspected Recall: 0.6118, std: 0.0071\n",
            " Regular Recall: 0.901, std: 0.0035\n",
            " Total: 0.8344, std: 0.0025\n",
            "Precisions [0.267  0.9282 0.7649]\n",
            "\n",
            " Average Confusion Matrix:\n",
            "[[8.0430e+02 5.1000e+00 2.6000e+00]\n",
            " [1.5538e+03 2.5488e+04 1.2474e+03]\n",
            " [6.8170e+02 2.0364e+03 4.2829e+03]]\n"
          ]
        }
      ]
    },
    {
      "cell_type": "code",
      "source": [
        "!rm -r Deloitte_Project\n",
        "!git clone https://github.com/giakomorssi/Deloitte_Project\n",
        "!pip install -q category_encoders\n",
        "import sys\n",
        "sys.path.append('/content/Deloitte_Project')\n",
        "from functions import fraud_detection\n",
        "\n",
        "fraud_detection('stacking.pkl')"
      ],
      "metadata": {
        "colab": {
          "base_uri": "https://localhost:8080/"
        },
        "id": "3lxuFZBITYD_",
        "outputId": "e8d64811-959e-4e1f-8360-6da69e16435e"
      },
      "execution_count": 3,
      "outputs": [
        {
          "output_type": "stream",
          "name": "stdout",
          "text": [
            "Cloning into 'Deloitte_Project'...\n",
            "remote: Enumerating objects: 219, done.\u001b[K\n",
            "remote: Counting objects: 100% (98/98), done.\u001b[K\n",
            "remote: Compressing objects: 100% (96/96), done.\u001b[K\n",
            "remote: Total 219 (delta 55), reused 2 (delta 2), pack-reused 121\u001b[K\n",
            "Receiving objects: 100% (219/219), 3.40 MiB | 23.38 MiB/s, done.\n",
            "Resolving deltas: 100% (112/112), done.\n",
            "Drive already mounted at /content/drive; to attempt to forcibly remount, call drive.mount(\"/content/drive\", force_remount=True).\n",
            "\n",
            "Model: \n",
            " StackingClassifier(estimators=[('rf',\n",
            "                                RandomForestClassifier(class_weight='balanced',\n",
            "                                                       max_depth=4)),\n",
            "                               ('lr',\n",
            "                                LogisticRegression(class_weight='balanced',\n",
            "                                                   max_iter=1000))],\n",
            "                   final_estimator=DecisionTreeClassifier()) \n",
            "\n",
            "Iteration: 10\n",
            "\n",
            " Fraud Recall: 0.569, std: 0.0313\n",
            " Suspected Recall: 0.6727, std: 0.0053\n",
            " Regular Recall: 0.8939, std: 0.006\n",
            " Total: 0.7119, std: 0.0127\n",
            "Precisions [0.5653 0.9292 0.5975]\n",
            "\n",
            " Average Confusion Matrix:\n",
            "[[  462.     35.5   314.5]\n",
            " [   38.2 25287.1  2963.7]\n",
            " [  361.1  1930.2  4709.7]]\n"
          ]
        }
      ]
    }
  ]
}