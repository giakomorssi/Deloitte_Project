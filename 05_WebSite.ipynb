{
  "nbformat": 4,
  "nbformat_minor": 0,
  "metadata": {
    "colab": {
      "provenance": [],
      "mount_file_id": "1LELcG_hy9JV3NfHduyxaVgm2icRd75-o",
      "authorship_tag": "ABX9TyMZazB1lMxefWR8s6yM0Rm4",
      "include_colab_link": true
    },
    "kernelspec": {
      "name": "python3",
      "display_name": "Python 3"
    },
    "language_info": {
      "name": "python"
    }
  },
  "cells": [
    {
      "cell_type": "markdown",
      "metadata": {
        "id": "view-in-github",
        "colab_type": "text"
      },
      "source": [
        "<a href=\"https://colab.research.google.com/github/giakomorssi/Deloitte_Project/blob/main/05_WebSite.ipynb\" target=\"_parent\"><img src=\"https://colab.research.google.com/assets/colab-badge.svg\" alt=\"Open In Colab\"/></a>"
      ]
    },
    {
      "cell_type": "code",
      "source": [
        "!pip install streamlit -q\n",
        "!pip install pyngrok -q\n",
        "\n",
        "from google.colab import drive\n",
        "drive.mount('/content/drive')\n",
        "\n",
        "!rm -r Deloitte_Project\n",
        "!git clone https://github.com/giakomorssi/Deloitte_Project -q\n",
        "!pip install -q category_encoders"
      ],
      "metadata": {
        "id": "2uViOOCHlTFY",
        "colab": {
          "base_uri": "https://localhost:8080/"
        },
        "outputId": "efdb2823-541b-49d6-b5ee-e4efddd5675a"
      },
      "execution_count": null,
      "outputs": [
        {
          "output_type": "stream",
          "name": "stdout",
          "text": [
            "Drive already mounted at /content/drive; to attempt to forcibly remount, call drive.mount(\"/content/drive\", force_remount=True).\n"
          ]
        }
      ]
    },
    {
      "cell_type": "code",
      "source": [
        "%%writefile results.py\n",
        "import streamlit as st\n",
        "from pyngrok import ngrok\n",
        "import pickle\n",
        "\n",
        "def page_home():\n",
        "    st.title(\"Deloitte Project\")\n",
        "\n",
        "    st.subheader(\"Team Members\")\n",
        "    st.write('Giacomo Rossi - 763391')\n",
        "    st.write('Daniele Fiorucci - 761461')\n",
        "    st.write('Costanza Placanica - 759641')\n",
        "\n",
        "    st.subheader(\"Project Description\")\n",
        "    st.write(\"Welcome to our website, where we offer state-of-the-art solutions for three critical tasks \\n - Fraud Detection,\\n - Logistic Delay Detection,\\n - Delivery Prediction.\")\n",
        "    \n",
        "    st.header(\"Fraud Detection\")\n",
        "    st.write(\"With our advanced fraud detection system, we help businesses identify and prevent fraudulent activities in their logistics operations. Our system is designed to detect patterns and anomalies in transactions, identify suspicious activities, and flag them for further investigation. This ensures that businesses can protect themselves from financial losses and maintain the integrity of their operations.\")\n",
        "    \n",
        "    st.header(\"Logistic Delay Detection\")\n",
        "    st.write(\"Logistic delays can be costly and disruptive to businesses. Our logistic delay detection system is designed to identify delays in real-time and provide alerts to logistics managers. This helps businesses take proactive measures to address the delays and keep their operations running smoothly. Our system uses advanced algorithms to analyze data from various sources, including transportation providers, weather forecasts, and traffic information, to identify potential delays.\")\n",
        "    \n",
        "    st.header(\"Delivery Prediction\")\n",
        "    st.write(\"With our delivery prediction system, businesses can provide accurate delivery estimates to their customers. Our system uses historical data and real-time information to predict delivery times accurately. This helps businesses improve customer satisfaction, reduce customer complaints, and optimize their logistics operations. Our system is highly customizable and can be tailored to meet the specific needs of each business.\")\n",
        "    \n",
        "    st.write(\"At our website, we are committed to providing high-quality solutions that help businesses improve their logistics operations. Contact us today to learn more about how we can help your business.\")\n",
        "\n",
        "def delivery():\n",
        "    import pandas as pd\n",
        "    from keras.models import load_model\n",
        "    import sys\n",
        "    sys.path.append('/content/Deloitte_Project')\n",
        "    from functions import prediction_pkl_st\n",
        "\n",
        "    # Load the dataframe and the model\n",
        "    df = pd.read_csv('SupplyChainDataset_prediction.csv')\n",
        "    with open('br.pkl', 'rb') as f:\n",
        "      model = pickle.load(f)\n",
        "\n",
        "    # Define the Streamlit app\n",
        "    st.title(\"Delivery Prediction\")\n",
        "    results = prediction_pkl_st(model, df)\n",
        "\n",
        "def fraud():\n",
        "    import pandas as pd\n",
        "    import seaborn as sns\n",
        "    from scipy.sparse import hstack\n",
        "    import pickle\n",
        "    from keras.models import load_model\n",
        "    import sys\n",
        "    sys.path.append('/content/Deloitte_Project')\n",
        "    from functions import fraud_detection_st\n",
        "\n",
        "    # Load the dataframe and the model\n",
        "    df = pd.read_csv('df_fraud.csv')\n",
        "    with open('vc.pkl', 'rb') as f:\n",
        "      model = pickle.load(f)\n",
        "\n",
        "    # Define the Streamlit app\n",
        "    st.title(\"Fraud Detection\")\n",
        "    results = fraud_detection_st(model, df)\n",
        "\n",
        "def delay():\n",
        "    import pandas as pd\n",
        "    from keras.models import load_model\n",
        "    import sys\n",
        "    import pickle\n",
        "    sys.path.append('/content/Deloitte_Project')\n",
        "    from functions import delay_detection_st\n",
        "\n",
        "    # Load the dataframe and the model\n",
        "    df = pd.read_csv('SupplyChainDataset_delay.csv')\n",
        "    with open(f'lr.pkl', 'rb') as f:\n",
        "        model = pickle.load(f)\n",
        "\n",
        "    # Define the Streamlit app\n",
        "    st.title(\"Delay Detection\")\n",
        "\n",
        "    results = delay_detection_st(model, df)\n",
        "\n",
        "# Define the Streamlit app\n",
        "st.set_page_config(page_title=\"Home\")\n",
        "\n",
        "# Define the sidebar menu options\n",
        "menu = [\"Home\", \"Delivery Prediction\", \"Fraud Detection\", \"Delay Detection\"]\n",
        "\n",
        "# Add a sidebar with menu options\n",
        "selection = st.sidebar.selectbox(\"Select a page\", menu)\n",
        "\n",
        "# Show the appropriate page based on the user's selection\n",
        "if selection == \"Home\":\n",
        "    page_home()\n",
        "elif selection == \"Delivery Prediction\":\n",
        "    delivery()\n",
        "elif selection == \"Fraud Detection\":\n",
        "    fraud()\n",
        "elif selection == \"Delay Detection\":\n",
        "    delay()"
      ],
      "metadata": {
        "colab": {
          "base_uri": "https://localhost:8080/"
        },
        "id": "8wiGrrb6J4AF",
        "outputId": "495efc2e-a8ff-43fd-bfd8-b06011ebbc70"
      },
      "execution_count": null,
      "outputs": [
        {
          "output_type": "stream",
          "name": "stdout",
          "text": [
            "Overwriting results.py\n"
          ]
        }
      ]
    },
    {
      "cell_type": "code",
      "source": [
        "!ngrok config add-authtoken 2Os9zzredbb8cwhJCvTOPcl2Klr_6h71Mwjp8SsE4jWhUjos5\n",
        "\n",
        "!wget https://bin.equinox.io/c/4VmDzA7iaHb/ngrok-stable-linux-amd64.zip\n",
        "\n",
        "!unzip ngrok-stable-linux-amd64.zip"
      ],
      "metadata": {
        "colab": {
          "base_uri": "https://localhost:8080/"
        },
        "id": "OgjPZiXLOLD1",
        "outputId": "ce2cc954-01a0-4325-d68a-779831502974"
      },
      "execution_count": null,
      "outputs": [
        {
          "output_type": "stream",
          "name": "stdout",
          "text": [
            "Authtoken saved to configuration file: /root/.ngrok2/ngrok.yml\n",
            "--2023-05-03 15:47:19--  https://bin.equinox.io/c/4VmDzA7iaHb/ngrok-stable-linux-amd64.zip\n",
            "Resolving bin.equinox.io (bin.equinox.io)... 18.205.222.128, 54.237.133.81, 52.202.168.65, ...\n",
            "Connecting to bin.equinox.io (bin.equinox.io)|18.205.222.128|:443... connected.\n",
            "HTTP request sent, awaiting response... 200 OK\n",
            "Length: 13921656 (13M) [application/octet-stream]\n",
            "Saving to: ‘ngrok-stable-linux-amd64.zip’\n",
            "\n",
            "ngrok-stable-linux- 100%[===================>]  13.28M  --.-KB/s    in 0.1s    \n",
            "\n",
            "2023-05-03 15:47:19 (122 MB/s) - ‘ngrok-stable-linux-amd64.zip’ saved [13921656/13921656]\n",
            "\n",
            "Archive:  ngrok-stable-linux-amd64.zip\n",
            "  inflating: ngrok                   \n"
          ]
        }
      ]
    },
    {
      "cell_type": "code",
      "source": [
        "get_ipython().system_raw('./ngrok http 8501 &')\n",
        "\n",
        "! curl -s http://localhost:4040/api/tunnels | python3 -c \\\n",
        "    \"import sys, json; print(json.load(sys.stdin)['tunnels'][0]['public_url'])\""
      ],
      "metadata": {
        "colab": {
          "base_uri": "https://localhost:8080/"
        },
        "id": "kcp4jvz6QC1V",
        "outputId": "dd6f2d70-6b76-4b74-a6cc-5b4c6c01c976"
      },
      "execution_count": null,
      "outputs": [
        {
          "output_type": "stream",
          "name": "stdout",
          "text": [
            "https://0fce-34-86-212-190.ngrok-free.app\n"
          ]
        }
      ]
    },
    {
      "cell_type": "code",
      "source": [
        "!streamlit run /content/results.py"
      ],
      "metadata": {
        "colab": {
          "base_uri": "https://localhost:8080/"
        },
        "id": "NQ6MiRrXOWtd",
        "outputId": "190622bf-697d-46c4-973b-fd9d4ba27086"
      },
      "execution_count": null,
      "outputs": [
        {
          "output_type": "stream",
          "name": "stdout",
          "text": [
            "\n",
            "Collecting usage statistics. To deactivate, set browser.gatherUsageStats to False.\n",
            "\u001b[0m\n",
            "\u001b[0m\n",
            "\u001b[34m\u001b[1m  You can now view your Streamlit app in your browser.\u001b[0m\n",
            "\u001b[0m\n",
            "\u001b[34m  Network URL: \u001b[0m\u001b[1mhttp://172.28.0.12:8501\u001b[0m\n",
            "\u001b[34m  External URL: \u001b[0m\u001b[1mhttp://34.86.212.190:8501\u001b[0m\n",
            "\u001b[0m\n",
            "2023-05-03 16:35:38.672061: I tensorflow/core/platform/cpu_feature_guard.cc:182] This TensorFlow binary is optimized to use available CPU instructions in performance-critical operations.\n",
            "To enable the following instructions: AVX2 FMA, in other operations, rebuild TensorFlow with the appropriate compiler flags.\n",
            "2023-05-03 16:35:40.751408: W tensorflow/compiler/tf2tensorrt/utils/py_utils.cc:38] TF-TRT Warning: Could not find TensorRT\n",
            "/usr/local/lib/python3.10/dist-packages/sklearn/base.py:439: UserWarning: X does not have valid feature names, but LogisticRegression was fitted with feature names\n",
            "  warnings.warn(\n",
            "/usr/local/lib/python3.10/dist-packages/sklearn/base.py:439: UserWarning: X does not have valid feature names, but LogisticRegression was fitted with feature names\n",
            "  warnings.warn(\n",
            "/usr/local/lib/python3.10/dist-packages/sklearn/base.py:439: UserWarning: X does not have valid feature names, but LogisticRegression was fitted with feature names\n",
            "  warnings.warn(\n",
            "/usr/local/lib/python3.10/dist-packages/sklearn/base.py:439: UserWarning: X does not have valid feature names, but LogisticRegression was fitted with feature names\n",
            "  warnings.warn(\n",
            "/usr/local/lib/python3.10/dist-packages/sklearn/base.py:439: UserWarning: X does not have valid feature names, but LogisticRegression was fitted with feature names\n",
            "  warnings.warn(\n",
            "/usr/local/lib/python3.10/dist-packages/sklearn/base.py:439: UserWarning: X does not have valid feature names, but LogisticRegression was fitted with feature names\n",
            "  warnings.warn(\n",
            "/usr/local/lib/python3.10/dist-packages/sklearn/base.py:439: UserWarning: X does not have valid feature names, but LogisticRegression was fitted with feature names\n",
            "  warnings.warn(\n",
            "/usr/local/lib/python3.10/dist-packages/sklearn/base.py:439: UserWarning: X does not have valid feature names, but LogisticRegression was fitted with feature names\n",
            "  warnings.warn(\n",
            "/usr/local/lib/python3.10/dist-packages/sklearn/base.py:439: UserWarning: X does not have valid feature names, but LogisticRegression was fitted with feature names\n",
            "  warnings.warn(\n",
            "/usr/local/lib/python3.10/dist-packages/sklearn/base.py:439: UserWarning: X does not have valid feature names, but LogisticRegression was fitted with feature names\n",
            "  warnings.warn(\n",
            "\u001b[34m  Stopping...\u001b[0m\n",
            "^C\n"
          ]
        }
      ]
    }
  ]
}